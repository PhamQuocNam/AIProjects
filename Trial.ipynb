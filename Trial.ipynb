{
 "cells": [
  {
   "cell_type": "markdown",
   "metadata": {},
   "source": [
    "# Import Libraries"
   ]
  },
  {
   "cell_type": "code",
   "execution_count": 1,
   "metadata": {},
   "outputs": [],
   "source": [
    "import torch\n",
    "import torch.nn as nn\n",
    "import numpy as np\n",
    "import pandas as pd\n",
    "\n",
    "from tokenizers import Tokenizer, trainers, pre_tokenizers, models\n",
    "from torch.utils.data import Dataset, DataLoader, random_split\n",
    "import re\n",
    "from tqdm import tqdm\n",
    "from sklearn.metrics import f1_score"
   ]
  },
  {
   "cell_type": "code",
   "execution_count": 3,
   "metadata": {},
   "outputs": [],
   "source": [
    "a=torch.tensor(1)"
   ]
  },
  {
   "cell_type": "code",
   "execution_count": 8,
   "metadata": {},
   "outputs": [
    {
     "data": {
      "text/plain": [
       "1"
      ]
     },
     "execution_count": 8,
     "metadata": {},
     "output_type": "execute_result"
    }
   ],
   "source": [
    "int(a)"
   ]
  },
  {
   "cell_type": "code",
   "execution_count": 99,
   "metadata": {},
   "outputs": [],
   "source": [
    "def text_normalize(text):\n",
    "    text= re.sub('[^A-Za-z0-9]+', ' ', text)\n",
    "    return text"
   ]
  },
  {
   "cell_type": "code",
   "execution_count": 100,
   "metadata": {},
   "outputs": [
    {
     "data": {
      "application/vnd.microsoft.datawrangler.viewer.v0+json": {
       "columns": [
        {
         "name": "index",
         "rawType": "int64",
         "type": "integer"
        },
        {
         "name": "id",
         "rawType": "int64",
         "type": "integer"
        },
        {
         "name": "Sentence",
         "rawType": "object",
         "type": "string"
        },
        {
         "name": "Aspect Term",
         "rawType": "object",
         "type": "string"
        },
        {
         "name": "polarity",
         "rawType": "object",
         "type": "string"
        },
        {
         "name": "from",
         "rawType": "int64",
         "type": "integer"
        },
        {
         "name": "to",
         "rawType": "int64",
         "type": "integer"
        }
       ],
       "conversionMethod": "pd.DataFrame",
       "ref": "43aefa2b-ab17-43bc-99f3-cc46d51abd28",
       "rows": [
        [
         "0",
         "2339",
         "I charge it at night and skip taking the cord with me because of the good battery life.",
         "cord",
         "neutral",
         "41",
         "45"
        ],
        [
         "1",
         "2339",
         "I charge it at night and skip taking the cord with me because of the good battery life.",
         "battery life",
         "positive",
         "74",
         "86"
        ],
        [
         "2",
         "1316",
         "The tech guy then said the service center does not do 1-to-1 exchange and I have to direct my concern to the \"sales\" team, which is the retail shop which I bought my netbook from.",
         "service center",
         "negative",
         "27",
         "41"
        ],
        [
         "3",
         "1316",
         "The tech guy then said the service center does not do 1-to-1 exchange and I have to direct my concern to the \"sales\" team, which is the retail shop which I bought my netbook from.",
         "\"sales\" team",
         "negative",
         "109",
         "121"
        ],
        [
         "4",
         "1316",
         "The tech guy then said the service center does not do 1-to-1 exchange and I have to direct my concern to the \"sales\" team, which is the retail shop which I bought my netbook from.",
         "tech guy",
         "neutral",
         "4",
         "12"
        ],
        [
         "5",
         "2005",
         "it is of high quality, has a killer GUI, is extremely stable, is highly expandable, is bundled with lots of very good applications, is easy to use, and is absolutely gorgeous.",
         "quality",
         "positive",
         "14",
         "21"
        ],
        [
         "6",
         "2005",
         "it is of high quality, has a killer GUI, is extremely stable, is highly expandable, is bundled with lots of very good applications, is easy to use, and is absolutely gorgeous.",
         "GUI",
         "positive",
         "36",
         "39"
        ],
        [
         "7",
         "2005",
         "it is of high quality, has a killer GUI, is extremely stable, is highly expandable, is bundled with lots of very good applications, is easy to use, and is absolutely gorgeous.",
         "applications",
         "positive",
         "118",
         "130"
        ],
        [
         "8",
         "2005",
         "it is of high quality, has a killer GUI, is extremely stable, is highly expandable, is bundled with lots of very good applications, is easy to use, and is absolutely gorgeous.",
         "use",
         "positive",
         "143",
         "146"
        ],
        [
         "9",
         "2789",
         "Easy to start up and does not overheat as much as other laptops.",
         "start up",
         "positive",
         "8",
         "16"
        ],
        [
         "10",
         "76",
         "I even got my teenage son one, because of the features that it offers, like, iChat, Photobooth, garage band and more!",
         "features",
         "positive",
         "46",
         "54"
        ],
        [
         "11",
         "76",
         "I even got my teenage son one, because of the features that it offers, like, iChat, Photobooth, garage band and more!",
         "iChat",
         "positive",
         "77",
         "82"
        ],
        [
         "12",
         "76",
         "I even got my teenage son one, because of the features that it offers, like, iChat, Photobooth, garage band and more!",
         "Photobooth",
         "positive",
         "84",
         "94"
        ],
        [
         "13",
         "76",
         "I even got my teenage son one, because of the features that it offers, like, iChat, Photobooth, garage band and more!",
         "garage band",
         "positive",
         "96",
         "107"
        ],
        [
         "14",
         "80",
         "Great laptop that offers many great features!",
         "features",
         "positive",
         "36",
         "44"
        ],
        [
         "15",
         "917",
         " One night I turned the freaking thing off after using it, the next day I turn it on, no GUI, screen all dark, power light steady, hard drive light steady and not flashing as it usually does.",
         "GUI",
         "negative",
         "89",
         "92"
        ],
        [
         "16",
         "917",
         " One night I turned the freaking thing off after using it, the next day I turn it on, no GUI, screen all dark, power light steady, hard drive light steady and not flashing as it usually does.",
         "screen",
         "negative",
         "94",
         "100"
        ],
        [
         "17",
         "917",
         " One night I turned the freaking thing off after using it, the next day I turn it on, no GUI, screen all dark, power light steady, hard drive light steady and not flashing as it usually does.",
         "power light",
         "neutral",
         "111",
         "122"
        ],
        [
         "18",
         "917",
         " One night I turned the freaking thing off after using it, the next day I turn it on, no GUI, screen all dark, power light steady, hard drive light steady and not flashing as it usually does.",
         "hard drive light",
         "negative",
         "131",
         "147"
        ],
        [
         "19",
         "1630",
         "I took it back for an Asus and same thing- blue screen which required me to remove the battery to reset.",
         "battery",
         "neutral",
         "87",
         "94"
        ],
        [
         "20",
         "38",
         "In the shop, these MacBooks are encased in a soft rubber enclosure - so you will never know about the razor edge until you buy it, get it home, break the seal and use it (very clever con).",
         "rubber enclosure",
         "positive",
         "50",
         "66"
        ],
        [
         "21",
         "38",
         "In the shop, these MacBooks are encased in a soft rubber enclosure - so you will never know about the razor edge until you buy it, get it home, break the seal and use it (very clever con).",
         "edge",
         "negative",
         "108",
         "112"
        ],
        [
         "22",
         "337",
         "However, the multi-touch gestures and large tracking area make having an external mouse unnecessary (unless you're gaming).",
         "multi-touch gestures",
         "positive",
         "13",
         "33"
        ],
        [
         "23",
         "337",
         "However, the multi-touch gestures and large tracking area make having an external mouse unnecessary (unless you're gaming).",
         "tracking area",
         "positive",
         "44",
         "57"
        ],
        [
         "24",
         "337",
         "However, the multi-touch gestures and large tracking area make having an external mouse unnecessary (unless you're gaming).",
         "external mouse",
         "neutral",
         "73",
         "87"
        ],
        [
         "25",
         "337",
         "However, the multi-touch gestures and large tracking area make having an external mouse unnecessary (unless you're gaming).",
         "gaming",
         "neutral",
         "115",
         "121"
        ],
        [
         "26",
         "2568",
         "I love the way the entire suite of software works together.",
         "suite of software",
         "positive",
         "26",
         "43"
        ],
        [
         "27",
         "295",
         "The speed is incredible and I am more than satisfied.",
         "speed",
         "positive",
         "4",
         "9"
        ],
        [
         "28",
         "2759",
         "This laptop meets every expectation and Windows 7 is great!",
         "Windows 7",
         "positive",
         "40",
         "49"
        ],
        [
         "29",
         "2980",
         "I can barely use any usb devices because they will not stay connected properly.",
         "usb devices",
         "negative",
         "21",
         "32"
        ],
        [
         "30",
         "1054",
         "-No backlit keyboard, but not an issue for me.",
         "keyboard",
         "conflict",
         "12",
         "20"
        ],
        [
         "31",
         "743",
         "When I finally had everything running with all my software installed I plugged in my droid to recharge and the system crashed.",
         "software",
         "neutral",
         "50",
         "58"
        ],
        [
         "32",
         "743",
         "When I finally had everything running with all my software installed I plugged in my droid to recharge and the system crashed.",
         "system",
         "negative",
         "111",
         "117"
        ],
        [
         "33",
         "2587",
         "One suggestion I do have, is to not bother getting Microsoft office for the mac expecting it will work just like you knew it to on a PC.",
         "Microsoft office for the mac",
         "negative",
         "51",
         "79"
        ],
        [
         "34",
         "2202",
         "Pairing it with an iPhone is a pure pleasure - talk about painless syncing - used to take me forever - now it's a snap.",
         "syncing",
         "positive",
         "67",
         "74"
        ],
        [
         "35",
         "2227",
         "I also got the added bonus of a 30\" HD Monitor, which really helps to extend my screen and keep my eyes fresh!",
         "30\" HD Monitor",
         "positive",
         "32",
         "46"
        ],
        [
         "36",
         "2227",
         "I also got the added bonus of a 30\" HD Monitor, which really helps to extend my screen and keep my eyes fresh!",
         "screen",
         "neutral",
         "80",
         "86"
        ],
        [
         "37",
         "92",
         "The machine is slow to boot up and occasionally crashes completely.",
         "boot up",
         "negative",
         "23",
         "30"
        ],
        [
         "38",
         "1204",
         "After paying several hundred dollars for this service, it is frustrating that you cannot get help after hours.",
         "service",
         "negative",
         "46",
         "53"
        ],
        [
         "39",
         "325",
         "I did have to replace the battery once, but that was only a couple months ago and it's been working perfect ever since.",
         "battery",
         "conflict",
         "26",
         "33"
        ],
        [
         "40",
         "1574",
         "I love the operating system and the preloaded software.",
         "operating system",
         "positive",
         "11",
         "27"
        ],
        [
         "41",
         "1574",
         "I love the operating system and the preloaded software.",
         "preloaded software",
         "positive",
         "36",
         "54"
        ],
        [
         "42",
         "3073",
         "The best thing about this laptop is the price along with some of the newer features.",
         "price",
         "positive",
         "40",
         "45"
        ],
        [
         "43",
         "3073",
         "The best thing about this laptop is the price along with some of the newer features.",
         "features",
         "positive",
         "75",
         "83"
        ],
        [
         "44",
         "1254",
         "After numerous attempts of trying (including setting the clock in BIOS setup directly), I gave up(I am a techie).",
         "clock in BIOS setup",
         "negative",
         "57",
         "76"
        ],
        [
         "45",
         "810",
         "YOU WILL NOT BE ABLE TO TALK TO AN AMERICAN WARRANTY SERVICE IS OUT OF COUNTRY.",
         "WARRANTY SERVICE",
         "negative",
         "44",
         "60"
        ],
        [
         "46",
         "130",
         "but now i have realized its a problem with this brand.",
         "brand",
         "negative",
         "48",
         "53"
        ],
        [
         "47",
         "839",
         "I sent it back to Toshiba twice they covered it under the  warranty.",
         "warranty",
         "positive",
         "59",
         "67"
        ],
        [
         "48",
         "696",
         "I was looking for a mac which is portable and has all the features that I was looking for.",
         "features",
         "positive",
         "58",
         "66"
        ],
        [
         "49",
         "1030",
         "Also kinda loud when the fan was running.",
         "fan",
         "negative",
         "25",
         "28"
        ]
       ],
       "shape": {
        "columns": 6,
        "rows": 2358
       }
      },
      "text/html": [
       "<div>\n",
       "<style scoped>\n",
       "    .dataframe tbody tr th:only-of-type {\n",
       "        vertical-align: middle;\n",
       "    }\n",
       "\n",
       "    .dataframe tbody tr th {\n",
       "        vertical-align: top;\n",
       "    }\n",
       "\n",
       "    .dataframe thead th {\n",
       "        text-align: right;\n",
       "    }\n",
       "</style>\n",
       "<table border=\"1\" class=\"dataframe\">\n",
       "  <thead>\n",
       "    <tr style=\"text-align: right;\">\n",
       "      <th></th>\n",
       "      <th>id</th>\n",
       "      <th>Sentence</th>\n",
       "      <th>Aspect Term</th>\n",
       "      <th>polarity</th>\n",
       "      <th>from</th>\n",
       "      <th>to</th>\n",
       "    </tr>\n",
       "  </thead>\n",
       "  <tbody>\n",
       "    <tr>\n",
       "      <th>0</th>\n",
       "      <td>2339</td>\n",
       "      <td>I charge it at night and skip taking the cord ...</td>\n",
       "      <td>cord</td>\n",
       "      <td>neutral</td>\n",
       "      <td>41</td>\n",
       "      <td>45</td>\n",
       "    </tr>\n",
       "    <tr>\n",
       "      <th>1</th>\n",
       "      <td>2339</td>\n",
       "      <td>I charge it at night and skip taking the cord ...</td>\n",
       "      <td>battery life</td>\n",
       "      <td>positive</td>\n",
       "      <td>74</td>\n",
       "      <td>86</td>\n",
       "    </tr>\n",
       "    <tr>\n",
       "      <th>2</th>\n",
       "      <td>1316</td>\n",
       "      <td>The tech guy then said the service center does...</td>\n",
       "      <td>service center</td>\n",
       "      <td>negative</td>\n",
       "      <td>27</td>\n",
       "      <td>41</td>\n",
       "    </tr>\n",
       "    <tr>\n",
       "      <th>3</th>\n",
       "      <td>1316</td>\n",
       "      <td>The tech guy then said the service center does...</td>\n",
       "      <td>\"sales\" team</td>\n",
       "      <td>negative</td>\n",
       "      <td>109</td>\n",
       "      <td>121</td>\n",
       "    </tr>\n",
       "    <tr>\n",
       "      <th>4</th>\n",
       "      <td>1316</td>\n",
       "      <td>The tech guy then said the service center does...</td>\n",
       "      <td>tech guy</td>\n",
       "      <td>neutral</td>\n",
       "      <td>4</td>\n",
       "      <td>12</td>\n",
       "    </tr>\n",
       "    <tr>\n",
       "      <th>...</th>\n",
       "      <td>...</td>\n",
       "      <td>...</td>\n",
       "      <td>...</td>\n",
       "      <td>...</td>\n",
       "      <td>...</td>\n",
       "      <td>...</td>\n",
       "    </tr>\n",
       "    <tr>\n",
       "      <th>2353</th>\n",
       "      <td>2272</td>\n",
       "      <td>We also use Paralles so we can run virtual mac...</td>\n",
       "      <td>Windows Server Enterprise 2003</td>\n",
       "      <td>neutral</td>\n",
       "      <td>104</td>\n",
       "      <td>134</td>\n",
       "    </tr>\n",
       "    <tr>\n",
       "      <th>2354</th>\n",
       "      <td>2272</td>\n",
       "      <td>We also use Paralles so we can run virtual mac...</td>\n",
       "      <td>Windows Server 2008 Enterprise</td>\n",
       "      <td>neutral</td>\n",
       "      <td>140</td>\n",
       "      <td>170</td>\n",
       "    </tr>\n",
       "    <tr>\n",
       "      <th>2355</th>\n",
       "      <td>848</td>\n",
       "      <td>How Toshiba handles the repair seems to vary, ...</td>\n",
       "      <td>repair</td>\n",
       "      <td>conflict</td>\n",
       "      <td>24</td>\n",
       "      <td>30</td>\n",
       "    </tr>\n",
       "    <tr>\n",
       "      <th>2356</th>\n",
       "      <td>848</td>\n",
       "      <td>How Toshiba handles the repair seems to vary, ...</td>\n",
       "      <td>repair</td>\n",
       "      <td>positive</td>\n",
       "      <td>130</td>\n",
       "      <td>136</td>\n",
       "    </tr>\n",
       "    <tr>\n",
       "      <th>2357</th>\n",
       "      <td>734</td>\n",
       "      <td>I would like to use a different operating syst...</td>\n",
       "      <td>operating system</td>\n",
       "      <td>neutral</td>\n",
       "      <td>32</td>\n",
       "      <td>48</td>\n",
       "    </tr>\n",
       "  </tbody>\n",
       "</table>\n",
       "<p>2358 rows × 6 columns</p>\n",
       "</div>"
      ],
      "text/plain": [
       "        id                                           Sentence  \\\n",
       "0     2339  I charge it at night and skip taking the cord ...   \n",
       "1     2339  I charge it at night and skip taking the cord ...   \n",
       "2     1316  The tech guy then said the service center does...   \n",
       "3     1316  The tech guy then said the service center does...   \n",
       "4     1316  The tech guy then said the service center does...   \n",
       "...    ...                                                ...   \n",
       "2353  2272  We also use Paralles so we can run virtual mac...   \n",
       "2354  2272  We also use Paralles so we can run virtual mac...   \n",
       "2355   848  How Toshiba handles the repair seems to vary, ...   \n",
       "2356   848  How Toshiba handles the repair seems to vary, ...   \n",
       "2357   734  I would like to use a different operating syst...   \n",
       "\n",
       "                         Aspect Term  polarity  from   to  \n",
       "0                               cord   neutral    41   45  \n",
       "1                       battery life  positive    74   86  \n",
       "2                     service center  negative    27   41  \n",
       "3                       \"sales\" team  negative   109  121  \n",
       "4                           tech guy   neutral     4   12  \n",
       "...                              ...       ...   ...  ...  \n",
       "2353  Windows Server Enterprise 2003   neutral   104  134  \n",
       "2354  Windows Server 2008 Enterprise   neutral   140  170  \n",
       "2355                          repair  conflict    24   30  \n",
       "2356                          repair  positive   130  136  \n",
       "2357                operating system   neutral    32   48  \n",
       "\n",
       "[2358 rows x 6 columns]"
      ]
     },
     "execution_count": 100,
     "metadata": {},
     "output_type": "execute_result"
    }
   ],
   "source": [
    "ds_path= 'Dataset/Laptop_Train_v2.csv'\n",
    "\n",
    "df = pd.read_csv(ds_path)\n",
    "df\n"
   ]
  },
  {
   "cell_type": "code",
   "execution_count": 102,
   "metadata": {},
   "outputs": [
    {
     "data": {
      "application/vnd.microsoft.datawrangler.viewer.v0+json": {
       "columns": [
        {
         "name": "index",
         "rawType": "int64",
         "type": "integer"
        },
        {
         "name": "id",
         "rawType": "int64",
         "type": "integer"
        },
        {
         "name": "Sentence",
         "rawType": "object",
         "type": "string"
        },
        {
         "name": "Aspect Term",
         "rawType": "object",
         "type": "string"
        },
        {
         "name": "polarity",
         "rawType": "object",
         "type": "string"
        },
        {
         "name": "from",
         "rawType": "int64",
         "type": "integer"
        },
        {
         "name": "to",
         "rawType": "int64",
         "type": "integer"
        }
       ],
       "conversionMethod": "pd.DataFrame",
       "ref": "7b821b86-7e8d-4b1c-adc3-d569809a525c",
       "rows": [
        [
         "0",
         "2339",
         "i charge it at night and skip taking the cord with me because of the good battery life ",
         "cord",
         "neutral",
         "41",
         "45"
        ],
        [
         "1",
         "2339",
         "i charge it at night and skip taking the cord with me because of the good battery life ",
         "battery life",
         "positive",
         "74",
         "86"
        ],
        [
         "2",
         "1316",
         "the tech guy then said the service center does not do 1 to 1 exchange and i have to direct my concern to the sales team which is the retail shop which i bought my netbook from ",
         "service center",
         "negative",
         "27",
         "41"
        ],
        [
         "3",
         "1316",
         "the tech guy then said the service center does not do 1 to 1 exchange and i have to direct my concern to the sales team which is the retail shop which i bought my netbook from ",
         " sales team",
         "negative",
         "109",
         "121"
        ],
        [
         "4",
         "1316",
         "the tech guy then said the service center does not do 1 to 1 exchange and i have to direct my concern to the sales team which is the retail shop which i bought my netbook from ",
         "tech guy",
         "neutral",
         "4",
         "12"
        ],
        [
         "5",
         "2005",
         "it is of high quality has a killer gui is extremely stable is highly expandable is bundled with lots of very good applications is easy to use and is absolutely gorgeous ",
         "quality",
         "positive",
         "14",
         "21"
        ],
        [
         "6",
         "2005",
         "it is of high quality has a killer gui is extremely stable is highly expandable is bundled with lots of very good applications is easy to use and is absolutely gorgeous ",
         "gui",
         "positive",
         "36",
         "39"
        ],
        [
         "7",
         "2005",
         "it is of high quality has a killer gui is extremely stable is highly expandable is bundled with lots of very good applications is easy to use and is absolutely gorgeous ",
         "applications",
         "positive",
         "118",
         "130"
        ],
        [
         "8",
         "2005",
         "it is of high quality has a killer gui is extremely stable is highly expandable is bundled with lots of very good applications is easy to use and is absolutely gorgeous ",
         "use",
         "positive",
         "143",
         "146"
        ],
        [
         "9",
         "2789",
         "easy to start up and does not overheat as much as other laptops ",
         "start up",
         "positive",
         "8",
         "16"
        ],
        [
         "10",
         "76",
         "i even got my teenage son one because of the features that it offers like ichat photobooth garage band and more ",
         "features",
         "positive",
         "46",
         "54"
        ],
        [
         "11",
         "76",
         "i even got my teenage son one because of the features that it offers like ichat photobooth garage band and more ",
         "ichat",
         "positive",
         "77",
         "82"
        ],
        [
         "12",
         "76",
         "i even got my teenage son one because of the features that it offers like ichat photobooth garage band and more ",
         "photobooth",
         "positive",
         "84",
         "94"
        ],
        [
         "13",
         "76",
         "i even got my teenage son one because of the features that it offers like ichat photobooth garage band and more ",
         "garage band",
         "positive",
         "96",
         "107"
        ],
        [
         "14",
         "80",
         "great laptop that offers many great features ",
         "features",
         "positive",
         "36",
         "44"
        ],
        [
         "15",
         "917",
         " one night i turned the freaking thing off after using it the next day i turn it on no gui screen all dark power light steady hard drive light steady and not flashing as it usually does ",
         "gui",
         "negative",
         "89",
         "92"
        ],
        [
         "16",
         "917",
         " one night i turned the freaking thing off after using it the next day i turn it on no gui screen all dark power light steady hard drive light steady and not flashing as it usually does ",
         "screen",
         "negative",
         "94",
         "100"
        ],
        [
         "17",
         "917",
         " one night i turned the freaking thing off after using it the next day i turn it on no gui screen all dark power light steady hard drive light steady and not flashing as it usually does ",
         "power light",
         "neutral",
         "111",
         "122"
        ],
        [
         "18",
         "917",
         " one night i turned the freaking thing off after using it the next day i turn it on no gui screen all dark power light steady hard drive light steady and not flashing as it usually does ",
         "hard drive light",
         "negative",
         "131",
         "147"
        ],
        [
         "19",
         "1630",
         "i took it back for an asus and same thing blue screen which required me to remove the battery to reset ",
         "battery",
         "neutral",
         "87",
         "94"
        ],
        [
         "20",
         "38",
         "in the shop these macbooks are encased in a soft rubber enclosure so you will never know about the razor edge until you buy it get it home break the seal and use it very clever con ",
         "rubber enclosure",
         "positive",
         "50",
         "66"
        ],
        [
         "21",
         "38",
         "in the shop these macbooks are encased in a soft rubber enclosure so you will never know about the razor edge until you buy it get it home break the seal and use it very clever con ",
         "edge",
         "negative",
         "108",
         "112"
        ],
        [
         "22",
         "337",
         "however the multi touch gestures and large tracking area make having an external mouse unnecessary unless you re gaming ",
         "multi touch gestures",
         "positive",
         "13",
         "33"
        ],
        [
         "23",
         "337",
         "however the multi touch gestures and large tracking area make having an external mouse unnecessary unless you re gaming ",
         "tracking area",
         "positive",
         "44",
         "57"
        ],
        [
         "24",
         "337",
         "however the multi touch gestures and large tracking area make having an external mouse unnecessary unless you re gaming ",
         "external mouse",
         "neutral",
         "73",
         "87"
        ],
        [
         "25",
         "337",
         "however the multi touch gestures and large tracking area make having an external mouse unnecessary unless you re gaming ",
         "gaming",
         "neutral",
         "115",
         "121"
        ],
        [
         "26",
         "2568",
         "i love the way the entire suite of software works together ",
         "suite of software",
         "positive",
         "26",
         "43"
        ],
        [
         "27",
         "295",
         "the speed is incredible and i am more than satisfied ",
         "speed",
         "positive",
         "4",
         "9"
        ],
        [
         "28",
         "2759",
         "this laptop meets every expectation and windows 7 is great ",
         "windows 7",
         "positive",
         "40",
         "49"
        ],
        [
         "29",
         "2980",
         "i can barely use any usb devices because they will not stay connected properly ",
         "usb devices",
         "negative",
         "21",
         "32"
        ],
        [
         "30",
         "1054",
         " no backlit keyboard but not an issue for me ",
         "keyboard",
         "conflict",
         "12",
         "20"
        ],
        [
         "31",
         "743",
         "when i finally had everything running with all my software installed i plugged in my droid to recharge and the system crashed ",
         "software",
         "neutral",
         "50",
         "58"
        ],
        [
         "32",
         "743",
         "when i finally had everything running with all my software installed i plugged in my droid to recharge and the system crashed ",
         "system",
         "negative",
         "111",
         "117"
        ],
        [
         "33",
         "2587",
         "one suggestion i do have is to not bother getting microsoft office for the mac expecting it will work just like you knew it to on a pc ",
         "microsoft office for the mac",
         "negative",
         "51",
         "79"
        ],
        [
         "34",
         "2202",
         "pairing it with an iphone is a pure pleasure talk about painless syncing used to take me forever now it s a snap ",
         "syncing",
         "positive",
         "67",
         "74"
        ],
        [
         "35",
         "2227",
         "i also got the added bonus of a 30 hd monitor which really helps to extend my screen and keep my eyes fresh ",
         "30 hd monitor",
         "positive",
         "32",
         "46"
        ],
        [
         "36",
         "2227",
         "i also got the added bonus of a 30 hd monitor which really helps to extend my screen and keep my eyes fresh ",
         "screen",
         "neutral",
         "80",
         "86"
        ],
        [
         "37",
         "92",
         "the machine is slow to boot up and occasionally crashes completely ",
         "boot up",
         "negative",
         "23",
         "30"
        ],
        [
         "38",
         "1204",
         "after paying several hundred dollars for this service it is frustrating that you cannot get help after hours ",
         "service",
         "negative",
         "46",
         "53"
        ],
        [
         "39",
         "325",
         "i did have to replace the battery once but that was only a couple months ago and it s been working perfect ever since ",
         "battery",
         "conflict",
         "26",
         "33"
        ],
        [
         "40",
         "1574",
         "i love the operating system and the preloaded software ",
         "operating system",
         "positive",
         "11",
         "27"
        ],
        [
         "41",
         "1574",
         "i love the operating system and the preloaded software ",
         "preloaded software",
         "positive",
         "36",
         "54"
        ],
        [
         "42",
         "3073",
         "the best thing about this laptop is the price along with some of the newer features ",
         "price",
         "positive",
         "40",
         "45"
        ],
        [
         "43",
         "3073",
         "the best thing about this laptop is the price along with some of the newer features ",
         "features",
         "positive",
         "75",
         "83"
        ],
        [
         "44",
         "1254",
         "after numerous attempts of trying including setting the clock in bios setup directly i gave up i am a techie ",
         "clock in bios setup",
         "negative",
         "57",
         "76"
        ],
        [
         "45",
         "810",
         "you will not be able to talk to an american warranty service is out of country ",
         "warranty service",
         "negative",
         "44",
         "60"
        ],
        [
         "46",
         "130",
         "but now i have realized its a problem with this brand ",
         "brand",
         "negative",
         "48",
         "53"
        ],
        [
         "47",
         "839",
         "i sent it back to toshiba twice they covered it under the warranty ",
         "warranty",
         "positive",
         "59",
         "67"
        ],
        [
         "48",
         "696",
         "i was looking for a mac which is portable and has all the features that i was looking for ",
         "features",
         "positive",
         "58",
         "66"
        ],
        [
         "49",
         "1030",
         "also kinda loud when the fan was running ",
         "fan",
         "negative",
         "25",
         "28"
        ]
       ],
       "shape": {
        "columns": 6,
        "rows": 2358
       }
      },
      "text/html": [
       "<div>\n",
       "<style scoped>\n",
       "    .dataframe tbody tr th:only-of-type {\n",
       "        vertical-align: middle;\n",
       "    }\n",
       "\n",
       "    .dataframe tbody tr th {\n",
       "        vertical-align: top;\n",
       "    }\n",
       "\n",
       "    .dataframe thead th {\n",
       "        text-align: right;\n",
       "    }\n",
       "</style>\n",
       "<table border=\"1\" class=\"dataframe\">\n",
       "  <thead>\n",
       "    <tr style=\"text-align: right;\">\n",
       "      <th></th>\n",
       "      <th>id</th>\n",
       "      <th>Sentence</th>\n",
       "      <th>Aspect Term</th>\n",
       "      <th>polarity</th>\n",
       "      <th>from</th>\n",
       "      <th>to</th>\n",
       "    </tr>\n",
       "  </thead>\n",
       "  <tbody>\n",
       "    <tr>\n",
       "      <th>0</th>\n",
       "      <td>2339</td>\n",
       "      <td>i charge it at night and skip taking the cord ...</td>\n",
       "      <td>cord</td>\n",
       "      <td>neutral</td>\n",
       "      <td>41</td>\n",
       "      <td>45</td>\n",
       "    </tr>\n",
       "    <tr>\n",
       "      <th>1</th>\n",
       "      <td>2339</td>\n",
       "      <td>i charge it at night and skip taking the cord ...</td>\n",
       "      <td>battery life</td>\n",
       "      <td>positive</td>\n",
       "      <td>74</td>\n",
       "      <td>86</td>\n",
       "    </tr>\n",
       "    <tr>\n",
       "      <th>2</th>\n",
       "      <td>1316</td>\n",
       "      <td>the tech guy then said the service center does...</td>\n",
       "      <td>service center</td>\n",
       "      <td>negative</td>\n",
       "      <td>27</td>\n",
       "      <td>41</td>\n",
       "    </tr>\n",
       "    <tr>\n",
       "      <th>3</th>\n",
       "      <td>1316</td>\n",
       "      <td>the tech guy then said the service center does...</td>\n",
       "      <td>sales team</td>\n",
       "      <td>negative</td>\n",
       "      <td>109</td>\n",
       "      <td>121</td>\n",
       "    </tr>\n",
       "    <tr>\n",
       "      <th>4</th>\n",
       "      <td>1316</td>\n",
       "      <td>the tech guy then said the service center does...</td>\n",
       "      <td>tech guy</td>\n",
       "      <td>neutral</td>\n",
       "      <td>4</td>\n",
       "      <td>12</td>\n",
       "    </tr>\n",
       "    <tr>\n",
       "      <th>...</th>\n",
       "      <td>...</td>\n",
       "      <td>...</td>\n",
       "      <td>...</td>\n",
       "      <td>...</td>\n",
       "      <td>...</td>\n",
       "      <td>...</td>\n",
       "    </tr>\n",
       "    <tr>\n",
       "      <th>2353</th>\n",
       "      <td>2272</td>\n",
       "      <td>we also use paralles so we can run virtual mac...</td>\n",
       "      <td>windows server enterprise 2003</td>\n",
       "      <td>neutral</td>\n",
       "      <td>104</td>\n",
       "      <td>134</td>\n",
       "    </tr>\n",
       "    <tr>\n",
       "      <th>2354</th>\n",
       "      <td>2272</td>\n",
       "      <td>we also use paralles so we can run virtual mac...</td>\n",
       "      <td>windows server 2008 enterprise</td>\n",
       "      <td>neutral</td>\n",
       "      <td>140</td>\n",
       "      <td>170</td>\n",
       "    </tr>\n",
       "    <tr>\n",
       "      <th>2355</th>\n",
       "      <td>848</td>\n",
       "      <td>how toshiba handles the repair seems to vary s...</td>\n",
       "      <td>repair</td>\n",
       "      <td>conflict</td>\n",
       "      <td>24</td>\n",
       "      <td>30</td>\n",
       "    </tr>\n",
       "    <tr>\n",
       "      <th>2356</th>\n",
       "      <td>848</td>\n",
       "      <td>how toshiba handles the repair seems to vary s...</td>\n",
       "      <td>repair</td>\n",
       "      <td>positive</td>\n",
       "      <td>130</td>\n",
       "      <td>136</td>\n",
       "    </tr>\n",
       "    <tr>\n",
       "      <th>2357</th>\n",
       "      <td>734</td>\n",
       "      <td>i would like to use a different operating syst...</td>\n",
       "      <td>operating system</td>\n",
       "      <td>neutral</td>\n",
       "      <td>32</td>\n",
       "      <td>48</td>\n",
       "    </tr>\n",
       "  </tbody>\n",
       "</table>\n",
       "<p>2358 rows × 6 columns</p>\n",
       "</div>"
      ],
      "text/plain": [
       "        id                                           Sentence  \\\n",
       "0     2339  i charge it at night and skip taking the cord ...   \n",
       "1     2339  i charge it at night and skip taking the cord ...   \n",
       "2     1316  the tech guy then said the service center does...   \n",
       "3     1316  the tech guy then said the service center does...   \n",
       "4     1316  the tech guy then said the service center does...   \n",
       "...    ...                                                ...   \n",
       "2353  2272  we also use paralles so we can run virtual mac...   \n",
       "2354  2272  we also use paralles so we can run virtual mac...   \n",
       "2355   848  how toshiba handles the repair seems to vary s...   \n",
       "2356   848  how toshiba handles the repair seems to vary s...   \n",
       "2357   734  i would like to use a different operating syst...   \n",
       "\n",
       "                         Aspect Term  polarity  from   to  \n",
       "0                               cord   neutral    41   45  \n",
       "1                       battery life  positive    74   86  \n",
       "2                     service center  negative    27   41  \n",
       "3                         sales team  negative   109  121  \n",
       "4                           tech guy   neutral     4   12  \n",
       "...                              ...       ...   ...  ...  \n",
       "2353  windows server enterprise 2003   neutral   104  134  \n",
       "2354  windows server 2008 enterprise   neutral   140  170  \n",
       "2355                          repair  conflict    24   30  \n",
       "2356                          repair  positive   130  136  \n",
       "2357                operating system   neutral    32   48  \n",
       "\n",
       "[2358 rows x 6 columns]"
      ]
     },
     "execution_count": 102,
     "metadata": {},
     "output_type": "execute_result"
    }
   ],
   "source": [
    "df.Sentence= df.Sentence.apply(lambda x: text_normalize(x).lower())\n",
    "df['Aspect Term']= df['Aspect Term'].apply(lambda x: text_normalize(x).lower())\n",
    "df"
   ]
  },
  {
   "cell_type": "code",
   "execution_count": 107,
   "metadata": {},
   "outputs": [],
   "source": [
    "data={}\n",
    "data['sentence']= df.Sentence\n",
    "data['aspect_term']= df['Aspect Term']\n",
    "data['polarity']= df['polarity']"
   ]
  },
  {
   "cell_type": "code",
   "execution_count": 170,
   "metadata": {},
   "outputs": [
    {
     "name": "stdout",
     "output_type": "stream",
     "text": [
      "i charge it at night and skip taking the cord with me because of the good battery life\n",
      "neutral\n",
      "cord\n"
     ]
    }
   ],
   "source": [
    "for sentence, aspect_term, polarity in zip(data['sentence'],data['aspect_term'],data['polarity']):\n",
    "    print(sentence)\n",
    "    print(polarity)\n",
    "    print(aspect_term)\n",
    "    break"
   ]
  },
  {
   "cell_type": "code",
   "execution_count": 227,
   "metadata": {},
   "outputs": [],
   "source": [
    "a,b = random_split(data,(2,1) )"
   ]
  },
  {
   "cell_type": "code",
   "execution_count": 171,
   "metadata": {},
   "outputs": [],
   "source": [
    "corpus =df.Sentence.values"
   ]
  },
  {
   "cell_type": "code",
   "execution_count": 172,
   "metadata": {},
   "outputs": [
    {
     "data": {
      "text/plain": [
       "array(['i charge it at night and skip taking the cord with me because of the good battery life',\n",
       "       'i charge it at night and skip taking the cord with me because of the good battery life',\n",
       "       'the tech guy then said the service center does not do 1to1 exchange and i have to direct my concern to the sales team which is the retail shop which i bought my netbook from',\n",
       "       ...,\n",
       "       'how toshiba handles the repair seems to vary some folks  indicate that they were charged for even an intial fix others had the  repair done 5 times',\n",
       "       'how toshiba handles the repair seems to vary some folks  indicate that they were charged for even an intial fix others had the  repair done 5 times',\n",
       "       'i would like to use a different operating system altogether'],\n",
       "      dtype=object)"
      ]
     },
     "execution_count": 172,
     "metadata": {},
     "output_type": "execute_result"
    }
   ],
   "source": [
    "corpus"
   ]
  },
  {
   "cell_type": "code",
   "execution_count": 209,
   "metadata": {},
   "outputs": [
    {
     "data": {
      "text/plain": [
       "77"
      ]
     },
     "execution_count": 209,
     "metadata": {},
     "output_type": "execute_result"
    }
   ],
   "source": [
    "seq_len = max([len(sentence.split(' ')) for sentence in data['sentence']])\n",
    "seq_len"
   ]
  },
  {
   "cell_type": "code",
   "execution_count": null,
   "metadata": {},
   "outputs": [],
   "source": [
    "model = models.WordLevel(unk_token='<unk>') \n",
    "tokenizer= Tokenizer(model)\n",
    "tokenizer.pre_tokenizer= pre_tokenizers.Whitespace()\n",
    "trainer=trainers.WordLevelTrainer(vocab_size=20000, special_tokens = ['<unk>','<pad>','<sos>','<eos>','<sep>'])\n",
    "tokenizer.train_from_iterator(corpus, trainer)"
   ]
  },
  {
   "cell_type": "code",
   "execution_count": 12,
   "metadata": {},
   "outputs": [],
   "source": [
    "def pad_and_truncate(sample, seq_len, pad_idx):\n",
    "    if len(sample) >= seq_len:\n",
    "        sample = sample[:seq_len]\n",
    "    \n",
    "    else:\n",
    "        sample= sample + [pad_idx]*(seq_len-len(sample))\n",
    "    \n",
    "    return sample"
   ]
  },
  {
   "cell_type": "code",
   "execution_count": 176,
   "metadata": {},
   "outputs": [],
   "source": [
    "def vectorize(data, tokenizer, seq_len):\n",
    "    input_ids=[]\n",
    "    labels=[]\n",
    "    polarities=[]\n",
    "    for sentence, aspect_term, polarity in zip(data['sentence'],data['aspect_term'],data['polarity']):\n",
    "        input_id = [tokenizer.token_to_id(word) if tokenizer.token_to_id(word) else 0  for word in sentence.split(' ') ]\n",
    "        input_id= pad_and_truncate(input_id,seq_len, tokenizer.token_to_id('<pad>'))\n",
    "        \n",
    "        key_labels = aspect_term.split(' ')\n",
    "        label=[]\n",
    "        for word in sentence.split(' '):\n",
    "            if word in key_labels:\n",
    "                if word == key_labels[0]:\n",
    "                    label.append(1)\n",
    "                else:\n",
    "                    label.append(2)\n",
    "            else:\n",
    "                label.append(0)\n",
    "                \n",
    "        \n",
    "        label = pad_and_truncate(label, seq_len, -100)\n",
    "        \n",
    "        if polarity=='neural':\n",
    "            key_polarity = 0\n",
    "        elif polarity=='positive':\n",
    "            key_polarity =1\n",
    "        else:\n",
    "            key_polarity =2\n",
    "        \n",
    "        polarity = [key_polarity if word in key_labels else -1 for word in sentence.split(' ')] \n",
    "        polarity = pad_and_truncate(polarity,seq_len,-100)\n",
    "        input_ids.append(input_id)\n",
    "        labels.append(label)\n",
    "        polarities.append(polarity)\n",
    "    \n",
    "    return {\n",
    "        'input_ids': torch.tensor(input_ids),\n",
    "        'labels': torch.tensor(labels),\n",
    "        'polarities': torch.tensor(polarities)    \n",
    "            }\n",
    "        \n",
    "        \n",
    "        \n",
    "        \n",
    "        \n",
    "        \n",
    "        "
   ]
  },
  {
   "cell_type": "code",
   "execution_count": 177,
   "metadata": {},
   "outputs": [],
   "source": [
    "class ABSADataset(Dataset):\n",
    "    def __init__(self, data, tokenizer, seq_len):\n",
    "        temp= vectorize(data, tokenizer, seq_len)\n",
    "        self.input_ids= temp['input_ids']\n",
    "        self.labels = temp['labels']\n",
    "        self.polarities= temp['polarities']\n",
    "    \n",
    "    def __len__(self):\n",
    "        return len(self.input_ids)\n",
    "\n",
    "    def __getitem__(self, idx):\n",
    "        return self.input_ids[idx], self.labels[idx], self.polarities[idx]\n",
    "    \n",
    "    \n",
    "    "
   ]
  },
  {
   "cell_type": "code",
   "execution_count": 178,
   "metadata": {},
   "outputs": [],
   "source": [
    "train_ds = ABSADataset(data,tokenizer, seq_len)\n",
    "\n",
    "train_loader = DataLoader(train_ds, batch_size=32, shuffle=True)"
   ]
  },
  {
   "cell_type": "code",
   "execution_count": 179,
   "metadata": {},
   "outputs": [],
   "source": [
    "class ABSAModel(nn.Module):\n",
    "    def __init__(self, vocab_size, embedding_dim, hidden_size,n_heads, num_layers, num_classes):\n",
    "        super(ABSAModel,self).__init__()\n",
    "        self.embedding = nn.Embedding(vocab_size, embedding_dim)\n",
    "        self.positional_encoding = nn.Embedding(seq_len, embedding_dim)\n",
    "        encoder_layer = nn.TransformerEncoderLayer(d_model=embedding_dim, dim_feedforward=1024, dropout=0.2, nhead=n_heads)\n",
    "        self.encoder = nn.TransformerEncoder(encoder_layer, num_layers)\n",
    "        self.conv1d = nn.Conv1d(embedding_dim, 256, 3, 1,1)\n",
    "        self.fc = nn.Sequential(\n",
    "            nn.Linear(256,128),\n",
    "            nn.LeakyReLU(),\n",
    "            nn.Dropout(0.2),\n",
    "            nn.Linear(128,64),\n",
    "            nn.GELU(),\n",
    "            nn.Dropout(0.1),\n",
    "            nn.Linear(64,num_classes)\n",
    "        )\n",
    "        \n",
    "    def forward(self, input_ids):\n",
    "        positions= torch.arange(input_ids.size(1),device=input_ids.device).unsqueeze(0)\n",
    "        embedded = self.embedding(input_ids)\n",
    "        positional_encoding = self.positional_encoding(positions)\n",
    "        inputs = embedded+ positional_encoding # NxLxD\n",
    "        \n",
    "        inputs = self.encoder(inputs)\n",
    "        \n",
    "        inputs = self.conv1d(inputs.permute(0,2,1)) # NxDxL\n",
    "        inputs = inputs.permute(0,2,1)\n",
    "        logits = self.fc(inputs) # NxLxD\n",
    "        \n",
    "        return logits.permute(0,2,1) #NxDxL "
   ]
  },
  {
   "cell_type": "code",
   "execution_count": 180,
   "metadata": {},
   "outputs": [],
   "source": [
    "id2label={\n",
    "    0: '0',\n",
    "    1: 'B-term',\n",
    "    2: 'I-term'\n",
    "}\n",
    "label2id= {\n",
    "    '0': 0,\n",
    "    'B-term': 1,\n",
    "    'I-term': 2\n",
    "}\n"
   ]
  },
  {
   "cell_type": "code",
   "execution_count": 181,
   "metadata": {},
   "outputs": [],
   "source": [
    "def compute_metric(preds,labels):\n",
    "    true_predictions= [\n",
    "        [id2label[p] for (p,l) in zip(pred,label) if l !=-100]\n",
    "        for pred,label in zip(preds,labels)\n",
    "    ]\n",
    "    \n",
    "    true_labels= [\n",
    "        [id2label[l] for (p,l) in zip(pred,label) if l !=-100]\n",
    "        for pred,label in zip(preds,labels)\n",
    "    ]\n",
    "    true_predictions_flat = [p for sublist in true_predictions for p in sublist]\n",
    "    true_labels_flat = [l for sublist in true_labels for l in sublist]\n",
    "    results = f1_score(true_labels_flat, true_predictions_flat, average=\"macro\")  \n",
    "    return results"
   ]
  },
  {
   "cell_type": "code",
   "execution_count": 182,
   "metadata": {},
   "outputs": [],
   "source": [
    "def evaluate(model, dataloader, device):\n",
    "    \n",
    "    with torch.no_grad():\n",
    "        model.eval()\n",
    "        for idx, (input_ids, labels, polarities) in enumerate(dataloader):\n",
    "            input_ids= input_ids.to(device)\n",
    "            labels= labels.to(device)\n",
    "            polarities=polarities.to(device)\n",
    "            \n",
    "            preds = model(input_ids) # NxDxL\n",
    "            preds = preds.argmax(1) # NxL\n",
    "            \n",
    "            preds = preds.cpu().numpy().tolist()\n",
    "            labels = labels.cpu().numpy().tolist()\n",
    "            \n",
    "            score= compute_metric(preds, labels)\n",
    "            \n",
    "            print(f'Score: {score:.4f} ')\n",
    "        \n",
    "            \n",
    "                \n",
    "                \n",
    "                \n",
    "                \n",
    "                "
   ]
  },
  {
   "cell_type": "code",
   "execution_count": 183,
   "metadata": {},
   "outputs": [],
   "source": [
    "def train(model, train_loader, test_loader, device,optimizer, criterion, epochs):\n",
    "    total_losses=[]\n",
    "    for epoch in tqdm(range(epochs),desc='Epoch'):\n",
    "        epoch_loss=[]\n",
    "        model.train()\n",
    "        for idx, (input_ids, labels, polarities) in enumerate(tqdm(train_loader,desc='Training',leave=False)):\n",
    "            optimizer.zero_grad()\n",
    "            input_ids= input_ids.to(device)\n",
    "            labels= labels.to(device)\n",
    "            polarities=polarities.to(device)\n",
    "            preds = model(input_ids)\n",
    "            loss= criterion(preds, labels)\n",
    "            loss.backward()\n",
    "            optimizer.step()\n",
    "            \n",
    "            epoch_loss.append(loss)\n",
    "        avg_loss = sum(epoch_loss)/len(epoch_loss)\n",
    "        total_losses.append(avg_loss)\n",
    "        print(f'Epoch {epoch+1}\\t Training Loss: {avg_loss:.4f}')\n",
    "    \n",
    "        evaluate(model,test_loader,device)\n",
    "    train_loss = sum(total_losses)/len(total_losses)\n",
    "    \n",
    "    print(f'Total Loss: {train_loss:.4f}')\n",
    "    "
   ]
  },
  {
   "cell_type": "code",
   "execution_count": 184,
   "metadata": {},
   "outputs": [
    {
     "name": "stderr",
     "output_type": "stream",
     "text": [
      "c:\\Users\\pikke\\AppData\\Local\\Programs\\Python\\Python313\\Lib\\site-packages\\torch\\nn\\modules\\transformer.py:385: UserWarning: enable_nested_tensor is True, but self.use_nested_tensor is False because encoder_layer.self_attn.batch_first was not True(use batch_first for better inference performance)\n",
      "  warnings.warn(\n"
     ]
    }
   ],
   "source": [
    "device= 'cuda' if torch.cuda.is_available() else 'cpu'\n",
    "model =ABSAModel(tokenizer.get_vocab_size(), 512, 256,4,4,3)\n",
    "model = model.to(device)\n",
    "\n",
    "optimizer = torch.optim.Adam(model.parameters(),lr = 1e-5)\n",
    "criterion= nn.CrossEntropyLoss()"
   ]
  },
  {
   "cell_type": "code",
   "execution_count": null,
   "metadata": {},
   "outputs": [],
   "source": []
  },
  {
   "cell_type": "code",
   "execution_count": 185,
   "metadata": {},
   "outputs": [],
   "source": [
    "test_path = 'Dataset/laptops-trial.csv'\n",
    "test_df = pd.read_csv(test_path)"
   ]
  },
  {
   "cell_type": "code",
   "execution_count": 186,
   "metadata": {},
   "outputs": [
    {
     "data": {
      "application/vnd.microsoft.datawrangler.viewer.v0+json": {
       "columns": [
        {
         "name": "index",
         "rawType": "int64",
         "type": "integer"
        },
        {
         "name": "id",
         "rawType": "int64",
         "type": "integer"
        },
        {
         "name": "Sentence",
         "rawType": "object",
         "type": "string"
        },
        {
         "name": "Aspect Term",
         "rawType": "object",
         "type": "string"
        },
        {
         "name": "polarity",
         "rawType": "object",
         "type": "string"
        },
        {
         "name": "from",
         "rawType": "int64",
         "type": "integer"
        },
        {
         "name": "to",
         "rawType": "int64",
         "type": "integer"
        }
       ],
       "conversionMethod": "pd.DataFrame",
       "ref": "34b300cd-cff9-494b-960e-2585f183ece4",
       "rows": [
        [
         "0",
         "2128",
         "i liked the aluminum body",
         "aluminum body",
         "positive",
         "12",
         "25"
        ],
        [
         "1",
         "81",
         "lightweight and the screen is beautiful",
         "screen",
         "positive",
         "20",
         "26"
        ],
        [
         "2",
         "353",
         "from the build quality to the performance everything about it has been subpar from what i would have expected from apple",
         "build quality",
         "negative",
         "9",
         "22"
        ],
        [
         "3",
         "353",
         "from the build quality to the performance everything about it has been subpar from what i would have expected from apple",
         "performance",
         "negative",
         "30",
         "41"
        ],
        [
         "4",
         "655",
         "it was truly a great computer costing less than one thousand bucks before tax",
         "costing",
         "positive",
         "30",
         "37"
        ],
        [
         "5",
         "2443",
         "boots up fast and runs great",
         "Boots up",
         "positive",
         "0",
         "8"
        ],
        [
         "6",
         "2443",
         "boots up fast and runs great",
         "runs",
         "positive",
         "18",
         "22"
        ],
        [
         "7",
         "764",
         "call tech support standard email the form and fax it back in to us",
         "tech support",
         "neutral",
         "5",
         "17"
        ],
        [
         "8",
         "1479",
         "the service i received from toshiba went above and beyond the call of duty",
         "service",
         "positive",
         "4",
         "11"
        ],
        [
         "9",
         "2937",
         "i would recommend it just because of the internet speed probably because thats the only thing i really care about",
         "internet speed",
         "positive",
         "41",
         "55"
        ],
        [
         "10",
         "2077",
         "the screen shows great colors",
         "screen",
         "positive",
         "4",
         "10"
        ],
        [
         "11",
         "2756",
         "the battery life has not decreased since i bought it so im thrilled with that",
         "battery life",
         "positive",
         "4",
         "16"
        ],
        [
         "12",
         "2863",
         "the price and features more than met my needs",
         "price",
         "positive",
         "4",
         "9"
        ],
        [
         "13",
         "2863",
         "the price and features more than met my needs",
         "features",
         "positive",
         "14",
         "22"
        ],
        [
         "14",
         "1393",
         "the mouse buttons are hard to push",
         "mouse buttons",
         "negative",
         "4",
         "17"
        ],
        [
         "15",
         "36",
         "this is the complete opposite to an ergonomic design",
         "design",
         "negative",
         "46",
         "52"
        ],
        [
         "16",
         "990",
         "the technical service for dell is so 3rd world it might as well not even bother",
         "technical service",
         "negative",
         "4",
         "21"
        ],
        [
         "17",
         "2275",
         "the built in camera is very useful when chatting with other techs in remote buildings on our campus",
         "built in camera",
         "positive",
         "4",
         "19"
        ],
        [
         "18",
         "214",
         "keyboard good sized and wasy to use",
         "Keyboard",
         "positive",
         "0",
         "8"
        ],
        [
         "19",
         "2777",
         "great wifi too",
         "wifi",
         "positive",
         "6",
         "10"
        ],
        [
         "20",
         "1733",
         "games being the main issue",
         "Games",
         "negative",
         "0",
         "5"
        ],
        [
         "21",
         "3064",
         "the price is another driving influence that made me purchase this laptop",
         "price",
         "positive",
         "4",
         "9"
        ],
        [
         "22",
         "1646",
         "but see the macbook pro is different because it may have a huge price tag but it comes with the full software that you would actually need and most of it has free future updates",
         "price tag",
         "negative",
         "64",
         "73"
        ],
        [
         "23",
         "1646",
         "but see the macbook pro is different because it may have a huge price tag but it comes with the full software that you would actually need and most of it has free future updates",
         "software",
         "positive",
         "101",
         "109"
        ],
        [
         "24",
         "1646",
         "but see the macbook pro is different because it may have a huge price tag but it comes with the full software that you would actually need and most of it has free future updates",
         "updates",
         "positive",
         "170",
         "177"
        ],
        [
         "25",
         "2988",
         "its a great product for a great price",
         "price",
         "positive",
         "33",
         "38"
        ],
        [
         "26",
         "2828",
         "excellent speed for processing data",
         "speed",
         "positive",
         "10",
         "15"
        ],
        [
         "27",
         "1776",
         "the macbook arrived in a nice twin packing and sealed in the box all the functions works great",
         "twin packing",
         "positive",
         "30",
         "42"
        ],
        [
         "28",
         "1776",
         "the macbook arrived in a nice twin packing and sealed in the box all the functions works great",
         "functions",
         "positive",
         "74",
         "83"
        ],
        [
         "29",
         "2626",
         "the switchable graphic card is pretty sweet when you want gaming on the laptop",
         "switchable graphic card",
         "positive",
         "4",
         "27"
        ],
        [
         "30",
         "2626",
         "the switchable graphic card is pretty sweet when you want gaming on the laptop",
         "gaming",
         "neutral",
         "58",
         "64"
        ],
        [
         "31",
         "2967",
         "i would like at least a 4 hr battery life",
         "battery life",
         "neutral",
         "30",
         "42"
        ],
        [
         "32",
         "2993",
         "it has good speed and plenty of hard drive space",
         "speed",
         "positive",
         "12",
         "17"
        ],
        [
         "33",
         "2993",
         "it has good speed and plenty of hard drive space",
         "hard drive space",
         "positive",
         "32",
         "48"
        ],
        [
         "34",
         "1037",
         "the driver updates dont fix the issue very frustrating",
         "driver updates",
         "negative",
         "4",
         "18"
        ],
        [
         "35",
         "2451",
         "im glad that it has such great features in it",
         "features",
         "positive",
         "31",
         "39"
        ],
        [
         "36",
         "2871",
         "i always have used a tower home pc and jumped to the laptop and have been very satisfied with its performance",
         "performance",
         "positive",
         "98",
         "109"
        ],
        [
         "37",
         "1532",
         "my sister has the same mac as me and she is in a band and uses garageband to record and edit",
         "GarageBand",
         "neutral",
         "63",
         "73"
        ],
        [
         "38",
         "2238",
         "and looks very sexyyd really the mac book pro is the best laptop specially for students in college if you are not caring about price",
         "price",
         "negative",
         "128",
         "133"
        ],
        [
         "39",
         "2785",
         "also the extended warranty was a problem",
         "extended warranty",
         "negative",
         "10",
         "27"
        ],
        [
         "40",
         "832",
         "my opinion of sony has been dropping as fast as the stock market given their horrible support but this machine just caused another plunge",
         "support",
         "negative",
         "87",
         "94"
        ],
        [
         "41",
         "2130",
         "i also liked the glass screen",
         "glass screen",
         "positive",
         "17",
         "29"
        ],
        [
         "42",
         "1446",
         "when i called toshiba they would not do anything and even tried to charge me 35 for the phone call even though they didnt offer any technical support",
         "technical support",
         "negative",
         "136",
         "153"
        ],
        [
         "43",
         "3047",
         "beware their staff could send you back making you feel that only they know what a computer is",
         "staff",
         "negative",
         "15",
         "20"
        ],
        [
         "44",
         "1732",
         "the only thing that i dont like about my mac is that sometimes there are programs that i want to be able to run and i am not able to",
         "programs",
         "negative",
         "74",
         "82"
        ],
        [
         "45",
         "1063",
         "wireless has not been a issue for me like some others have meantioned",
         "Wireless",
         "positive",
         "0",
         "8"
        ],
        [
         "46",
         "271",
         "macbook notebooks quickly die out because of their short battery life as well as the many background programs that run without the users knowlede",
         "battery life",
         "negative",
         "57",
         "69"
        ],
        [
         "47",
         "271",
         "macbook notebooks quickly die out because of their short battery life as well as the many background programs that run without the users knowlede",
         "background programs",
         "negative",
         "91",
         "110"
        ],
        [
         "48",
         "1674",
         "all for such a great price",
         "price",
         "positive",
         "21",
         "26"
        ]
       ],
       "shape": {
        "columns": 6,
        "rows": 49
       }
      },
      "text/html": [
       "<div>\n",
       "<style scoped>\n",
       "    .dataframe tbody tr th:only-of-type {\n",
       "        vertical-align: middle;\n",
       "    }\n",
       "\n",
       "    .dataframe tbody tr th {\n",
       "        vertical-align: top;\n",
       "    }\n",
       "\n",
       "    .dataframe thead th {\n",
       "        text-align: right;\n",
       "    }\n",
       "</style>\n",
       "<table border=\"1\" class=\"dataframe\">\n",
       "  <thead>\n",
       "    <tr style=\"text-align: right;\">\n",
       "      <th></th>\n",
       "      <th>id</th>\n",
       "      <th>Sentence</th>\n",
       "      <th>Aspect Term</th>\n",
       "      <th>polarity</th>\n",
       "      <th>from</th>\n",
       "      <th>to</th>\n",
       "    </tr>\n",
       "  </thead>\n",
       "  <tbody>\n",
       "    <tr>\n",
       "      <th>0</th>\n",
       "      <td>2128</td>\n",
       "      <td>i liked the aluminum body</td>\n",
       "      <td>aluminum body</td>\n",
       "      <td>positive</td>\n",
       "      <td>12</td>\n",
       "      <td>25</td>\n",
       "    </tr>\n",
       "    <tr>\n",
       "      <th>1</th>\n",
       "      <td>81</td>\n",
       "      <td>lightweight and the screen is beautiful</td>\n",
       "      <td>screen</td>\n",
       "      <td>positive</td>\n",
       "      <td>20</td>\n",
       "      <td>26</td>\n",
       "    </tr>\n",
       "    <tr>\n",
       "      <th>2</th>\n",
       "      <td>353</td>\n",
       "      <td>from the build quality to the performance ever...</td>\n",
       "      <td>build quality</td>\n",
       "      <td>negative</td>\n",
       "      <td>9</td>\n",
       "      <td>22</td>\n",
       "    </tr>\n",
       "    <tr>\n",
       "      <th>3</th>\n",
       "      <td>353</td>\n",
       "      <td>from the build quality to the performance ever...</td>\n",
       "      <td>performance</td>\n",
       "      <td>negative</td>\n",
       "      <td>30</td>\n",
       "      <td>41</td>\n",
       "    </tr>\n",
       "    <tr>\n",
       "      <th>4</th>\n",
       "      <td>655</td>\n",
       "      <td>it was truly a great computer costing less tha...</td>\n",
       "      <td>costing</td>\n",
       "      <td>positive</td>\n",
       "      <td>30</td>\n",
       "      <td>37</td>\n",
       "    </tr>\n",
       "    <tr>\n",
       "      <th>5</th>\n",
       "      <td>2443</td>\n",
       "      <td>boots up fast and runs great</td>\n",
       "      <td>Boots up</td>\n",
       "      <td>positive</td>\n",
       "      <td>0</td>\n",
       "      <td>8</td>\n",
       "    </tr>\n",
       "    <tr>\n",
       "      <th>6</th>\n",
       "      <td>2443</td>\n",
       "      <td>boots up fast and runs great</td>\n",
       "      <td>runs</td>\n",
       "      <td>positive</td>\n",
       "      <td>18</td>\n",
       "      <td>22</td>\n",
       "    </tr>\n",
       "    <tr>\n",
       "      <th>7</th>\n",
       "      <td>764</td>\n",
       "      <td>call tech support standard email the form and ...</td>\n",
       "      <td>tech support</td>\n",
       "      <td>neutral</td>\n",
       "      <td>5</td>\n",
       "      <td>17</td>\n",
       "    </tr>\n",
       "    <tr>\n",
       "      <th>8</th>\n",
       "      <td>1479</td>\n",
       "      <td>the service i received from toshiba went above...</td>\n",
       "      <td>service</td>\n",
       "      <td>positive</td>\n",
       "      <td>4</td>\n",
       "      <td>11</td>\n",
       "    </tr>\n",
       "    <tr>\n",
       "      <th>9</th>\n",
       "      <td>2937</td>\n",
       "      <td>i would recommend it just because of the inter...</td>\n",
       "      <td>internet speed</td>\n",
       "      <td>positive</td>\n",
       "      <td>41</td>\n",
       "      <td>55</td>\n",
       "    </tr>\n",
       "    <tr>\n",
       "      <th>10</th>\n",
       "      <td>2077</td>\n",
       "      <td>the screen shows great colors</td>\n",
       "      <td>screen</td>\n",
       "      <td>positive</td>\n",
       "      <td>4</td>\n",
       "      <td>10</td>\n",
       "    </tr>\n",
       "    <tr>\n",
       "      <th>11</th>\n",
       "      <td>2756</td>\n",
       "      <td>the battery life has not decreased since i bou...</td>\n",
       "      <td>battery life</td>\n",
       "      <td>positive</td>\n",
       "      <td>4</td>\n",
       "      <td>16</td>\n",
       "    </tr>\n",
       "    <tr>\n",
       "      <th>12</th>\n",
       "      <td>2863</td>\n",
       "      <td>the price and features more than met my needs</td>\n",
       "      <td>price</td>\n",
       "      <td>positive</td>\n",
       "      <td>4</td>\n",
       "      <td>9</td>\n",
       "    </tr>\n",
       "    <tr>\n",
       "      <th>13</th>\n",
       "      <td>2863</td>\n",
       "      <td>the price and features more than met my needs</td>\n",
       "      <td>features</td>\n",
       "      <td>positive</td>\n",
       "      <td>14</td>\n",
       "      <td>22</td>\n",
       "    </tr>\n",
       "    <tr>\n",
       "      <th>14</th>\n",
       "      <td>1393</td>\n",
       "      <td>the mouse buttons are hard to push</td>\n",
       "      <td>mouse buttons</td>\n",
       "      <td>negative</td>\n",
       "      <td>4</td>\n",
       "      <td>17</td>\n",
       "    </tr>\n",
       "    <tr>\n",
       "      <th>15</th>\n",
       "      <td>36</td>\n",
       "      <td>this is the complete opposite to an ergonomic ...</td>\n",
       "      <td>design</td>\n",
       "      <td>negative</td>\n",
       "      <td>46</td>\n",
       "      <td>52</td>\n",
       "    </tr>\n",
       "    <tr>\n",
       "      <th>16</th>\n",
       "      <td>990</td>\n",
       "      <td>the technical service for dell is so 3rd world...</td>\n",
       "      <td>technical service</td>\n",
       "      <td>negative</td>\n",
       "      <td>4</td>\n",
       "      <td>21</td>\n",
       "    </tr>\n",
       "    <tr>\n",
       "      <th>17</th>\n",
       "      <td>2275</td>\n",
       "      <td>the built in camera is very useful when chatti...</td>\n",
       "      <td>built in camera</td>\n",
       "      <td>positive</td>\n",
       "      <td>4</td>\n",
       "      <td>19</td>\n",
       "    </tr>\n",
       "    <tr>\n",
       "      <th>18</th>\n",
       "      <td>214</td>\n",
       "      <td>keyboard good sized and wasy to use</td>\n",
       "      <td>Keyboard</td>\n",
       "      <td>positive</td>\n",
       "      <td>0</td>\n",
       "      <td>8</td>\n",
       "    </tr>\n",
       "    <tr>\n",
       "      <th>19</th>\n",
       "      <td>2777</td>\n",
       "      <td>great wifi too</td>\n",
       "      <td>wifi</td>\n",
       "      <td>positive</td>\n",
       "      <td>6</td>\n",
       "      <td>10</td>\n",
       "    </tr>\n",
       "    <tr>\n",
       "      <th>20</th>\n",
       "      <td>1733</td>\n",
       "      <td>games being the main issue</td>\n",
       "      <td>Games</td>\n",
       "      <td>negative</td>\n",
       "      <td>0</td>\n",
       "      <td>5</td>\n",
       "    </tr>\n",
       "    <tr>\n",
       "      <th>21</th>\n",
       "      <td>3064</td>\n",
       "      <td>the price is another driving influence that ma...</td>\n",
       "      <td>price</td>\n",
       "      <td>positive</td>\n",
       "      <td>4</td>\n",
       "      <td>9</td>\n",
       "    </tr>\n",
       "    <tr>\n",
       "      <th>22</th>\n",
       "      <td>1646</td>\n",
       "      <td>but see the macbook pro is different because i...</td>\n",
       "      <td>price tag</td>\n",
       "      <td>negative</td>\n",
       "      <td>64</td>\n",
       "      <td>73</td>\n",
       "    </tr>\n",
       "    <tr>\n",
       "      <th>23</th>\n",
       "      <td>1646</td>\n",
       "      <td>but see the macbook pro is different because i...</td>\n",
       "      <td>software</td>\n",
       "      <td>positive</td>\n",
       "      <td>101</td>\n",
       "      <td>109</td>\n",
       "    </tr>\n",
       "    <tr>\n",
       "      <th>24</th>\n",
       "      <td>1646</td>\n",
       "      <td>but see the macbook pro is different because i...</td>\n",
       "      <td>updates</td>\n",
       "      <td>positive</td>\n",
       "      <td>170</td>\n",
       "      <td>177</td>\n",
       "    </tr>\n",
       "    <tr>\n",
       "      <th>25</th>\n",
       "      <td>2988</td>\n",
       "      <td>its a great product for a great price</td>\n",
       "      <td>price</td>\n",
       "      <td>positive</td>\n",
       "      <td>33</td>\n",
       "      <td>38</td>\n",
       "    </tr>\n",
       "    <tr>\n",
       "      <th>26</th>\n",
       "      <td>2828</td>\n",
       "      <td>excellent speed for processing data</td>\n",
       "      <td>speed</td>\n",
       "      <td>positive</td>\n",
       "      <td>10</td>\n",
       "      <td>15</td>\n",
       "    </tr>\n",
       "    <tr>\n",
       "      <th>27</th>\n",
       "      <td>1776</td>\n",
       "      <td>the macbook arrived in a nice twin packing and...</td>\n",
       "      <td>twin packing</td>\n",
       "      <td>positive</td>\n",
       "      <td>30</td>\n",
       "      <td>42</td>\n",
       "    </tr>\n",
       "    <tr>\n",
       "      <th>28</th>\n",
       "      <td>1776</td>\n",
       "      <td>the macbook arrived in a nice twin packing and...</td>\n",
       "      <td>functions</td>\n",
       "      <td>positive</td>\n",
       "      <td>74</td>\n",
       "      <td>83</td>\n",
       "    </tr>\n",
       "    <tr>\n",
       "      <th>29</th>\n",
       "      <td>2626</td>\n",
       "      <td>the switchable graphic card is pretty sweet wh...</td>\n",
       "      <td>switchable graphic card</td>\n",
       "      <td>positive</td>\n",
       "      <td>4</td>\n",
       "      <td>27</td>\n",
       "    </tr>\n",
       "    <tr>\n",
       "      <th>30</th>\n",
       "      <td>2626</td>\n",
       "      <td>the switchable graphic card is pretty sweet wh...</td>\n",
       "      <td>gaming</td>\n",
       "      <td>neutral</td>\n",
       "      <td>58</td>\n",
       "      <td>64</td>\n",
       "    </tr>\n",
       "    <tr>\n",
       "      <th>31</th>\n",
       "      <td>2967</td>\n",
       "      <td>i would like at least a 4 hr battery life</td>\n",
       "      <td>battery life</td>\n",
       "      <td>neutral</td>\n",
       "      <td>30</td>\n",
       "      <td>42</td>\n",
       "    </tr>\n",
       "    <tr>\n",
       "      <th>32</th>\n",
       "      <td>2993</td>\n",
       "      <td>it has good speed and plenty of hard drive space</td>\n",
       "      <td>speed</td>\n",
       "      <td>positive</td>\n",
       "      <td>12</td>\n",
       "      <td>17</td>\n",
       "    </tr>\n",
       "    <tr>\n",
       "      <th>33</th>\n",
       "      <td>2993</td>\n",
       "      <td>it has good speed and plenty of hard drive space</td>\n",
       "      <td>hard drive space</td>\n",
       "      <td>positive</td>\n",
       "      <td>32</td>\n",
       "      <td>48</td>\n",
       "    </tr>\n",
       "    <tr>\n",
       "      <th>34</th>\n",
       "      <td>1037</td>\n",
       "      <td>the driver updates dont fix the issue very fru...</td>\n",
       "      <td>driver updates</td>\n",
       "      <td>negative</td>\n",
       "      <td>4</td>\n",
       "      <td>18</td>\n",
       "    </tr>\n",
       "    <tr>\n",
       "      <th>35</th>\n",
       "      <td>2451</td>\n",
       "      <td>im glad that it has such great features in it</td>\n",
       "      <td>features</td>\n",
       "      <td>positive</td>\n",
       "      <td>31</td>\n",
       "      <td>39</td>\n",
       "    </tr>\n",
       "    <tr>\n",
       "      <th>36</th>\n",
       "      <td>2871</td>\n",
       "      <td>i always have used a tower home pc and jumped ...</td>\n",
       "      <td>performance</td>\n",
       "      <td>positive</td>\n",
       "      <td>98</td>\n",
       "      <td>109</td>\n",
       "    </tr>\n",
       "    <tr>\n",
       "      <th>37</th>\n",
       "      <td>1532</td>\n",
       "      <td>my sister has the same mac as me and she is in...</td>\n",
       "      <td>GarageBand</td>\n",
       "      <td>neutral</td>\n",
       "      <td>63</td>\n",
       "      <td>73</td>\n",
       "    </tr>\n",
       "    <tr>\n",
       "      <th>38</th>\n",
       "      <td>2238</td>\n",
       "      <td>and looks very sexyyd really the mac book pro ...</td>\n",
       "      <td>price</td>\n",
       "      <td>negative</td>\n",
       "      <td>128</td>\n",
       "      <td>133</td>\n",
       "    </tr>\n",
       "    <tr>\n",
       "      <th>39</th>\n",
       "      <td>2785</td>\n",
       "      <td>also the extended warranty was a problem</td>\n",
       "      <td>extended warranty</td>\n",
       "      <td>negative</td>\n",
       "      <td>10</td>\n",
       "      <td>27</td>\n",
       "    </tr>\n",
       "    <tr>\n",
       "      <th>40</th>\n",
       "      <td>832</td>\n",
       "      <td>my opinion of sony has been dropping as fast a...</td>\n",
       "      <td>support</td>\n",
       "      <td>negative</td>\n",
       "      <td>87</td>\n",
       "      <td>94</td>\n",
       "    </tr>\n",
       "    <tr>\n",
       "      <th>41</th>\n",
       "      <td>2130</td>\n",
       "      <td>i also liked the glass screen</td>\n",
       "      <td>glass screen</td>\n",
       "      <td>positive</td>\n",
       "      <td>17</td>\n",
       "      <td>29</td>\n",
       "    </tr>\n",
       "    <tr>\n",
       "      <th>42</th>\n",
       "      <td>1446</td>\n",
       "      <td>when i called toshiba they would not do anythi...</td>\n",
       "      <td>technical support</td>\n",
       "      <td>negative</td>\n",
       "      <td>136</td>\n",
       "      <td>153</td>\n",
       "    </tr>\n",
       "    <tr>\n",
       "      <th>43</th>\n",
       "      <td>3047</td>\n",
       "      <td>beware their staff could send you back making ...</td>\n",
       "      <td>staff</td>\n",
       "      <td>negative</td>\n",
       "      <td>15</td>\n",
       "      <td>20</td>\n",
       "    </tr>\n",
       "    <tr>\n",
       "      <th>44</th>\n",
       "      <td>1732</td>\n",
       "      <td>the only thing that i dont like about my mac i...</td>\n",
       "      <td>programs</td>\n",
       "      <td>negative</td>\n",
       "      <td>74</td>\n",
       "      <td>82</td>\n",
       "    </tr>\n",
       "    <tr>\n",
       "      <th>45</th>\n",
       "      <td>1063</td>\n",
       "      <td>wireless has not been a issue for me like some...</td>\n",
       "      <td>Wireless</td>\n",
       "      <td>positive</td>\n",
       "      <td>0</td>\n",
       "      <td>8</td>\n",
       "    </tr>\n",
       "    <tr>\n",
       "      <th>46</th>\n",
       "      <td>271</td>\n",
       "      <td>macbook notebooks quickly die out because of t...</td>\n",
       "      <td>battery life</td>\n",
       "      <td>negative</td>\n",
       "      <td>57</td>\n",
       "      <td>69</td>\n",
       "    </tr>\n",
       "    <tr>\n",
       "      <th>47</th>\n",
       "      <td>271</td>\n",
       "      <td>macbook notebooks quickly die out because of t...</td>\n",
       "      <td>background programs</td>\n",
       "      <td>negative</td>\n",
       "      <td>91</td>\n",
       "      <td>110</td>\n",
       "    </tr>\n",
       "    <tr>\n",
       "      <th>48</th>\n",
       "      <td>1674</td>\n",
       "      <td>all for such a great price</td>\n",
       "      <td>price</td>\n",
       "      <td>positive</td>\n",
       "      <td>21</td>\n",
       "      <td>26</td>\n",
       "    </tr>\n",
       "  </tbody>\n",
       "</table>\n",
       "</div>"
      ],
      "text/plain": [
       "      id                                           Sentence  \\\n",
       "0   2128                          i liked the aluminum body   \n",
       "1     81            lightweight and the screen is beautiful   \n",
       "2    353  from the build quality to the performance ever...   \n",
       "3    353  from the build quality to the performance ever...   \n",
       "4    655  it was truly a great computer costing less tha...   \n",
       "5   2443                       boots up fast and runs great   \n",
       "6   2443                       boots up fast and runs great   \n",
       "7    764  call tech support standard email the form and ...   \n",
       "8   1479  the service i received from toshiba went above...   \n",
       "9   2937  i would recommend it just because of the inter...   \n",
       "10  2077                      the screen shows great colors   \n",
       "11  2756  the battery life has not decreased since i bou...   \n",
       "12  2863      the price and features more than met my needs   \n",
       "13  2863      the price and features more than met my needs   \n",
       "14  1393                 the mouse buttons are hard to push   \n",
       "15    36  this is the complete opposite to an ergonomic ...   \n",
       "16   990  the technical service for dell is so 3rd world...   \n",
       "17  2275  the built in camera is very useful when chatti...   \n",
       "18   214                keyboard good sized and wasy to use   \n",
       "19  2777                                     great wifi too   \n",
       "20  1733                         games being the main issue   \n",
       "21  3064  the price is another driving influence that ma...   \n",
       "22  1646  but see the macbook pro is different because i...   \n",
       "23  1646  but see the macbook pro is different because i...   \n",
       "24  1646  but see the macbook pro is different because i...   \n",
       "25  2988              its a great product for a great price   \n",
       "26  2828                excellent speed for processing data   \n",
       "27  1776  the macbook arrived in a nice twin packing and...   \n",
       "28  1776  the macbook arrived in a nice twin packing and...   \n",
       "29  2626  the switchable graphic card is pretty sweet wh...   \n",
       "30  2626  the switchable graphic card is pretty sweet wh...   \n",
       "31  2967          i would like at least a 4 hr battery life   \n",
       "32  2993   it has good speed and plenty of hard drive space   \n",
       "33  2993   it has good speed and plenty of hard drive space   \n",
       "34  1037  the driver updates dont fix the issue very fru...   \n",
       "35  2451      im glad that it has such great features in it   \n",
       "36  2871  i always have used a tower home pc and jumped ...   \n",
       "37  1532  my sister has the same mac as me and she is in...   \n",
       "38  2238  and looks very sexyyd really the mac book pro ...   \n",
       "39  2785           also the extended warranty was a problem   \n",
       "40   832  my opinion of sony has been dropping as fast a...   \n",
       "41  2130                      i also liked the glass screen   \n",
       "42  1446  when i called toshiba they would not do anythi...   \n",
       "43  3047  beware their staff could send you back making ...   \n",
       "44  1732  the only thing that i dont like about my mac i...   \n",
       "45  1063  wireless has not been a issue for me like some...   \n",
       "46   271  macbook notebooks quickly die out because of t...   \n",
       "47   271  macbook notebooks quickly die out because of t...   \n",
       "48  1674                         all for such a great price   \n",
       "\n",
       "                Aspect Term  polarity  from   to  \n",
       "0             aluminum body  positive    12   25  \n",
       "1                    screen  positive    20   26  \n",
       "2             build quality  negative     9   22  \n",
       "3               performance  negative    30   41  \n",
       "4                   costing  positive    30   37  \n",
       "5                  Boots up  positive     0    8  \n",
       "6                      runs  positive    18   22  \n",
       "7              tech support   neutral     5   17  \n",
       "8                   service  positive     4   11  \n",
       "9            internet speed  positive    41   55  \n",
       "10                   screen  positive     4   10  \n",
       "11             battery life  positive     4   16  \n",
       "12                    price  positive     4    9  \n",
       "13                 features  positive    14   22  \n",
       "14            mouse buttons  negative     4   17  \n",
       "15                   design  negative    46   52  \n",
       "16        technical service  negative     4   21  \n",
       "17          built in camera  positive     4   19  \n",
       "18                 Keyboard  positive     0    8  \n",
       "19                     wifi  positive     6   10  \n",
       "20                    Games  negative     0    5  \n",
       "21                    price  positive     4    9  \n",
       "22                price tag  negative    64   73  \n",
       "23                 software  positive   101  109  \n",
       "24                  updates  positive   170  177  \n",
       "25                    price  positive    33   38  \n",
       "26                    speed  positive    10   15  \n",
       "27             twin packing  positive    30   42  \n",
       "28                functions  positive    74   83  \n",
       "29  switchable graphic card  positive     4   27  \n",
       "30                   gaming   neutral    58   64  \n",
       "31             battery life   neutral    30   42  \n",
       "32                    speed  positive    12   17  \n",
       "33         hard drive space  positive    32   48  \n",
       "34           driver updates  negative     4   18  \n",
       "35                 features  positive    31   39  \n",
       "36              performance  positive    98  109  \n",
       "37               GarageBand   neutral    63   73  \n",
       "38                    price  negative   128  133  \n",
       "39        extended warranty  negative    10   27  \n",
       "40                  support  negative    87   94  \n",
       "41             glass screen  positive    17   29  \n",
       "42        technical support  negative   136  153  \n",
       "43                    staff  negative    15   20  \n",
       "44                 programs  negative    74   82  \n",
       "45                 Wireless  positive     0    8  \n",
       "46             battery life  negative    57   69  \n",
       "47      background programs  negative    91  110  \n",
       "48                    price  positive    21   26  "
      ]
     },
     "execution_count": 186,
     "metadata": {},
     "output_type": "execute_result"
    }
   ],
   "source": [
    "test_df.Sentence= test_df.Sentence.apply(lambda x: text_normalize(x).lower())\n",
    "test_df"
   ]
  },
  {
   "cell_type": "code",
   "execution_count": 187,
   "metadata": {},
   "outputs": [],
   "source": [
    "test_data={}\n",
    "test_data['sentence']= test_df.Sentence\n",
    "test_data['aspect_term']= test_df['Aspect Term']\n",
    "test_data['polarity']= test_df['polarity']"
   ]
  },
  {
   "cell_type": "code",
   "execution_count": 188,
   "metadata": {},
   "outputs": [],
   "source": [
    "test_ds = ABSADataset(test_data,tokenizer,seq_len)"
   ]
  },
  {
   "cell_type": "code",
   "execution_count": 189,
   "metadata": {},
   "outputs": [],
   "source": [
    "test_loader = DataLoader(test_ds,batch_size=64, shuffle=False)"
   ]
  },
  {
   "cell_type": "code",
   "execution_count": 190,
   "metadata": {},
   "outputs": [
    {
     "name": "stderr",
     "output_type": "stream",
     "text": [
      "Epoch:   5%|▌         | 1/20 [00:08<02:48,  8.88s/it]"
     ]
    },
    {
     "name": "stdout",
     "output_type": "stream",
     "text": [
      "Epoch 1\t Training Loss: 0.6844\n",
      "Score: 0.3168 \n"
     ]
    },
    {
     "name": "stderr",
     "output_type": "stream",
     "text": [
      "Epoch:  10%|█         | 2/20 [00:18<02:42,  9.02s/it]"
     ]
    },
    {
     "name": "stdout",
     "output_type": "stream",
     "text": [
      "Epoch 2\t Training Loss: 0.3390\n",
      "Score: 0.3168 \n"
     ]
    },
    {
     "name": "stderr",
     "output_type": "stream",
     "text": [
      "Epoch:  15%|█▌        | 3/20 [00:26<02:29,  8.77s/it]"
     ]
    },
    {
     "name": "stdout",
     "output_type": "stream",
     "text": [
      "Epoch 3\t Training Loss: 0.3106\n",
      "Score: 0.3168 \n"
     ]
    },
    {
     "name": "stderr",
     "output_type": "stream",
     "text": [
      "Epoch:  20%|██        | 4/20 [00:34<02:17,  8.62s/it]"
     ]
    },
    {
     "name": "stdout",
     "output_type": "stream",
     "text": [
      "Epoch 4\t Training Loss: 0.3069\n",
      "Score: 0.3168 \n"
     ]
    },
    {
     "name": "stderr",
     "output_type": "stream",
     "text": [
      "Epoch:  25%|██▌       | 5/20 [00:43<02:09,  8.61s/it]"
     ]
    },
    {
     "name": "stdout",
     "output_type": "stream",
     "text": [
      "Epoch 5\t Training Loss: 0.3053\n",
      "Score: 0.3168 \n"
     ]
    },
    {
     "name": "stderr",
     "output_type": "stream",
     "text": [
      "Epoch:  30%|███       | 6/20 [00:52<02:02,  8.74s/it]"
     ]
    },
    {
     "name": "stdout",
     "output_type": "stream",
     "text": [
      "Epoch 6\t Training Loss: 0.3036\n",
      "Score: 0.3168 \n"
     ]
    },
    {
     "name": "stderr",
     "output_type": "stream",
     "text": [
      "Epoch:  35%|███▌      | 7/20 [01:01<01:56,  8.98s/it]"
     ]
    },
    {
     "name": "stdout",
     "output_type": "stream",
     "text": [
      "Epoch 7\t Training Loss: 0.3023\n",
      "Score: 0.3168 \n"
     ]
    },
    {
     "name": "stderr",
     "output_type": "stream",
     "text": [
      "Epoch:  40%|████      | 8/20 [01:10<01:46,  8.85s/it]"
     ]
    },
    {
     "name": "stdout",
     "output_type": "stream",
     "text": [
      "Epoch 8\t Training Loss: 0.2979\n",
      "Score: 0.3168 \n"
     ]
    },
    {
     "name": "stderr",
     "output_type": "stream",
     "text": [
      "Epoch:  45%|████▌     | 9/20 [01:19<01:36,  8.81s/it]"
     ]
    },
    {
     "name": "stdout",
     "output_type": "stream",
     "text": [
      "Epoch 9\t Training Loss: 0.2943\n",
      "Score: 0.3168 \n"
     ]
    },
    {
     "name": "stderr",
     "output_type": "stream",
     "text": [
      "Epoch:  50%|█████     | 10/20 [01:27<01:26,  8.68s/it]"
     ]
    },
    {
     "name": "stdout",
     "output_type": "stream",
     "text": [
      "Epoch 10\t Training Loss: 0.2875\n",
      "Score: 0.3168 \n"
     ]
    },
    {
     "name": "stderr",
     "output_type": "stream",
     "text": [
      "Epoch:  55%|█████▌    | 11/20 [01:36<01:18,  8.69s/it]"
     ]
    },
    {
     "name": "stdout",
     "output_type": "stream",
     "text": [
      "Epoch 11\t Training Loss: 0.2765\n",
      "Score: 0.3168 \n"
     ]
    },
    {
     "name": "stderr",
     "output_type": "stream",
     "text": [
      "Epoch:  60%|██████    | 12/20 [01:44<01:08,  8.61s/it]"
     ]
    },
    {
     "name": "stdout",
     "output_type": "stream",
     "text": [
      "Epoch 12\t Training Loss: 0.2620\n",
      "Score: 0.3168 \n"
     ]
    },
    {
     "name": "stderr",
     "output_type": "stream",
     "text": [
      "Epoch:  65%|██████▌   | 13/20 [01:53<01:00,  8.65s/it]"
     ]
    },
    {
     "name": "stdout",
     "output_type": "stream",
     "text": [
      "Epoch 13\t Training Loss: 0.2414\n",
      "Score: 0.3463 \n"
     ]
    },
    {
     "name": "stderr",
     "output_type": "stream",
     "text": [
      "Epoch:  70%|███████   | 14/20 [02:02<00:52,  8.76s/it]"
     ]
    },
    {
     "name": "stdout",
     "output_type": "stream",
     "text": [
      "Epoch 14\t Training Loss: 0.2240\n",
      "Score: 0.3844 \n"
     ]
    },
    {
     "name": "stderr",
     "output_type": "stream",
     "text": [
      "Epoch:  75%|███████▌  | 15/20 [02:10<00:43,  8.65s/it]"
     ]
    },
    {
     "name": "stdout",
     "output_type": "stream",
     "text": [
      "Epoch 15\t Training Loss: 0.2159\n",
      "Score: 0.4708 \n"
     ]
    },
    {
     "name": "stderr",
     "output_type": "stream",
     "text": [
      "Epoch:  80%|████████  | 16/20 [02:19<00:34,  8.59s/it]"
     ]
    },
    {
     "name": "stdout",
     "output_type": "stream",
     "text": [
      "Epoch 16\t Training Loss: 0.2084\n",
      "Score: 0.5194 \n"
     ]
    },
    {
     "name": "stderr",
     "output_type": "stream",
     "text": [
      "Epoch:  85%|████████▌ | 17/20 [02:28<00:26,  8.72s/it]"
     ]
    },
    {
     "name": "stdout",
     "output_type": "stream",
     "text": [
      "Epoch 17\t Training Loss: 0.2008\n",
      "Score: 0.4744 \n"
     ]
    },
    {
     "name": "stderr",
     "output_type": "stream",
     "text": [
      "Epoch:  90%|█████████ | 18/20 [02:36<00:17,  8.65s/it]"
     ]
    },
    {
     "name": "stdout",
     "output_type": "stream",
     "text": [
      "Epoch 18\t Training Loss: 0.1968\n",
      "Score: 0.5528 \n"
     ]
    },
    {
     "name": "stderr",
     "output_type": "stream",
     "text": [
      "Epoch:  95%|█████████▌| 19/20 [02:45<00:08,  8.55s/it]"
     ]
    },
    {
     "name": "stdout",
     "output_type": "stream",
     "text": [
      "Epoch 19\t Training Loss: 0.1935\n",
      "Score: 0.5717 \n"
     ]
    },
    {
     "name": "stderr",
     "output_type": "stream",
     "text": [
      "Epoch: 100%|██████████| 20/20 [02:53<00:00,  8.69s/it]\n"
     ]
    },
    {
     "name": "stdout",
     "output_type": "stream",
     "text": [
      "Epoch 20\t Training Loss: 0.1872\n",
      "Score: 0.6133 \n",
      "Total Loss: 0.2819\n"
     ]
    }
   ],
   "source": [
    "train(model,train_loader,test_loader,device,optimizer,criterion,20)"
   ]
  },
  {
   "cell_type": "markdown",
   "metadata": {},
   "source": [
    "# Aspect based sentiment analysis"
   ]
  },
  {
   "cell_type": "code",
   "execution_count": null,
   "metadata": {},
   "outputs": [
    {
     "data": {
      "application/vnd.microsoft.datawrangler.viewer.v0+json": {
       "columns": [
        {
         "name": "index",
         "rawType": "int64",
         "type": "integer"
        },
        {
         "name": "id",
         "rawType": "int64",
         "type": "integer"
        },
        {
         "name": "Sentence",
         "rawType": "object",
         "type": "string"
        },
        {
         "name": "Aspect Term",
         "rawType": "object",
         "type": "string"
        },
        {
         "name": "polarity",
         "rawType": "object",
         "type": "string"
        },
        {
         "name": "from",
         "rawType": "int64",
         "type": "integer"
        },
        {
         "name": "to",
         "rawType": "int64",
         "type": "integer"
        }
       ],
       "conversionMethod": "pd.DataFrame",
       "ref": "8e1ade9e-09df-4f5c-8938-25d0ede5f0ac",
       "rows": [
        [
         "0",
         "2339",
         "i charge it at night and skip taking the cord with me because of the good battery life",
         "cord",
         "neutral",
         "41",
         "45"
        ],
        [
         "1",
         "2339",
         "i charge it at night and skip taking the cord with me because of the good battery life",
         "battery life",
         "positive",
         "74",
         "86"
        ],
        [
         "2",
         "1316",
         "the tech guy then said the service center does not do 1to1 exchange and i have to direct my concern to the sales team which is the retail shop which i bought my netbook from",
         "service center",
         "negative",
         "27",
         "41"
        ],
        [
         "3",
         "1316",
         "the tech guy then said the service center does not do 1to1 exchange and i have to direct my concern to the sales team which is the retail shop which i bought my netbook from",
         "\"sales\" team",
         "negative",
         "109",
         "121"
        ],
        [
         "4",
         "1316",
         "the tech guy then said the service center does not do 1to1 exchange and i have to direct my concern to the sales team which is the retail shop which i bought my netbook from",
         "tech guy",
         "neutral",
         "4",
         "12"
        ],
        [
         "5",
         "2005",
         "it is of high quality has a killer gui is extremely stable is highly expandable is bundled with lots of very good applications is easy to use and is absolutely gorgeous",
         "quality",
         "positive",
         "14",
         "21"
        ],
        [
         "6",
         "2005",
         "it is of high quality has a killer gui is extremely stable is highly expandable is bundled with lots of very good applications is easy to use and is absolutely gorgeous",
         "GUI",
         "positive",
         "36",
         "39"
        ],
        [
         "7",
         "2005",
         "it is of high quality has a killer gui is extremely stable is highly expandable is bundled with lots of very good applications is easy to use and is absolutely gorgeous",
         "applications",
         "positive",
         "118",
         "130"
        ],
        [
         "8",
         "2005",
         "it is of high quality has a killer gui is extremely stable is highly expandable is bundled with lots of very good applications is easy to use and is absolutely gorgeous",
         "use",
         "positive",
         "143",
         "146"
        ],
        [
         "9",
         "2789",
         "easy to start up and does not overheat as much as other laptops",
         "start up",
         "positive",
         "8",
         "16"
        ],
        [
         "10",
         "76",
         "i even got my teenage son one because of the features that it offers like ichat photobooth garage band and more",
         "features",
         "positive",
         "46",
         "54"
        ],
        [
         "11",
         "76",
         "i even got my teenage son one because of the features that it offers like ichat photobooth garage band and more",
         "iChat",
         "positive",
         "77",
         "82"
        ],
        [
         "12",
         "76",
         "i even got my teenage son one because of the features that it offers like ichat photobooth garage band and more",
         "Photobooth",
         "positive",
         "84",
         "94"
        ],
        [
         "13",
         "76",
         "i even got my teenage son one because of the features that it offers like ichat photobooth garage band and more",
         "garage band",
         "positive",
         "96",
         "107"
        ],
        [
         "14",
         "80",
         "great laptop that offers many great features",
         "features",
         "positive",
         "36",
         "44"
        ],
        [
         "15",
         "917",
         " one night i turned the freaking thing off after using it the next day i turn it on no gui screen all dark power light steady hard drive light steady and not flashing as it usually does",
         "GUI",
         "negative",
         "89",
         "92"
        ],
        [
         "16",
         "917",
         " one night i turned the freaking thing off after using it the next day i turn it on no gui screen all dark power light steady hard drive light steady and not flashing as it usually does",
         "screen",
         "negative",
         "94",
         "100"
        ],
        [
         "17",
         "917",
         " one night i turned the freaking thing off after using it the next day i turn it on no gui screen all dark power light steady hard drive light steady and not flashing as it usually does",
         "power light",
         "neutral",
         "111",
         "122"
        ],
        [
         "18",
         "917",
         " one night i turned the freaking thing off after using it the next day i turn it on no gui screen all dark power light steady hard drive light steady and not flashing as it usually does",
         "hard drive light",
         "negative",
         "131",
         "147"
        ],
        [
         "19",
         "1630",
         "i took it back for an asus and same thing blue screen which required me to remove the battery to reset",
         "battery",
         "neutral",
         "87",
         "94"
        ],
        [
         "20",
         "38",
         "in the shop these macbooks are encased in a soft rubber enclosure  so you will never know about the razor edge until you buy it get it home break the seal and use it very clever con",
         "rubber enclosure",
         "positive",
         "50",
         "66"
        ],
        [
         "21",
         "38",
         "in the shop these macbooks are encased in a soft rubber enclosure  so you will never know about the razor edge until you buy it get it home break the seal and use it very clever con",
         "edge",
         "negative",
         "108",
         "112"
        ],
        [
         "22",
         "337",
         "however the multitouch gestures and large tracking area make having an external mouse unnecessary unless youre gaming",
         "multi-touch gestures",
         "positive",
         "13",
         "33"
        ],
        [
         "23",
         "337",
         "however the multitouch gestures and large tracking area make having an external mouse unnecessary unless youre gaming",
         "tracking area",
         "positive",
         "44",
         "57"
        ],
        [
         "24",
         "337",
         "however the multitouch gestures and large tracking area make having an external mouse unnecessary unless youre gaming",
         "external mouse",
         "neutral",
         "73",
         "87"
        ],
        [
         "25",
         "337",
         "however the multitouch gestures and large tracking area make having an external mouse unnecessary unless youre gaming",
         "gaming",
         "neutral",
         "115",
         "121"
        ],
        [
         "26",
         "2568",
         "i love the way the entire suite of software works together",
         "suite of software",
         "positive",
         "26",
         "43"
        ],
        [
         "27",
         "295",
         "the speed is incredible and i am more than satisfied",
         "speed",
         "positive",
         "4",
         "9"
        ],
        [
         "28",
         "2759",
         "this laptop meets every expectation and windows 7 is great",
         "Windows 7",
         "positive",
         "40",
         "49"
        ],
        [
         "29",
         "2980",
         "i can barely use any usb devices because they will not stay connected properly",
         "usb devices",
         "negative",
         "21",
         "32"
        ],
        [
         "30",
         "1054",
         "no backlit keyboard but not an issue for me",
         "keyboard",
         "conflict",
         "12",
         "20"
        ],
        [
         "31",
         "743",
         "when i finally had everything running with all my software installed i plugged in my droid to recharge and the system crashed",
         "software",
         "neutral",
         "50",
         "58"
        ],
        [
         "32",
         "743",
         "when i finally had everything running with all my software installed i plugged in my droid to recharge and the system crashed",
         "system",
         "negative",
         "111",
         "117"
        ],
        [
         "33",
         "2587",
         "one suggestion i do have is to not bother getting microsoft office for the mac expecting it will work just like you knew it to on a pc",
         "Microsoft office for the mac",
         "negative",
         "51",
         "79"
        ],
        [
         "34",
         "2202",
         "pairing it with an iphone is a pure pleasure  talk about painless syncing  used to take me forever  now its a snap",
         "syncing",
         "positive",
         "67",
         "74"
        ],
        [
         "35",
         "2227",
         "i also got the added bonus of a 30 hd monitor which really helps to extend my screen and keep my eyes fresh",
         "30\" HD Monitor",
         "positive",
         "32",
         "46"
        ],
        [
         "36",
         "2227",
         "i also got the added bonus of a 30 hd monitor which really helps to extend my screen and keep my eyes fresh",
         "screen",
         "neutral",
         "80",
         "86"
        ],
        [
         "37",
         "92",
         "the machine is slow to boot up and occasionally crashes completely",
         "boot up",
         "negative",
         "23",
         "30"
        ],
        [
         "38",
         "1204",
         "after paying several hundred dollars for this service it is frustrating that you cannot get help after hours",
         "service",
         "negative",
         "46",
         "53"
        ],
        [
         "39",
         "325",
         "i did have to replace the battery once but that was only a couple months ago and its been working perfect ever since",
         "battery",
         "conflict",
         "26",
         "33"
        ],
        [
         "40",
         "1574",
         "i love the operating system and the preloaded software",
         "operating system",
         "positive",
         "11",
         "27"
        ],
        [
         "41",
         "1574",
         "i love the operating system and the preloaded software",
         "preloaded software",
         "positive",
         "36",
         "54"
        ],
        [
         "42",
         "3073",
         "the best thing about this laptop is the price along with some of the newer features",
         "price",
         "positive",
         "40",
         "45"
        ],
        [
         "43",
         "3073",
         "the best thing about this laptop is the price along with some of the newer features",
         "features",
         "positive",
         "75",
         "83"
        ],
        [
         "44",
         "1254",
         "after numerous attempts of trying including setting the clock in bios setup directly i gave upi am a techie",
         "clock in BIOS setup",
         "negative",
         "57",
         "76"
        ],
        [
         "45",
         "810",
         "you will not be able to talk to an american warranty service is out of country",
         "WARRANTY SERVICE",
         "negative",
         "44",
         "60"
        ],
        [
         "46",
         "130",
         "but now i have realized its a problem with this brand",
         "brand",
         "negative",
         "48",
         "53"
        ],
        [
         "47",
         "839",
         "i sent it back to toshiba twice they covered it under the  warranty",
         "warranty",
         "positive",
         "59",
         "67"
        ],
        [
         "48",
         "696",
         "i was looking for a mac which is portable and has all the features that i was looking for",
         "features",
         "positive",
         "58",
         "66"
        ],
        [
         "49",
         "1030",
         "also kinda loud when the fan was running",
         "fan",
         "negative",
         "25",
         "28"
        ]
       ],
       "shape": {
        "columns": 6,
        "rows": 2358
       }
      },
      "text/html": [
       "<div>\n",
       "<style scoped>\n",
       "    .dataframe tbody tr th:only-of-type {\n",
       "        vertical-align: middle;\n",
       "    }\n",
       "\n",
       "    .dataframe tbody tr th {\n",
       "        vertical-align: top;\n",
       "    }\n",
       "\n",
       "    .dataframe thead th {\n",
       "        text-align: right;\n",
       "    }\n",
       "</style>\n",
       "<table border=\"1\" class=\"dataframe\">\n",
       "  <thead>\n",
       "    <tr style=\"text-align: right;\">\n",
       "      <th></th>\n",
       "      <th>id</th>\n",
       "      <th>Sentence</th>\n",
       "      <th>Aspect Term</th>\n",
       "      <th>polarity</th>\n",
       "      <th>from</th>\n",
       "      <th>to</th>\n",
       "    </tr>\n",
       "  </thead>\n",
       "  <tbody>\n",
       "    <tr>\n",
       "      <th>0</th>\n",
       "      <td>2339</td>\n",
       "      <td>i charge it at night and skip taking the cord ...</td>\n",
       "      <td>cord</td>\n",
       "      <td>neutral</td>\n",
       "      <td>41</td>\n",
       "      <td>45</td>\n",
       "    </tr>\n",
       "    <tr>\n",
       "      <th>1</th>\n",
       "      <td>2339</td>\n",
       "      <td>i charge it at night and skip taking the cord ...</td>\n",
       "      <td>battery life</td>\n",
       "      <td>positive</td>\n",
       "      <td>74</td>\n",
       "      <td>86</td>\n",
       "    </tr>\n",
       "    <tr>\n",
       "      <th>2</th>\n",
       "      <td>1316</td>\n",
       "      <td>the tech guy then said the service center does...</td>\n",
       "      <td>service center</td>\n",
       "      <td>negative</td>\n",
       "      <td>27</td>\n",
       "      <td>41</td>\n",
       "    </tr>\n",
       "    <tr>\n",
       "      <th>3</th>\n",
       "      <td>1316</td>\n",
       "      <td>the tech guy then said the service center does...</td>\n",
       "      <td>\"sales\" team</td>\n",
       "      <td>negative</td>\n",
       "      <td>109</td>\n",
       "      <td>121</td>\n",
       "    </tr>\n",
       "    <tr>\n",
       "      <th>4</th>\n",
       "      <td>1316</td>\n",
       "      <td>the tech guy then said the service center does...</td>\n",
       "      <td>tech guy</td>\n",
       "      <td>neutral</td>\n",
       "      <td>4</td>\n",
       "      <td>12</td>\n",
       "    </tr>\n",
       "    <tr>\n",
       "      <th>...</th>\n",
       "      <td>...</td>\n",
       "      <td>...</td>\n",
       "      <td>...</td>\n",
       "      <td>...</td>\n",
       "      <td>...</td>\n",
       "      <td>...</td>\n",
       "    </tr>\n",
       "    <tr>\n",
       "      <th>2353</th>\n",
       "      <td>2272</td>\n",
       "      <td>we also use paralles so we can run virtual mac...</td>\n",
       "      <td>Windows Server Enterprise 2003</td>\n",
       "      <td>neutral</td>\n",
       "      <td>104</td>\n",
       "      <td>134</td>\n",
       "    </tr>\n",
       "    <tr>\n",
       "      <th>2354</th>\n",
       "      <td>2272</td>\n",
       "      <td>we also use paralles so we can run virtual mac...</td>\n",
       "      <td>Windows Server 2008 Enterprise</td>\n",
       "      <td>neutral</td>\n",
       "      <td>140</td>\n",
       "      <td>170</td>\n",
       "    </tr>\n",
       "    <tr>\n",
       "      <th>2355</th>\n",
       "      <td>848</td>\n",
       "      <td>how toshiba handles the repair seems to vary s...</td>\n",
       "      <td>repair</td>\n",
       "      <td>conflict</td>\n",
       "      <td>24</td>\n",
       "      <td>30</td>\n",
       "    </tr>\n",
       "    <tr>\n",
       "      <th>2356</th>\n",
       "      <td>848</td>\n",
       "      <td>how toshiba handles the repair seems to vary s...</td>\n",
       "      <td>repair</td>\n",
       "      <td>positive</td>\n",
       "      <td>130</td>\n",
       "      <td>136</td>\n",
       "    </tr>\n",
       "    <tr>\n",
       "      <th>2357</th>\n",
       "      <td>734</td>\n",
       "      <td>i would like to use a different operating syst...</td>\n",
       "      <td>operating system</td>\n",
       "      <td>neutral</td>\n",
       "      <td>32</td>\n",
       "      <td>48</td>\n",
       "    </tr>\n",
       "  </tbody>\n",
       "</table>\n",
       "<p>2358 rows × 6 columns</p>\n",
       "</div>"
      ],
      "text/plain": [
       "        id                                           Sentence  \\\n",
       "0     2339  i charge it at night and skip taking the cord ...   \n",
       "1     2339  i charge it at night and skip taking the cord ...   \n",
       "2     1316  the tech guy then said the service center does...   \n",
       "3     1316  the tech guy then said the service center does...   \n",
       "4     1316  the tech guy then said the service center does...   \n",
       "...    ...                                                ...   \n",
       "2353  2272  we also use paralles so we can run virtual mac...   \n",
       "2354  2272  we also use paralles so we can run virtual mac...   \n",
       "2355   848  how toshiba handles the repair seems to vary s...   \n",
       "2356   848  how toshiba handles the repair seems to vary s...   \n",
       "2357   734  i would like to use a different operating syst...   \n",
       "\n",
       "                         Aspect Term  polarity  from   to  \n",
       "0                               cord   neutral    41   45  \n",
       "1                       battery life  positive    74   86  \n",
       "2                     service center  negative    27   41  \n",
       "3                       \"sales\" team  negative   109  121  \n",
       "4                           tech guy   neutral     4   12  \n",
       "...                              ...       ...   ...  ...  \n",
       "2353  Windows Server Enterprise 2003   neutral   104  134  \n",
       "2354  Windows Server 2008 Enterprise   neutral   140  170  \n",
       "2355                          repair  conflict    24   30  \n",
       "2356                          repair  positive   130  136  \n",
       "2357                operating system   neutral    32   48  \n",
       "\n",
       "[2358 rows x 6 columns]"
      ]
     },
     "execution_count": 122,
     "metadata": {},
     "output_type": "execute_result"
    }
   ],
   "source": [
    "df"
   ]
  },
  {
   "cell_type": "code",
   "execution_count": null,
   "metadata": {},
   "outputs": [
    {
     "data": {
      "text/plain": [
       "'i charge it at night and skip taking the cord with me because of the good battery life <sep> cord'"
      ]
     },
     "execution_count": 126,
     "metadata": {},
     "output_type": "execute_result"
    }
   ],
   "source": [
    "a= data['sentence'][0]\n",
    "b= data['aspect_term'][0]\n",
    "a+' <sep> '+b"
   ]
  },
  {
   "cell_type": "code",
   "execution_count": null,
   "metadata": {},
   "outputs": [
    {
     "data": {
      "text/plain": [
       "6"
      ]
     },
     "execution_count": 113,
     "metadata": {},
     "output_type": "execute_result"
    }
   ],
   "source": [
    "max_len_tags = max(len(text.split(' ')) for text in data['aspect_term'].values)\n",
    "max_len_tags"
   ]
  },
  {
   "cell_type": "code",
   "execution_count": null,
   "metadata": {},
   "outputs": [],
   "source": [
    "seq_len+=max_len_tags\n"
   ]
  },
  {
   "cell_type": "code",
   "execution_count": null,
   "metadata": {},
   "outputs": [],
   "source": [
    "def vectorize(data, tokenizer, seq_len):\n",
    "    input_ids=[]\n",
    "    polarities=[]\n",
    "    for sentence, aspect_term , polarity in zip(data['sentence'],data['aspect_term'] ,data['polarity']):\n",
    "        sentence= sentence + ' <sep> ' + aspect_term\n",
    "        \n",
    "        input_id = [tokenizer.token_to_id(word) if tokenizer.token_to_id(word) else 0  for word in sentence.split(' ') ]\n",
    "        input_id= pad_and_truncate(input_id,seq_len, tokenizer.token_to_id('<pad>'))\n",
    "        \n",
    "        if polarity=='neural':\n",
    "            key_polarity = 0\n",
    "        elif polarity=='positive':\n",
    "            key_polarity =1\n",
    "        else:\n",
    "            key_polarity =2\n",
    "        \n",
    "        \n",
    "        input_ids.append(input_id)\n",
    "        polarities.append(key_polarity)\n",
    "    \n",
    "    return {\n",
    "        'input_ids': torch.tensor(input_ids),\n",
    "        'polarities': torch.tensor(polarities)    \n",
    "            }\n",
    "        \n",
    "        \n",
    "        \n",
    "        \n",
    "        \n",
    "        \n",
    "        "
   ]
  },
  {
   "cell_type": "code",
   "execution_count": null,
   "metadata": {},
   "outputs": [],
   "source": [
    "a = vectorize(data,tokenizer,seq_len)"
   ]
  },
  {
   "cell_type": "code",
   "execution_count": 87,
   "metadata": {},
   "outputs": [],
   "source": [
    "class ABSADataset(Dataset):\n",
    "    def __init__(self, data, tokenizer, seq_len):\n",
    "        temp= vectorize(data, tokenizer, seq_len)\n",
    "        self.input_ids= temp['input_ids']\n",
    "        self.polarities= temp['polarities']\n",
    "    \n",
    "    def __len__(self):\n",
    "        return len(self.input_ids)\n",
    "\n",
    "    def __getitem__(self, idx):\n",
    "        return self.input_ids[idx], self.polarities[idx]\n",
    "    \n",
    "    \n",
    "    "
   ]
  },
  {
   "cell_type": "code",
   "execution_count": null,
   "metadata": {},
   "outputs": [],
   "source": [
    "train_ds = ABSADataset(data, tokenizer, seq_len)\n",
    "train_loader = DataLoader(train_ds,batch_size=32,shuffle=True)\n"
   ]
  },
  {
   "cell_type": "code",
   "execution_count": null,
   "metadata": {},
   "outputs": [],
   "source": [
    "class ABSAModel(nn.Module):\n",
    "    def __init__(self, vocab_size, embedding_dim, hidden_size,n_heads, num_layers, num_classes):\n",
    "        super(ABSAModel,self).__init__()\n",
    "        self.embedding = nn.Embedding(vocab_size, embedding_dim)\n",
    "        self.positional_encoding = nn.Embedding(seq_len, embedding_dim)\n",
    "        encoder_layer = nn.TransformerEncoderLayer(d_model=embedding_dim, dim_feedforward=1024, dropout=0.2, nhead=n_heads)\n",
    "        self.encoder = nn.TransformerEncoder(encoder_layer, num_layers)\n",
    "        self.conv1d = nn.Conv1d(embedding_dim, 256, 3, 1,1)\n",
    "        \n",
    "        self.fc = nn.Sequential(\n",
    "            nn.Linear(256,128),\n",
    "            nn.LeakyReLU(),\n",
    "            nn.Dropout(0.2),\n",
    "            nn.Linear(128,64),\n",
    "            nn.GELU(),\n",
    "            nn.Dropout(0.1),\n",
    "            nn.Linear(64,num_classes)\n",
    "        )\n",
    "        \n",
    "    def forward(self, input_ids):\n",
    "        positions= torch.arange(input_ids.size(1),device=input_ids.device).unsqueeze(0)\n",
    "        embedded = self.embedding(input_ids)\n",
    "        positional_encoding = self.positional_encoding(positions)\n",
    "        inputs = embedded+ positional_encoding # NxLxD\n",
    "        \n",
    "        inputs = self.encoder(inputs)\n",
    "        \n",
    "        inputs = self.conv1d(inputs.permute(0,2,1)) # NxDxL\n",
    "        avg_pooling = nn.AvgPool1d(kernel_size=inputs.size(2))\n",
    "        inputs= avg_pooling(inputs) #NxDx1\n",
    "        inputs = inputs.squeeze(2) #NxD\n",
    "        logits = self.fc(inputs) \n",
    "        \n",
    "        return logits "
   ]
  },
  {
   "cell_type": "code",
   "execution_count": null,
   "metadata": {},
   "outputs": [
    {
     "name": "stderr",
     "output_type": "stream",
     "text": [
      "c:\\Users\\pikke\\AppData\\Local\\Programs\\Python\\Python313\\Lib\\site-packages\\torch\\nn\\modules\\transformer.py:385: UserWarning: enable_nested_tensor is True, but self.use_nested_tensor is False because encoder_layer.self_attn.batch_first was not True(use batch_first for better inference performance)\n",
      "  warnings.warn(\n"
     ]
    }
   ],
   "source": [
    "device= 'cuda' if torch.cuda.is_available() else 'cpu'\n",
    "model =ABSAModel(tokenizer.get_vocab_size(), 512, 256,4,4,3)\n",
    "model = model.to(device)\n",
    "\n",
    "optimizer = torch.optim.Adam(model.parameters(),lr = 1e-5)\n",
    "criterion= nn.CrossEntropyLoss()"
   ]
  },
  {
   "cell_type": "code",
   "execution_count": null,
   "metadata": {},
   "outputs": [],
   "source": [
    "def train(model, train_loader, device,optimizer, criterion, epochs):\n",
    "    total_losses=[]\n",
    "    for epoch in tqdm(range(epochs),desc='Epoch'):\n",
    "        epoch_loss=[]\n",
    "        model.train()\n",
    "        for idx, (input_ids, polarities) in enumerate(tqdm(train_loader,desc='Training',leave=False)):\n",
    "            optimizer.zero_grad()\n",
    "            input_ids= input_ids.to(device)\n",
    "            polarities=polarities.to(device)\n",
    "            preds = model(input_ids)\n",
    "            loss= criterion(preds, polarities)\n",
    "            loss.backward()\n",
    "            optimizer.step()\n",
    "            \n",
    "            epoch_loss.append(loss)\n",
    "        avg_loss = sum(epoch_loss)/len(epoch_loss)\n",
    "        total_losses.append(avg_loss)\n",
    "        print(f'Epoch {epoch+1}\\t Training Loss: {avg_loss:.4f}')\n",
    "    train_loss = sum(total_losses)/len(total_losses)\n",
    "    \n",
    "    print(f'Total Loss: {train_loss:.4f}')\n",
    "    "
   ]
  },
  {
   "cell_type": "code",
   "execution_count": null,
   "metadata": {},
   "outputs": [
    {
     "name": "stderr",
     "output_type": "stream",
     "text": [
      "Epoch:   2%|▏         | 1/50 [00:09<08:04,  9.90s/it]"
     ]
    },
    {
     "name": "stdout",
     "output_type": "stream",
     "text": [
      "Epoch 1\t Training Loss: 0.7006\n"
     ]
    },
    {
     "name": "stderr",
     "output_type": "stream",
     "text": [
      "Epoch:   4%|▍         | 2/50 [00:19<07:32,  9.43s/it]"
     ]
    },
    {
     "name": "stdout",
     "output_type": "stream",
     "text": [
      "Epoch 2\t Training Loss: 0.7035\n"
     ]
    },
    {
     "name": "stderr",
     "output_type": "stream",
     "text": [
      "Epoch:   6%|▌         | 3/50 [00:28<07:15,  9.26s/it]"
     ]
    },
    {
     "name": "stdout",
     "output_type": "stream",
     "text": [
      "Epoch 3\t Training Loss: 0.6989\n"
     ]
    },
    {
     "name": "stderr",
     "output_type": "stream",
     "text": [
      "Epoch:   8%|▊         | 4/50 [00:38<07:20,  9.57s/it]"
     ]
    },
    {
     "name": "stdout",
     "output_type": "stream",
     "text": [
      "Epoch 4\t Training Loss: 0.6949\n"
     ]
    },
    {
     "name": "stderr",
     "output_type": "stream",
     "text": [
      "Epoch:  10%|█         | 5/50 [00:47<07:12,  9.61s/it]"
     ]
    },
    {
     "name": "stdout",
     "output_type": "stream",
     "text": [
      "Epoch 5\t Training Loss: 0.6984\n"
     ]
    },
    {
     "name": "stderr",
     "output_type": "stream",
     "text": [
      "Epoch:  12%|█▏        | 6/50 [00:57<07:06,  9.68s/it]"
     ]
    },
    {
     "name": "stdout",
     "output_type": "stream",
     "text": [
      "Epoch 6\t Training Loss: 0.6899\n"
     ]
    },
    {
     "name": "stderr",
     "output_type": "stream",
     "text": [
      "Epoch:  14%|█▍        | 7/50 [01:07<06:56,  9.69s/it]"
     ]
    },
    {
     "name": "stdout",
     "output_type": "stream",
     "text": [
      "Epoch 7\t Training Loss: 0.6889\n"
     ]
    },
    {
     "name": "stderr",
     "output_type": "stream",
     "text": [
      "Epoch:  16%|█▌        | 8/50 [01:16<06:41,  9.56s/it]"
     ]
    },
    {
     "name": "stdout",
     "output_type": "stream",
     "text": [
      "Epoch 8\t Training Loss: 0.6833\n"
     ]
    },
    {
     "name": "stderr",
     "output_type": "stream",
     "text": [
      "Epoch:  18%|█▊        | 9/50 [01:25<06:28,  9.48s/it]"
     ]
    },
    {
     "name": "stdout",
     "output_type": "stream",
     "text": [
      "Epoch 9\t Training Loss: 0.6832\n"
     ]
    },
    {
     "name": "stderr",
     "output_type": "stream",
     "text": [
      "Epoch:  20%|██        | 10/50 [01:35<06:17,  9.44s/it]"
     ]
    },
    {
     "name": "stdout",
     "output_type": "stream",
     "text": [
      "Epoch 10\t Training Loss: 0.6777\n"
     ]
    },
    {
     "name": "stderr",
     "output_type": "stream",
     "text": [
      "Epoch:  22%|██▏       | 11/50 [01:44<06:09,  9.46s/it]"
     ]
    },
    {
     "name": "stdout",
     "output_type": "stream",
     "text": [
      "Epoch 11\t Training Loss: 0.6713\n"
     ]
    },
    {
     "name": "stderr",
     "output_type": "stream",
     "text": [
      "Epoch:  24%|██▍       | 12/50 [01:54<05:57,  9.41s/it]"
     ]
    },
    {
     "name": "stdout",
     "output_type": "stream",
     "text": [
      "Epoch 12\t Training Loss: 0.6562\n"
     ]
    },
    {
     "name": "stderr",
     "output_type": "stream",
     "text": [
      "Epoch:  26%|██▌       | 13/50 [02:03<05:43,  9.29s/it]"
     ]
    },
    {
     "name": "stdout",
     "output_type": "stream",
     "text": [
      "Epoch 13\t Training Loss: 0.6497\n"
     ]
    },
    {
     "name": "stderr",
     "output_type": "stream",
     "text": [
      "Epoch:  28%|██▊       | 14/50 [02:12<05:31,  9.22s/it]"
     ]
    },
    {
     "name": "stdout",
     "output_type": "stream",
     "text": [
      "Epoch 14\t Training Loss: 0.6451\n"
     ]
    },
    {
     "name": "stderr",
     "output_type": "stream",
     "text": [
      "Epoch:  30%|███       | 15/50 [02:21<05:24,  9.26s/it]"
     ]
    },
    {
     "name": "stdout",
     "output_type": "stream",
     "text": [
      "Epoch 15\t Training Loss: 0.6310\n"
     ]
    },
    {
     "name": "stderr",
     "output_type": "stream",
     "text": [
      "Epoch:  32%|███▏      | 16/50 [02:30<05:16,  9.32s/it]"
     ]
    },
    {
     "name": "stdout",
     "output_type": "stream",
     "text": [
      "Epoch 16\t Training Loss: 0.6156\n"
     ]
    },
    {
     "name": "stderr",
     "output_type": "stream",
     "text": [
      "Epoch:  34%|███▍      | 17/50 [02:41<05:17,  9.63s/it]"
     ]
    },
    {
     "name": "stdout",
     "output_type": "stream",
     "text": [
      "Epoch 17\t Training Loss: 0.6067\n"
     ]
    },
    {
     "name": "stderr",
     "output_type": "stream",
     "text": [
      "Epoch:  36%|███▌      | 18/50 [02:50<05:04,  9.52s/it]"
     ]
    },
    {
     "name": "stdout",
     "output_type": "stream",
     "text": [
      "Epoch 18\t Training Loss: 0.5902\n"
     ]
    },
    {
     "name": "stderr",
     "output_type": "stream",
     "text": [
      "Epoch:  38%|███▊      | 19/50 [02:59<04:51,  9.40s/it]"
     ]
    },
    {
     "name": "stdout",
     "output_type": "stream",
     "text": [
      "Epoch 19\t Training Loss: 0.5622\n"
     ]
    },
    {
     "name": "stderr",
     "output_type": "stream",
     "text": [
      "Epoch:  40%|████      | 20/50 [03:08<04:39,  9.31s/it]"
     ]
    },
    {
     "name": "stdout",
     "output_type": "stream",
     "text": [
      "Epoch 20\t Training Loss: 0.5398\n"
     ]
    },
    {
     "name": "stderr",
     "output_type": "stream",
     "text": [
      "Epoch:  42%|████▏     | 21/50 [03:17<04:27,  9.23s/it]"
     ]
    },
    {
     "name": "stdout",
     "output_type": "stream",
     "text": [
      "Epoch 21\t Training Loss: 0.5223\n"
     ]
    },
    {
     "name": "stderr",
     "output_type": "stream",
     "text": [
      "Epoch:  44%|████▍     | 22/50 [03:26<04:17,  9.21s/it]"
     ]
    },
    {
     "name": "stdout",
     "output_type": "stream",
     "text": [
      "Epoch 22\t Training Loss: 0.4955\n"
     ]
    },
    {
     "name": "stderr",
     "output_type": "stream",
     "text": [
      "Epoch:  46%|████▌     | 23/50 [03:36<04:09,  9.23s/it]"
     ]
    },
    {
     "name": "stdout",
     "output_type": "stream",
     "text": [
      "Epoch 23\t Training Loss: 0.4981\n"
     ]
    },
    {
     "name": "stderr",
     "output_type": "stream",
     "text": [
      "Epoch:  48%|████▊     | 24/50 [03:45<04:01,  9.30s/it]"
     ]
    },
    {
     "name": "stdout",
     "output_type": "stream",
     "text": [
      "Epoch 24\t Training Loss: 0.4911\n"
     ]
    },
    {
     "name": "stderr",
     "output_type": "stream",
     "text": [
      "Epoch:  50%|█████     | 25/50 [03:54<03:52,  9.29s/it]"
     ]
    },
    {
     "name": "stdout",
     "output_type": "stream",
     "text": [
      "Epoch 25\t Training Loss: 0.4825\n"
     ]
    },
    {
     "name": "stderr",
     "output_type": "stream",
     "text": [
      "Epoch:  52%|█████▏    | 26/50 [04:04<03:43,  9.29s/it]"
     ]
    },
    {
     "name": "stdout",
     "output_type": "stream",
     "text": [
      "Epoch 26\t Training Loss: 0.4886\n"
     ]
    },
    {
     "name": "stderr",
     "output_type": "stream",
     "text": [
      "Epoch:  54%|█████▍    | 27/50 [04:13<03:32,  9.24s/it]"
     ]
    },
    {
     "name": "stdout",
     "output_type": "stream",
     "text": [
      "Epoch 27\t Training Loss: 0.4648\n"
     ]
    },
    {
     "name": "stderr",
     "output_type": "stream",
     "text": [
      "Epoch:  56%|█████▌    | 28/50 [04:23<03:25,  9.36s/it]"
     ]
    },
    {
     "name": "stdout",
     "output_type": "stream",
     "text": [
      "Epoch 28\t Training Loss: 0.4613\n"
     ]
    },
    {
     "name": "stderr",
     "output_type": "stream",
     "text": [
      "Epoch:  58%|█████▊    | 29/50 [04:32<03:15,  9.30s/it]"
     ]
    },
    {
     "name": "stdout",
     "output_type": "stream",
     "text": [
      "Epoch 29\t Training Loss: 0.4519\n"
     ]
    },
    {
     "name": "stderr",
     "output_type": "stream",
     "text": [
      "Epoch:  60%|██████    | 30/50 [04:41<03:07,  9.37s/it]"
     ]
    },
    {
     "name": "stdout",
     "output_type": "stream",
     "text": [
      "Epoch 30\t Training Loss: 0.4496\n"
     ]
    },
    {
     "name": "stderr",
     "output_type": "stream",
     "text": [
      "Epoch:  62%|██████▏   | 31/50 [04:50<02:57,  9.32s/it]"
     ]
    },
    {
     "name": "stdout",
     "output_type": "stream",
     "text": [
      "Epoch 31\t Training Loss: 0.4432\n"
     ]
    },
    {
     "name": "stderr",
     "output_type": "stream",
     "text": [
      "Epoch:  64%|██████▍   | 32/50 [05:00<02:47,  9.29s/it]"
     ]
    },
    {
     "name": "stdout",
     "output_type": "stream",
     "text": [
      "Epoch 32\t Training Loss: 0.4433\n"
     ]
    },
    {
     "name": "stderr",
     "output_type": "stream",
     "text": [
      "Epoch:  66%|██████▌   | 33/50 [05:10<02:41,  9.49s/it]"
     ]
    },
    {
     "name": "stdout",
     "output_type": "stream",
     "text": [
      "Epoch 33\t Training Loss: 0.4471\n"
     ]
    },
    {
     "name": "stderr",
     "output_type": "stream",
     "text": [
      "Epoch:  68%|██████▊   | 34/50 [05:19<02:30,  9.44s/it]"
     ]
    },
    {
     "name": "stdout",
     "output_type": "stream",
     "text": [
      "Epoch 34\t Training Loss: 0.4240\n"
     ]
    },
    {
     "name": "stderr",
     "output_type": "stream",
     "text": [
      "Epoch:  70%|███████   | 35/50 [05:28<02:20,  9.33s/it]"
     ]
    },
    {
     "name": "stdout",
     "output_type": "stream",
     "text": [
      "Epoch 35\t Training Loss: 0.4265\n"
     ]
    },
    {
     "name": "stderr",
     "output_type": "stream",
     "text": [
      "Epoch:  72%|███████▏  | 36/50 [05:37<02:09,  9.27s/it]"
     ]
    },
    {
     "name": "stdout",
     "output_type": "stream",
     "text": [
      "Epoch 36\t Training Loss: 0.4296\n"
     ]
    },
    {
     "name": "stderr",
     "output_type": "stream",
     "text": [
      "Epoch:  74%|███████▍  | 37/50 [05:48<02:06,  9.74s/it]"
     ]
    },
    {
     "name": "stdout",
     "output_type": "stream",
     "text": [
      "Epoch 37\t Training Loss: 0.4228\n"
     ]
    },
    {
     "name": "stderr",
     "output_type": "stream",
     "text": [
      "Epoch:  76%|███████▌  | 38/50 [05:58<01:56,  9.71s/it]"
     ]
    },
    {
     "name": "stdout",
     "output_type": "stream",
     "text": [
      "Epoch 38\t Training Loss: 0.4143\n"
     ]
    },
    {
     "name": "stderr",
     "output_type": "stream",
     "text": [
      "Epoch:  78%|███████▊  | 39/50 [06:10<01:55, 10.48s/it]"
     ]
    },
    {
     "name": "stdout",
     "output_type": "stream",
     "text": [
      "Epoch 39\t Training Loss: 0.4135\n"
     ]
    },
    {
     "name": "stderr",
     "output_type": "stream",
     "text": [
      "Epoch:  80%|████████  | 40/50 [06:19<01:40, 10.08s/it]"
     ]
    },
    {
     "name": "stdout",
     "output_type": "stream",
     "text": [
      "Epoch 40\t Training Loss: 0.4017\n"
     ]
    },
    {
     "name": "stderr",
     "output_type": "stream",
     "text": [
      "Epoch:  82%|████████▏ | 41/50 [06:29<01:29, 10.00s/it]"
     ]
    },
    {
     "name": "stdout",
     "output_type": "stream",
     "text": [
      "Epoch 41\t Training Loss: 0.4070\n"
     ]
    },
    {
     "name": "stderr",
     "output_type": "stream",
     "text": [
      "Epoch:  84%|████████▍ | 42/50 [06:39<01:19, 10.00s/it]"
     ]
    },
    {
     "name": "stdout",
     "output_type": "stream",
     "text": [
      "Epoch 42\t Training Loss: 0.3971\n"
     ]
    },
    {
     "name": "stderr",
     "output_type": "stream",
     "text": [
      "Epoch:  86%|████████▌ | 43/50 [06:48<01:08,  9.78s/it]"
     ]
    },
    {
     "name": "stdout",
     "output_type": "stream",
     "text": [
      "Epoch 43\t Training Loss: 0.3877\n"
     ]
    },
    {
     "name": "stderr",
     "output_type": "stream",
     "text": [
      "Epoch:  88%|████████▊ | 44/50 [06:57<00:57,  9.63s/it]"
     ]
    },
    {
     "name": "stdout",
     "output_type": "stream",
     "text": [
      "Epoch 44\t Training Loss: 0.3893\n"
     ]
    },
    {
     "name": "stderr",
     "output_type": "stream",
     "text": [
      "Epoch:  90%|█████████ | 45/50 [07:07<00:48,  9.62s/it]"
     ]
    },
    {
     "name": "stdout",
     "output_type": "stream",
     "text": [
      "Epoch 45\t Training Loss: 0.3876\n"
     ]
    },
    {
     "name": "stderr",
     "output_type": "stream",
     "text": [
      "Epoch:  92%|█████████▏| 46/50 [07:17<00:38,  9.61s/it]"
     ]
    },
    {
     "name": "stdout",
     "output_type": "stream",
     "text": [
      "Epoch 46\t Training Loss: 0.3896\n"
     ]
    },
    {
     "name": "stderr",
     "output_type": "stream",
     "text": [
      "Epoch:  94%|█████████▍| 47/50 [07:26<00:28,  9.62s/it]"
     ]
    },
    {
     "name": "stdout",
     "output_type": "stream",
     "text": [
      "Epoch 47\t Training Loss: 0.3719\n"
     ]
    },
    {
     "name": "stderr",
     "output_type": "stream",
     "text": [
      "Epoch:  96%|█████████▌| 48/50 [07:35<00:19,  9.51s/it]"
     ]
    },
    {
     "name": "stdout",
     "output_type": "stream",
     "text": [
      "Epoch 48\t Training Loss: 0.3710\n"
     ]
    },
    {
     "name": "stderr",
     "output_type": "stream",
     "text": [
      "Epoch:  98%|█████████▊| 49/50 [07:45<00:09,  9.44s/it]"
     ]
    },
    {
     "name": "stdout",
     "output_type": "stream",
     "text": [
      "Epoch 49\t Training Loss: 0.3797\n"
     ]
    },
    {
     "name": "stderr",
     "output_type": "stream",
     "text": [
      "Epoch: 100%|██████████| 50/50 [07:55<00:00,  9.50s/it]\n"
     ]
    },
    {
     "name": "stdout",
     "output_type": "stream",
     "text": [
      "Epoch 50\t Training Loss: 0.3760\n",
      "Total Loss: 0.5203\n"
     ]
    }
   ],
   "source": [
    "train(model, train_loader, device,optimizer, criterion,50)"
   ]
  },
  {
   "cell_type": "code",
   "execution_count": 192,
   "metadata": {},
   "outputs": [],
   "source": [
    "test_df_path = 'Dataset/Laptops_Test_Data_PhaseA.csv'\n",
    "test_df= pd.read_csv(test_df_path)\n"
   ]
  },
  {
   "cell_type": "code",
   "execution_count": 193,
   "metadata": {},
   "outputs": [
    {
     "data": {
      "application/vnd.microsoft.datawrangler.viewer.v0+json": {
       "columns": [
        {
         "name": "index",
         "rawType": "int64",
         "type": "integer"
        },
        {
         "name": "id",
         "rawType": "object",
         "type": "string"
        },
        {
         "name": "Sentence",
         "rawType": "object",
         "type": "string"
        }
       ],
       "conversionMethod": "pd.DataFrame",
       "ref": "dd24edea-8a0b-47a2-adfc-a5d3d8a28db8",
       "rows": [
        [
         "0",
         "892:1",
         "Boot time is super fast, around anywhere from 35 seconds to 1 minute."
        ],
        [
         "1",
         "1144:1",
         "tech support would not fix the problem unless I bought your plan for $150 plus."
        ],
        [
         "2",
         "805:2",
         "but in resume this computer rocks!"
        ],
        [
         "3",
         "359:1",
         "Set up was easy."
        ],
        [
         "4",
         "562:1",
         "Did not enjoy the new Windows 8 and touchscreen functions."
        ],
        [
         "5",
         "323:1",
         "I expected so as it's an Apple product, but I was glad to see my expectations exceeded, this is THE laptop to buy right now."
        ],
        [
         "6",
         "958:1",
         "Other than not being a fan of click pads (industry standard these days) and the lousy internal speakers, it's hard for me to find things about this notebook I don't like, especially considering the $350 price tag."
        ],
        [
         "7",
         "684:1",
         "excellent in every way."
        ],
        [
         "8",
         "282:9",
         "No installation disk (DVD) is included."
        ],
        [
         "9",
         "819:1",
         "It's fast, light, and simple to use."
        ],
        [
         "10",
         "130:1",
         "Works well, and I am extremely happy to be back to an apple OS."
        ],
        [
         "11",
         "787:270",
         "This mac has been a problem since we got it."
        ],
        [
         "12",
         "593:1",
         "Sure it's not light and slim but the features make up for it 100%."
        ],
        [
         "13",
         "996:1",
         "I am pleased with the fast log on, speedy WiFi connection and the long battery life (>6 hrs)."
        ],
        [
         "14",
         "314:21",
         "The Apple engineers have not yet discovered the delete key."
        ],
        [
         "15",
         "147:5",
         "Made interneting (part of my business) very difficult to maintain."
        ],
        [
         "16",
         "3:1",
         "Luckily, for all of us contemplating the decision, the Mac Mini is priced just right."
        ],
        [
         "17",
         "132:1",
         "Small and still VERY powerful."
        ],
        [
         "18",
         "293:1",
         "I had gotten this model for  $1199.00 on my State's tax-free weekend and had a $100 off coupon for a MacBook at the local BestBuy!"
        ],
        [
         "19",
         "663:1",
         "Super light, super sexy and everything just works."
        ],
        [
         "20",
         "373:1",
         "Only problem that I had was that the track pad was not very good for me, I only had a problem once or twice with it, But probably my computer was a bit defective."
        ],
        [
         "21",
         "787:709",
         "And if you are switching from a pc I hilghy sugest this one."
        ],
        [
         "22",
         "759:1",
         "It is super fast and has outstanding graphics."
        ],
        [
         "23",
         "326:1",
         "But the mountain lion is just too slow."
        ],
        [
         "24",
         "488:1",
         "Strong build though which really adds to its durability."
        ],
        [
         "25",
         "847:1",
         "The battery life is excellent- 6-7 hours without charging."
        ],
        [
         "26",
         "641:1",
         "I enjoy having apple products."
        ],
        [
         "27",
         "561:1",
         "I've had my computer for 2 weeks already and it works perfectly."
        ],
        [
         "28",
         "357:1",
         "I will never go back to a PC again!"
        ],
        [
         "29",
         "1062:1",
         "And I may be the only one but I am really liking Windows 8."
        ],
        [
         "30",
         "792:2",
         "The baterry is very longer."
        ],
        [
         "31",
         "81:1",
         "And it's so quiet that I don't hear it at all."
        ],
        [
         "32",
         "809:1",
         "Its size is ideal and the weight is acceptable."
        ],
        [
         "33",
         "787:467",
         "I know Apples are more expensive than PCs, but he thinks it is worth every penny."
        ],
        [
         "34",
         "144:1",
         "To me it's a workhorse... and quiet as can be... you even save big bucks not dishing out any extra to Uncle Sam... Definite Buy..."
        ],
        [
         "35",
         "495:1",
         "I can say that I am fully satisfied with the performance that the computer has supplied."
        ],
        [
         "36",
         "393:1",
         "I'm pretty sure when I bought it, my bank account went 'ouch!"
        ],
        [
         "37",
         "127:1",
         "Thank you so much for the great item."
        ],
        [
         "38",
         "910:1",
         "This laptop has only 2 USB ports, and they are both on the same side."
        ],
        [
         "39",
         "1047:1",
         "It's annoying very much and I won't ever buy any Acer products."
        ],
        [
         "40",
         "470:1",
         "This is why I purchased a BRAND NEW LAPTOP in the first place so it wouldn't have ANY problems."
        ],
        [
         "41",
         "499:1",
         "It has so much more speed and the screen is very sharp."
        ],
        [
         "42",
         "457:1",
         "As for the laptop, this is our 3rd Apple computer in the past 2 years."
        ],
        [
         "43",
         "636:1",
         "Everything I wanted and everything I needed and the price was great!"
        ],
        [
         "44",
         "48:1",
         "It's not inexpensive but the Hardware performance is impressive for a computer this small."
        ],
        [
         "45",
         "992:1",
         "It is better than my old acer laptop."
        ],
        [
         "46",
         "57:1",
         "This thing is awesome, everything always works, everything is always easy to set up, everything is compatible, its literally everything I could ask for."
        ],
        [
         "47",
         "29:568",
         "I would buy it again in a heartbeat!"
        ],
        [
         "48",
         "387:7",
         "Keyboard responds well to presses."
        ],
        [
         "49",
         "211:0",
         "If someone called me an Apple Fanboy...it would make sense."
        ]
       ],
       "shape": {
        "columns": 2,
        "rows": 800
       }
      },
      "text/html": [
       "<div>\n",
       "<style scoped>\n",
       "    .dataframe tbody tr th:only-of-type {\n",
       "        vertical-align: middle;\n",
       "    }\n",
       "\n",
       "    .dataframe tbody tr th {\n",
       "        vertical-align: top;\n",
       "    }\n",
       "\n",
       "    .dataframe thead th {\n",
       "        text-align: right;\n",
       "    }\n",
       "</style>\n",
       "<table border=\"1\" class=\"dataframe\">\n",
       "  <thead>\n",
       "    <tr style=\"text-align: right;\">\n",
       "      <th></th>\n",
       "      <th>id</th>\n",
       "      <th>Sentence</th>\n",
       "    </tr>\n",
       "  </thead>\n",
       "  <tbody>\n",
       "    <tr>\n",
       "      <th>0</th>\n",
       "      <td>892:1</td>\n",
       "      <td>Boot time is super fast, around anywhere from ...</td>\n",
       "    </tr>\n",
       "    <tr>\n",
       "      <th>1</th>\n",
       "      <td>1144:1</td>\n",
       "      <td>tech support would not fix the problem unless ...</td>\n",
       "    </tr>\n",
       "    <tr>\n",
       "      <th>2</th>\n",
       "      <td>805:2</td>\n",
       "      <td>but in resume this computer rocks!</td>\n",
       "    </tr>\n",
       "    <tr>\n",
       "      <th>3</th>\n",
       "      <td>359:1</td>\n",
       "      <td>Set up was easy.</td>\n",
       "    </tr>\n",
       "    <tr>\n",
       "      <th>4</th>\n",
       "      <td>562:1</td>\n",
       "      <td>Did not enjoy the new Windows 8 and touchscree...</td>\n",
       "    </tr>\n",
       "    <tr>\n",
       "      <th>...</th>\n",
       "      <td>...</td>\n",
       "      <td>...</td>\n",
       "    </tr>\n",
       "    <tr>\n",
       "      <th>795</th>\n",
       "      <td>256:1</td>\n",
       "      <td>This hardware seems to be better than the iMac...</td>\n",
       "    </tr>\n",
       "    <tr>\n",
       "      <th>796</th>\n",
       "      <td>246:1</td>\n",
       "      <td>I'm done with WinDoze computers.</td>\n",
       "    </tr>\n",
       "    <tr>\n",
       "      <th>797</th>\n",
       "      <td>520:1</td>\n",
       "      <td>I've had it for about 2 months now and found n...</td>\n",
       "    </tr>\n",
       "    <tr>\n",
       "      <th>798</th>\n",
       "      <td>306:2</td>\n",
       "      <td>the latest version does not have a disc drive.</td>\n",
       "    </tr>\n",
       "    <tr>\n",
       "      <th>799</th>\n",
       "      <td>280:11</td>\n",
       "      <td>Screen - although some people might complain a...</td>\n",
       "    </tr>\n",
       "  </tbody>\n",
       "</table>\n",
       "<p>800 rows × 2 columns</p>\n",
       "</div>"
      ],
      "text/plain": [
       "         id                                           Sentence\n",
       "0     892:1  Boot time is super fast, around anywhere from ...\n",
       "1    1144:1  tech support would not fix the problem unless ...\n",
       "2     805:2                 but in resume this computer rocks!\n",
       "3     359:1                                   Set up was easy.\n",
       "4     562:1  Did not enjoy the new Windows 8 and touchscree...\n",
       "..      ...                                                ...\n",
       "795   256:1  This hardware seems to be better than the iMac...\n",
       "796   246:1                   I'm done with WinDoze computers.\n",
       "797   520:1  I've had it for about 2 months now and found n...\n",
       "798   306:2     the latest version does not have a disc drive.\n",
       "799  280:11  Screen - although some people might complain a...\n",
       "\n",
       "[800 rows x 2 columns]"
      ]
     },
     "execution_count": 193,
     "metadata": {},
     "output_type": "execute_result"
    }
   ],
   "source": [
    "test_df"
   ]
  },
  {
   "cell_type": "code",
   "execution_count": 194,
   "metadata": {},
   "outputs": [
    {
     "data": {
      "text/plain": [
       "'Boot time is super fast around anywhere from 35 seconds to 1 minute'"
      ]
     },
     "execution_count": 194,
     "metadata": {},
     "output_type": "execute_result"
    }
   ],
   "source": [
    "sample= text_normalize(test_df['Sentence'][0])\n",
    "sample"
   ]
  },
  {
   "cell_type": "code",
   "execution_count": 195,
   "metadata": {},
   "outputs": [],
   "source": [
    "seq_len1=77\n",
    "seq_len2= 83"
   ]
  },
  {
   "cell_type": "code",
   "execution_count": 196,
   "metadata": {},
   "outputs": [],
   "source": [
    "a= [tokenizer.token_to_id(token) if tokenizer.token_to_id(token) else 0 for token in sample.split(' ')]\n",
    "sample_test = pad_and_truncate(a,seq_len1, tokenizer.token_to_id('<pad>'))"
   ]
  },
  {
   "cell_type": "code",
   "execution_count": 197,
   "metadata": {},
   "outputs": [],
   "source": [
    "sample_test= torch.tensor(sample_test)"
   ]
  },
  {
   "cell_type": "code",
   "execution_count": 200,
   "metadata": {},
   "outputs": [],
   "source": [
    "sample_test= sample_test.unsqueeze(0)"
   ]
  },
  {
   "cell_type": "code",
   "execution_count": 205,
   "metadata": {},
   "outputs": [],
   "source": [
    "sample_test=sample_test.to(device)"
   ]
  },
  {
   "cell_type": "code",
   "execution_count": 206,
   "metadata": {},
   "outputs": [
    {
     "data": {
      "text/plain": [
       "tensor([[[ 4.1994,  2.2421,  3.5294,  2.7246,  3.0935,  3.3896,  2.9228,\n",
       "           3.5497,  2.6947,  3.2060,  4.1110,  2.6970,  1.4901,  3.1806,\n",
       "           4.2165,  4.3635,  4.3837,  4.1999,  4.0665,  3.9642,  4.1904,\n",
       "           4.1758,  4.4522,  4.2857,  4.2000,  4.0089,  3.6598,  3.4549,\n",
       "           3.9715,  4.1006,  3.7732,  4.0891,  4.2622,  4.6238,  4.2373,\n",
       "           4.0179,  4.1496,  4.2162,  3.8610,  3.5792,  4.1347,  4.6534,\n",
       "           4.0881,  3.5803,  4.2580,  3.8267,  3.9619,  4.0549,  4.1644,\n",
       "           4.4701,  3.7900,  4.1543,  4.4493,  4.3665,  3.5797,  4.2836,\n",
       "           3.8928,  3.4985,  3.8494,  4.0751,  4.1661,  3.8077,  4.0885,\n",
       "           4.1319,  3.9510,  3.8705,  4.5993,  3.8970,  3.8329,  3.9439,\n",
       "           4.2804,  4.0325,  3.9693,  4.0627,  3.9716,  4.5557,  3.3292],\n",
       "         [-1.5875,  0.0946, -1.7099, -0.4711, -1.3097, -0.9472, -0.9353,\n",
       "          -1.6119, -0.5708, -1.4030, -1.4700, -0.2178, -0.6922, -2.0489,\n",
       "          -1.3337, -1.3308, -1.4849, -1.3740, -1.2567, -1.2525, -1.5616,\n",
       "          -1.3342, -1.5540, -1.4255, -1.2347, -1.2767, -1.2208, -1.0887,\n",
       "          -1.6324, -1.3566, -1.3600, -1.4086, -1.4344, -1.5507, -1.1734,\n",
       "          -1.2627, -1.5324, -1.4985, -1.1400, -1.3585, -1.3849, -1.7481,\n",
       "          -1.1770, -1.1845, -1.5343, -1.1168, -1.3495, -1.4015, -1.3484,\n",
       "          -1.3651, -1.2147, -1.5283, -1.3940, -1.4273, -1.0233, -1.7478,\n",
       "          -1.1216, -1.0237, -1.5172, -1.4488, -1.3555, -1.0678, -1.4436,\n",
       "          -1.3780, -1.2571, -1.3405, -1.5992, -0.9515, -1.2270, -1.1559,\n",
       "          -1.5827, -1.1822, -1.1527, -1.2561, -1.2126, -1.6916, -0.9233],\n",
       "         [-1.4936, -1.8363, -0.9652, -1.5425, -1.0504, -1.5332, -1.2045,\n",
       "          -1.0524, -1.4015, -0.9850, -1.4849, -1.8298, -0.5161, -0.3728,\n",
       "          -1.6045, -1.7454, -1.6087, -1.6046, -1.6442, -1.5804, -1.4583,\n",
       "          -1.6095, -1.5996, -1.5548, -1.7522, -1.5210, -1.4172, -1.4338,\n",
       "          -1.2943, -1.5535, -1.3816, -1.4975, -1.6273, -1.7411, -1.8065,\n",
       "          -1.6395, -1.4532, -1.6175, -1.6004, -1.2577, -1.5558, -1.5814,\n",
       "          -1.7138, -1.4021, -1.5266, -1.6217, -1.4854, -1.5268, -1.6306,\n",
       "          -1.7700, -1.5318, -1.4157, -1.7349, -1.6935, -1.5124, -1.3728,\n",
       "          -1.6591, -1.4835, -1.3225, -1.4489, -1.5782, -1.6747, -1.4761,\n",
       "          -1.5857, -1.5620, -1.4844, -1.6880, -1.8065, -1.4972, -1.6666,\n",
       "          -1.4861, -1.6471, -1.6340, -1.5972, -1.6216, -1.5512, -1.5460]]],\n",
       "       device='cuda:0', grad_fn=<PermuteBackward0>)"
      ]
     },
     "execution_count": 206,
     "metadata": {},
     "output_type": "execute_result"
    }
   ],
   "source": [
    "pred = model(sample_test)\n",
    "pred"
   ]
  },
  {
   "cell_type": "code",
   "execution_count": 208,
   "metadata": {},
   "outputs": [
    {
     "data": {
      "text/plain": [
       "tensor([[0, 0, 0, 0, 0, 0, 0, 0, 0, 0, 0, 0, 0, 0, 0, 0, 0, 0, 0, 0, 0, 0, 0, 0,\n",
       "         0, 0, 0, 0, 0, 0, 0, 0, 0, 0, 0, 0, 0, 0, 0, 0, 0, 0, 0, 0, 0, 0, 0, 0,\n",
       "         0, 0, 0, 0, 0, 0, 0, 0, 0, 0, 0, 0, 0, 0, 0, 0, 0, 0, 0, 0, 0, 0, 0, 0,\n",
       "         0, 0, 0, 0, 0]], device='cuda:0')"
      ]
     },
     "execution_count": 208,
     "metadata": {},
     "output_type": "execute_result"
    }
   ],
   "source": [
    "result=torch.argmax(pred,dim=1)\n",
    "result"
   ]
  },
  {
   "cell_type": "markdown",
   "metadata": {},
   "source": [
    "# BERT"
   ]
  },
  {
   "cell_type": "markdown",
   "metadata": {},
   "source": []
  },
  {
   "cell_type": "code",
   "execution_count": 8,
   "metadata": {},
   "outputs": [
    {
     "name": "stderr",
     "output_type": "stream",
     "text": [
      "c:\\Users\\pikke\\AppData\\Local\\Programs\\Python\\Python313\\Lib\\site-packages\\tqdm\\auto.py:21: TqdmWarning: IProgress not found. Please update jupyter and ipywidgets. See https://ipywidgets.readthedocs.io/en/stable/user_install.html\n",
      "  from .autonotebook import tqdm as notebook_tqdm\n"
     ]
    }
   ],
   "source": [
    "from transformers import AutoTokenizer\n",
    "\n",
    "tokenizer = AutoTokenizer.from_pretrained('distilbert/distilbert-base-uncased')\n"
   ]
  },
  {
   "cell_type": "code",
   "execution_count": 9,
   "metadata": {},
   "outputs": [
    {
     "data": {
      "text/plain": [
       "['[CLS]', 'im', 'going', 'to', 'school', '[SEP]', 'going', '[SEP]']"
      ]
     },
     "execution_count": 9,
     "metadata": {},
     "output_type": "execute_result"
    }
   ],
   "source": [
    "b=tokenizer('im going to school','going')\n",
    "c= tokenizer.convert_ids_to_tokens(b['input_ids'])\n",
    "c"
   ]
  },
  {
   "cell_type": "code",
   "execution_count": null,
   "metadata": {},
   "outputs": [
    {
     "data": {
      "text/plain": [
       "['i',\n",
       " 'charge',\n",
       " 'it',\n",
       " 'at',\n",
       " 'night',\n",
       " 'and',\n",
       " 'skip',\n",
       " 'taking',\n",
       " 'the',\n",
       " 'cord',\n",
       " 'with',\n",
       " 'me',\n",
       " 'because',\n",
       " 'of',\n",
       " 'the',\n",
       " 'good',\n",
       " 'battery',\n",
       " 'life']"
      ]
     },
     "execution_count": 25,
     "metadata": {},
     "output_type": "execute_result"
    }
   ],
   "source": [
    "sample= data['sentence'][1]\n",
    "c=sample.split(' ')\n",
    "c"
   ]
  },
  {
   "cell_type": "code",
   "execution_count": 1,
   "metadata": {},
   "outputs": [
    {
     "ename": "NameError",
     "evalue": "name 'tokenizer' is not defined",
     "output_type": "error",
     "traceback": [
      "\u001b[1;31m---------------------------------------------------------------------------\u001b[0m",
      "\u001b[1;31mNameError\u001b[0m                                 Traceback (most recent call last)",
      "Cell \u001b[1;32mIn[1], line 1\u001b[0m\n\u001b[1;32m----> 1\u001b[0m \u001b[43mtokenizer\u001b[49m(sample)\n",
      "\u001b[1;31mNameError\u001b[0m: name 'tokenizer' is not defined"
     ]
    }
   ],
   "source": [
    "tokenizer(sample)"
   ]
  },
  {
   "cell_type": "code",
   "execution_count": 15,
   "metadata": {},
   "outputs": [
    {
     "ename": "NameError",
     "evalue": "name 'data' is not defined",
     "output_type": "error",
     "traceback": [
      "\u001b[1;31m---------------------------------------------------------------------------\u001b[0m",
      "\u001b[1;31mNameError\u001b[0m                                 Traceback (most recent call last)",
      "Cell \u001b[1;32mIn[15], line 1\u001b[0m\n\u001b[1;32m----> 1\u001b[0m seq_len \u001b[38;5;241m=\u001b[39m \u001b[38;5;28mmax\u001b[39m([\u001b[38;5;28mlen\u001b[39m(tokenizer(text)[\u001b[38;5;124m'\u001b[39m\u001b[38;5;124minput_ids\u001b[39m\u001b[38;5;124m'\u001b[39m]) \u001b[38;5;28;01mfor\u001b[39;00m text \u001b[38;5;129;01min\u001b[39;00m \u001b[43mdata\u001b[49m[\u001b[38;5;124m'\u001b[39m\u001b[38;5;124msentence\u001b[39m\u001b[38;5;124m'\u001b[39m]])\n\u001b[0;32m      2\u001b[0m seq_len\n",
      "\u001b[1;31mNameError\u001b[0m: name 'data' is not defined"
     ]
    }
   ],
   "source": [
    "seq_len = max([len(tokenizer(text)['input_ids']) for text in data['sentence']])\n",
    "seq_len\n"
   ]
  },
  {
   "cell_type": "code",
   "execution_count": 57,
   "metadata": {},
   "outputs": [
    {
     "name": "stdout",
     "output_type": "stream",
     "text": [
      "['in', 'november', 'my', 'computer', 'messed', 'up', 'entirely', 'and', 'wouldn', '##t', 'power', 'on', 'after', 'int', '##all', '##ing', 'a', 'windows', 'update', 'i', 'had', 'to', 'have', 'my', 'hd', 'flashed', 'and', 'lost', 'everything', 'on', 'it', 'including', 'my', 'school', 'assignments', 'and', 'ir', '##rip', '##lace', '##able', 'pictures', 'that', 'were', 'only', 'in', 'digital', 'format', 'and', 'several', 'other', 'things', 'when', 'this', 'update', 'was', 'installed', 'for', 'some', 'reason', 'i', 'was', 'unable', 'to', 'roll', 'back', 'the', 'drivers', 'and', 'everything', 'to', 'an', 'earlier', 'working', 'condition', 'because', 'when', 'the', 'update', 'was', 'installed', 'it', 'deleted', 'my', 'history']\n",
      "['in', 'november', 'my', 'computer', 'messed', 'up', 'entirely', 'and', 'wouldn', '##t', 'power', 'on', 'after', 'int', '##all', '##ing', 'a', 'windows', 'update', 'i', 'had', 'to', 'have', 'my', 'hd', 'flashed', 'and', 'lost', 'everything', 'on', 'it', 'including', 'my', 'school', 'assignments', 'and', 'ir', '##rip', '##lace', '##able', 'pictures', 'that', 'were', 'only', 'in', 'digital', 'format', 'and', 'several', 'other', 'things', 'when', 'this', 'update', 'was', 'installed', 'for', 'some', 'reason', 'i', 'was', 'unable', 'to', 'roll', 'back', 'the', 'drivers', 'and', 'everything', 'to', 'an', 'earlier', 'working', 'condition', 'because', 'when', 'the', 'update', 'was', 'installed', 'it', 'deleted', 'my', 'history']\n",
      "['in', 'november', 'my', 'computer', 'messed', 'up', 'entirely', 'and', 'wouldn', '##t', 'power', 'on', 'after', 'int', '##all', '##ing', 'a', 'windows', 'update', 'i', 'had', 'to', 'have', 'my', 'hd', 'flashed', 'and', 'lost', 'everything', 'on', 'it', 'including', 'my', 'school', 'assignments', 'and', 'ir', '##rip', '##lace', '##able', 'pictures', 'that', 'were', 'only', 'in', 'digital', 'format', 'and', 'several', 'other', 'things', 'when', 'this', 'update', 'was', 'installed', 'for', 'some', 'reason', 'i', 'was', 'unable', 'to', 'roll', 'back', 'the', 'drivers', 'and', 'everything', 'to', 'an', 'earlier', 'working', 'condition', 'because', 'when', 'the', 'update', 'was', 'installed', 'it', 'deleted', 'my', 'history']\n"
     ]
    }
   ],
   "source": [
    "for text in data['sentence']:\n",
    "    if len(tokenizer.tokenize(text))>80:\n",
    "        print(tokenizer.tokenize(text))"
   ]
  },
  {
   "cell_type": "code",
   "execution_count": 30,
   "metadata": {},
   "outputs": [
    {
     "data": {
      "text/plain": [
       "['taking', 'another']"
      ]
     },
     "execution_count": 30,
     "metadata": {},
     "output_type": "execute_result"
    }
   ],
   "source": [
    "tokenizer.tokenize('taking another')"
   ]
  },
  {
   "cell_type": "code",
   "execution_count": 26,
   "metadata": {},
   "outputs": [
    {
     "name": "stdout",
     "output_type": "stream",
     "text": [
      "['taking']\n"
     ]
    },
    {
     "data": {
      "text/plain": [
       "[2635]"
      ]
     },
     "execution_count": 26,
     "metadata": {},
     "output_type": "execute_result"
    }
   ],
   "source": [
    "a=tokenizer.tokenize(c[7])\n",
    "print(a)\n",
    "b= tokenizer.convert_tokens_to_ids(a)\n",
    "b"
   ]
  },
  {
   "cell_type": "code",
   "execution_count": 19,
   "metadata": {},
   "outputs": [
    {
     "data": {
      "text/plain": [
       "100"
      ]
     },
     "execution_count": 19,
     "metadata": {},
     "output_type": "execute_result"
    }
   ],
   "source": [
    "tokenizer.convert_tokens_to_ids('<pad>')"
   ]
  },
  {
   "cell_type": "code",
   "execution_count": null,
   "metadata": {},
   "outputs": [],
   "source": [
    "\n",
    "def term_bert_tokenize(data,tokenizer,seq_len):\n",
    "    input_ids=[]\n",
    "    labels=[]\n",
    "    for sentence, aspect_term in zip(data['sentence'],data['aspect_term']):\n",
    "        bert_tokens = []\n",
    "        bert_tags = []\n",
    "        key_aspect=tokenizer.tokenize(aspect_term)\n",
    "        print(key_aspect)\n",
    "        \n",
    "        for word in sentence.split(' '):\n",
    "            t = tokenizer.tokenize(word)\n",
    "            bert_tokens += t\n",
    "            \n",
    "            if word in key_aspect:\n",
    "                if word == key_aspect[0]:\n",
    "                    bert_tags+= [1]*len(t)\n",
    "                else:\n",
    "                    bert_tags+= [2]*len(t)\n",
    "            else:\n",
    "                bert_tags+=[0]*len(t)\n",
    "        bert_tokens = tokenizer.convert_tokens_to_ids(bert_tokens)\n",
    "        bert_tokens = pad_and_truncate(bert_tokens,seq_len,tokenizer.convert_tokens_to_ids('<pad>'))\n",
    "        bert_tags = pad_and_truncate(bert_tags,seq_len,-100)\n",
    "        input_ids.append(bert_tokens)\n",
    "        labels.append(bert_tags)\n",
    "    return {\n",
    "        'input_ids': torch.tensor(input_ids),\n",
    "        'labels': torch.tensor(labels),  \n",
    "            }\n",
    "    "
   ]
  },
  {
   "cell_type": "code",
   "execution_count": 105,
   "metadata": {},
   "outputs": [],
   "source": [
    "sample = {}\n",
    "sample['sentence']= data['sentence'][0:4]\n",
    "sample['aspect_term']= data['aspect_term'][0:4]"
   ]
  },
  {
   "cell_type": "code",
   "execution_count": 120,
   "metadata": {},
   "outputs": [
    {
     "data": {
      "text/plain": [
       "'i charge it at night and skip taking the cord with me because of the good battery life '"
      ]
     },
     "execution_count": 120,
     "metadata": {},
     "output_type": "execute_result"
    }
   ],
   "source": [
    "sample['sentence'][0]"
   ]
  },
  {
   "cell_type": "code",
   "execution_count": 108,
   "metadata": {},
   "outputs": [
    {
     "name": "stdout",
     "output_type": "stream",
     "text": [
      "['cord']\n",
      "['battery', 'life']\n",
      "['service', 'center']\n",
      "['sales', 'team']\n",
      "['tech', 'guy']\n",
      "['quality']\n",
      "['gui']\n",
      "['applications']\n",
      "['use']\n",
      "['start', 'up']\n",
      "['features']\n",
      "['ich', '##at']\n",
      "['photo', '##boot', '##h']\n",
      "['garage', 'band']\n",
      "['features']\n",
      "['gui']\n",
      "['screen']\n",
      "['power', 'light']\n",
      "['hard', 'drive', 'light']\n",
      "['battery']\n",
      "['rubber', 'enclosure']\n",
      "['edge']\n",
      "['multi', 'touch', 'gestures']\n",
      "['tracking', 'area']\n",
      "['external', 'mouse']\n",
      "['gaming']\n",
      "['suite', 'of', 'software']\n",
      "['speed']\n",
      "['windows', '7']\n",
      "['usb', 'devices']\n",
      "['keyboard']\n",
      "['software']\n",
      "['system']\n",
      "['microsoft', 'office', 'for', 'the', 'mac']\n",
      "['sync', '##ing']\n",
      "['30', 'hd', 'monitor']\n",
      "['screen']\n",
      "['boot', 'up']\n",
      "['service']\n",
      "['battery']\n",
      "['operating', 'system']\n",
      "['pre', '##loaded', 'software']\n",
      "['price']\n",
      "['features']\n",
      "['clock', 'in', 'bio', '##s', 'setup']\n",
      "['warrant', '##y', 'service']\n",
      "['brand']\n",
      "['warrant', '##y']\n",
      "['features']\n",
      "['fan']\n",
      "['customer', 'service', 'number']\n",
      "['warrant', '##y']\n",
      "['talking', 'to', 'a', 'technician']\n",
      "['hard', 'disc']\n",
      "['windows']\n",
      "['drivers']\n",
      "['drivers']\n",
      "['bio', '##s', 'update']\n",
      "['system']\n",
      "['hp', 'technical', 'support']\n",
      "['browser']\n",
      "['keyboard']\n",
      "['virus', 'scan']\n",
      "['9', 'pun', '##ds']\n",
      "['program']\n",
      "['warren', '##ty']\n",
      "['to', '##shi', '##ba', 'warrant', '##y']\n",
      "['quality']\n",
      "['web', '##cam']\n",
      "['value']\n",
      "['internet']\n",
      "['managing', 'personal', 'files']\n",
      "['mother', '##board']\n",
      "['system']\n",
      "['charge', '##r']\n",
      "['hardware']\n",
      "['force', 'quit']\n",
      "['works']\n",
      "['windows', '7']\n",
      "['v', '##m', '##ware', 'program']\n",
      "['operating', 'system']\n",
      "['runs']\n",
      "['navigate']\n",
      "['find', 'files']\n",
      "['warren', '##ty']\n",
      "['extended', 'warrant', '##y']\n",
      "['memory']\n",
      "['speed']\n",
      "['perform', '##ace']\n",
      "['opening', 'my', 'documents', 'folder']\n",
      "['operating', 'systems']\n",
      "['charge', '##r']\n",
      "['speed']\n",
      "['glass', 'touch', '##pad']\n",
      "['hard', 'drive']\n",
      "['mother', 'board']\n",
      "['external', 'speaker']\n",
      "['sound']\n",
      "['battery', 'life']\n",
      "['hardware']\n",
      "['shipping']\n",
      "['mac', 'software']\n",
      "['microsoft', 'software']\n",
      "['use']\n",
      "['del', '##ete', 'key']\n",
      "['editing']\n",
      "['use']\n",
      "['service']\n",
      "['phone', 'assistance']\n",
      "['genius', 'bar']\n",
      "['battery', 'life']\n",
      "['battery', 'life']\n",
      "['gaming']\n",
      "['movie', 'playing']\n",
      "['web', 'brows', '##ing']\n",
      "['word', 'editing']\n",
      "['recovery', 'discs']\n",
      "['office', 'max', 's', 'max', 'assurance']\n",
      "['im', '##ac', 'backup', 'disc']\n",
      "['usb']\n",
      "['battery', 'life']\n",
      "['battery', 'timer']\n",
      "['temperatures']\n",
      "['core', 'processing', 'unit', 'temperatures']\n",
      "['service']\n",
      "['virus', 'protection', 'for', 'mac']\n",
      "['blue', '##tooth']\n",
      "['l', '##g', 'notebook', 'service', 'center']\n",
      "['hi', '##nge']\n",
      "['games']\n",
      "['responds']\n",
      "['mother', '##board']\n",
      "['mother', '##board']\n",
      "['hardware']\n",
      "['mother', '##board']\n",
      "['use']\n",
      "['represent', '##ive', 'at', 'microsoft']\n",
      "['system']\n",
      "['xp']\n",
      "['windows', '7']\n",
      "['vista']\n",
      "['keyboard']\n",
      "['dell', 's', 'customer', 'di', '##sser', '##vic', '##e']\n",
      "['cooling', 'system']\n",
      "['use']\n",
      "['quad', 'core', 'i', '##7']\n",
      "['sales', 'associate']\n",
      "['system']\n",
      "['windows', 'applications']\n",
      "['virus', 'program']\n",
      "['weighed']\n",
      "['seven', 'pounds']\n",
      "['battery']\n",
      "['bag']\n",
      "['color']\n",
      "['keys']\n",
      "['designed']\n",
      "['style']\n",
      "['speed']\n",
      "['keyboard']\n",
      "['mouse', '##pad']\n",
      "['battery']\n",
      "['sales']\n",
      "['service']\n",
      "['dell', 'support']\n",
      "['hard', 'drive']\n",
      "['mother', '##board']\n",
      "['speed']\n",
      "['construction', 'quality']\n",
      "['longevity']\n",
      "['cost']\n",
      "['keyboard']\n",
      "['keys']\n",
      "['configuration', 'of', 'extra', 'key']\n",
      "['touch', 'pad']\n",
      "['use']\n",
      "['security']\n",
      "['price', '##tag']\n",
      "['use']\n",
      "['work']\n",
      "['pre', '##loaded', 'software']\n",
      "['web', '##cam']\n",
      "['v', '##ga', 'port']\n",
      "['screen']\n",
      "['battery', 'life']\n",
      "['keys']\n",
      "['software']\n",
      "['volume']\n",
      "['mouse']\n",
      "['touch', '##pad']\n",
      "['boots', 'up']\n",
      "['hard', 'drive']\n",
      "['look', 'and', 'feel', 'stand', '##point']\n",
      "['safari']\n",
      "['safari']\n",
      "['mo', '##zzi', '##lla', 'fir', '##fo', '##x']\n",
      "['blue', '##tooth']\n",
      "['finger', '##print', 'reader', 'driver']\n",
      "['software']\n",
      "['battery']\n",
      "['speed']\n",
      "['display']\n",
      "['delivery']\n",
      "['battery', 'life']\n",
      "['performance']\n",
      "['memory']\n",
      "['applications']\n",
      "['microsoft', 'office']\n",
      "['resolution']\n",
      "['appearance']\n",
      "['cooling', 'system']\n",
      "['graphics', 'card']\n",
      "['built', 'in', 'web', '##cam']\n",
      "['built', 'in', 'mic']\n",
      "['cam']\n",
      "['mic']\n",
      "['windows', 'vista']\n",
      "['board']\n",
      "['connector']\n",
      "['power', 'supply']\n",
      "['warren', '##ty']\n",
      "['power', 'supply']\n",
      "['ethernet']\n",
      "['works']\n",
      "['drag', 'and', 'drop', 'feature']\n",
      "['web', '##cam']\n",
      "['sales', 'tax']\n",
      "['software', 'packages']\n",
      "['i', '##work']\n",
      "['garage', '##band']\n",
      "['im', '##ov', '##ie']\n",
      "['screen']\n",
      "['colors']\n",
      "['resolution']\n",
      "['monitor']\n",
      "['itunes']\n",
      "['size']\n",
      "['external', 'monitor']\n",
      "['base', 'installation']\n",
      "['software']\n",
      "['man', '##uf']\n",
      "['camera']\n",
      "['display']\n",
      "['am', '##d', 'turin', 'processor']\n",
      "['intel']\n",
      "['warrant', '##y']\n",
      "['start', 'menu']\n",
      "['navigate']\n",
      "['blur', '##ay', 'read', 'write', 'drive']\n",
      "['service', 'tech']\n",
      "['tech', 'store']\n",
      "['surface']\n",
      "['screen']\n",
      "['keyboard']\n",
      "['il', '##ife']\n",
      "['snow', 'leopard', 'x']\n",
      "['price', 'tag']\n",
      "['mac', 'os']\n",
      "['sound', 'output', 'quality']\n",
      "['tech', '##ie']\n",
      "['use']\n",
      "['to', '##shi', '##ba', 'online', 'help']\n",
      "['service', 'life']\n",
      "['ports']\n",
      "['processor']\n",
      "['price']\n",
      "['look']\n",
      "['keyboard']\n",
      "['keys']\n",
      "['screen']\n",
      "['quality']\n",
      "['stock', 'screen']\n",
      "['gray', 'color']\n",
      "['volume', 'buttons']\n",
      "['processor']\n",
      "['computing']\n",
      "['protector']\n",
      "['key', 'pad']\n",
      "['magnetic', 'plug', 'in', 'power', 'charging', 'power', 'cord']\n",
      "['xp']\n",
      "['vista']\n",
      "['graphics']\n",
      "['use']\n",
      "['mac', 'os']\n",
      "['use']\n",
      "['support']\n",
      "['geek', 'squad']\n",
      "['graphics', 'quality']\n",
      "['apple', '##works']\n",
      "['browser']\n",
      "['paint']\n",
      "['keyboard']\n",
      "['service', 'department']\n",
      "['warren', '##ty']\n",
      "['warren', '##ty', '##s']\n",
      "['hard', 'disk']\n",
      "['cd', 'drive']\n",
      "['running']\n",
      "['screen', 'size']\n",
      "['web', 'brows', '##ing']\n",
      "['software']\n",
      "['loads']\n",
      "['track', '##pad']\n",
      "['external', 'mouse']\n",
      "['track', '##pad']\n",
      "['games']\n",
      "['features']\n",
      "['human', 'interface']\n",
      "['in', '##bu', '##il', '##t', 'applications']\n",
      "['software']\n",
      "['body']\n",
      "['i', '##5']\n",
      "['anti', '##virus', 'software']\n",
      "['fire', '##wall']\n",
      "['price']\n",
      "['apple', 'team']\n",
      "['vista']\n",
      "['vista']\n",
      "['operating', 'system']\n",
      "['vista']\n",
      "['video', 'chat']\n",
      "['quality']\n",
      "['mouse']\n",
      "['fan']\n",
      "['cooling', 'pad']\n",
      "['feature']\n",
      "['software']\n",
      "['installation', 'time']\n",
      "['power']\n",
      "['storage']\n",
      "['ab', '##ili', '##ti', '##y']\n",
      "['spotlight', 'search']\n",
      "['feature']\n",
      "['wireless', 'system']\n",
      "['windows', '7']\n",
      "['quality']\n",
      "['battery', 'life']\n",
      "['speed']\n",
      "['os']\n",
      "['os']\n",
      "['itunes']\n",
      "['program']\n",
      "['gaming']\n",
      "['battery']\n",
      "['apple', 'support']\n",
      "['tech', '##s']\n",
      "['adding', 'the', 'blue', '##tooth']\n",
      "['graphic', 'power']\n",
      "['adobe', 'creative', 'apps']\n",
      "['programs']\n",
      "['use']\n",
      "['materials']\n",
      "['software']\n",
      "['tech', 'support']\n",
      "['power', 'supply']\n",
      "['power', 'supply']\n",
      "['size']\n",
      "['warrant', '##y']\n",
      "['windows', 'xp', 'sp', '##2']\n",
      "['windows', '7', 'ultimate']\n",
      "['blue', '##tooth']\n",
      "['finger', '##print', 'reader']\n",
      "['software']\n",
      "['tech', '##s', 'at', 'hp']\n",
      "['video', 'card']\n",
      "['graphics']\n",
      "['security']\n",
      "['audio']\n",
      "['keyboard']\n",
      "['runs']\n",
      "['set', 'up']\n",
      "['screen']\n",
      "['word', 'processing']\n",
      "['internet']\n",
      "['track', '##pad']\n",
      "['battery', 'life']\n",
      "['spec']\n",
      "['hd']\n",
      "['graphics', 'chip']\n",
      "['components']\n",
      "['dvd', 'burn', '##er']\n",
      "['usb', 'ports']\n",
      "['software']\n",
      "['system']\n",
      "['ran']\n",
      "['price']\n",
      "['operation']\n",
      "['brand']\n",
      "['components']\n",
      "['ground', 'loop', 'iso', '##lat', '##or']\n",
      "['price', 'range']\n",
      "['quality']\n",
      "['warrant', '##y']\n",
      "['leading', 'edge']\n",
      "['b', '##lo', '##at', '##ware']\n",
      "['maximum', 'sound']\n",
      "['windows', '7']\n",
      "['boot', '##camp']\n",
      "['price']\n",
      "['action', 'pack', 'games']\n",
      "['works']\n",
      "['price']\n",
      "['performance']\n",
      "['twin', 'packing']\n",
      "['functions']\n",
      "['after', 'sales', 'support']\n",
      "['look']\n",
      "['display', 'screen']\n",
      "['ace', '##r', 'arcade']\n",
      "['customer', 'support']\n",
      "['screen']\n",
      "['cd', 'drive']\n",
      "['runs']\n",
      "['design']\n",
      "['size']\n",
      "['games']\n",
      "['games']\n",
      "['life']\n",
      "['warrant', '##y']\n",
      "['pad']\n",
      "['value']\n",
      "['price']\n",
      "['system', 'performance']\n",
      "['linux', 'based', 'os']\n",
      "['use']\n",
      "['batteries']\n",
      "['shipping', 'cart', '##on']\n",
      "['use']\n",
      "['program']\n",
      "['virus', 'protection']\n",
      "['screen']\n",
      "['processor']\n",
      "['os', '##x', '16']\n",
      "['graphics']\n",
      "['hardware']\n",
      "['software']\n",
      "['intel', 'core', 'processors']\n",
      "['hd', '##mi', 'port']\n",
      "['internet', 'explorer']\n",
      "['staff']\n",
      "['price', 'premium']\n",
      "['features']\n",
      "['product', 'and', 'help', 'after', '##market']\n",
      "['microsoft', 'word']\n",
      "['usb', 'ports']\n",
      "['sd', 'memory', 'card', 'reader']\n",
      "['sd', 'memory', 'car', 'expansion']\n",
      "['lac', '##ie', '2', '##bi', '##g', 'external', 'drive']\n",
      "['fire', '##wire', '800', 'interface']\n",
      "['time', 'machine']\n",
      "['sound']\n",
      "['extra', 'features']\n",
      "['windows', '7', 'home', 'premium']\n",
      "['ace', '##r', 'screen']\n",
      "['usb', 'port']\n",
      "['boot']\n",
      "['battery', 'life']\n",
      "['fires', 'up']\n",
      "['keyboard']\n",
      "['software']\n",
      "['online', 'tutor', '##ial', 'videos']\n",
      "['image']\n",
      "['so', '##ud']\n",
      "['windows']\n",
      "['boot', 'up']\n",
      "['shut', 'down']\n",
      "['windows']\n",
      "['mac', 'os']\n",
      "['use']\n",
      "['cost']\n",
      "['windows', '7', 'starter']\n",
      "['windows', '7', 'home', 'premium']\n",
      "['windows', '7', 'professional']\n",
      "['specifications']\n",
      "['power', 'cords']\n",
      "['multi', 'touch', 'features']\n",
      "['screen']\n",
      "['clicking', 'buttons']\n",
      "['battery', 'life']\n",
      "['windows']\n",
      "['wired', 'lan']\n",
      "['hard', 're', '##boot']\n",
      "['hardware']\n",
      "['hard', 'drive']\n",
      "['battery', 'life']\n",
      "['apple', 'care']\n",
      "['font']\n",
      "['features']\n",
      "['programs']\n",
      "['run']\n",
      "['plastic', 'pieces']\n",
      "['2', '##gb', 'ram', 'stick']\n",
      "['windows']\n",
      "['microsoft', 'word', 'for', 'mac']\n",
      "['warrant', '##y', 'company']\n",
      "['cu', '##sr', '##ome', '##r', 'service', 'center']\n",
      "['size']\n",
      "['weight']\n",
      "['battery']\n",
      "['aluminum', 'body']\n",
      "['watching', 'movies']\n",
      "['playing']\n",
      "['build', 'quality']\n",
      "['performance']\n",
      "['dock']\n",
      "['program']\n",
      "['program']\n",
      "['working']\n",
      "['costing']\n",
      "['price']\n",
      "['i', '##7']\n",
      "['monitor']\n",
      "['extended', 'warrant', '##y']\n",
      "['boots', 'up']\n",
      "['runs']\n",
      "['screen']\n",
      "['driver']\n",
      "['tech', 'support']\n",
      "['work']\n",
      "['hard', 'drive']\n",
      "['twin', 'packing']\n",
      "['functions']\n",
      "['warrant', '##y']\n",
      "['performance']\n",
      "['price']\n",
      "['bio', '##s']\n",
      "['design']\n",
      "['tech', 'issues']\n",
      "['size']\n",
      "['space']\n",
      "['service']\n",
      "['memory']\n",
      "['speed']\n",
      "['priced']\n",
      "['internet', 'speed']\n",
      "['programs']\n",
      "['garage', '##band']\n",
      "['photo', 'booth']\n",
      "['ip', '##hot', '##o']\n",
      "['im', '##ov', '##ie']\n",
      "['video', 'editing']\n",
      "['movie', 'making']\n",
      "['photo', 'management']\n",
      "['music']\n",
      "['pages']\n",
      "['numbers']\n",
      "['keynote']\n",
      "['school', 'or', 'office', 'use']\n",
      "['screen']\n",
      "['colors']\n",
      "['value']\n",
      "['price']\n",
      "['value']\n",
      "['web', 'cam']\n",
      "['burn', 'cd', 's']\n",
      "['17', 'inch', 'screen']\n",
      "['support']\n",
      "['blue', '##tooth']\n",
      "['drivers', 'applications', 'dvd']\n",
      "['launch', 'manager']\n",
      "['glass', 'screen']\n",
      "['switch', '##able', 'graphic', 'card']\n",
      "['gaming']\n",
      "['service']\n",
      "['battery', 'life']\n",
      "['technical', 'support']\n",
      "['boot', 'mg', '##r']\n",
      "['recovery', 'cd']\n",
      "['price']\n",
      "['features']\n",
      "['sky', '##pe']\n",
      "['mouse', 'buttons']\n",
      "['hd', '##d']\n",
      "['rails']\n",
      "['hard', 'drive']\n",
      "['quality']\n",
      "['staff']\n",
      "['games']\n",
      "['garage', '##band']\n",
      "['warrant', '##y']\n",
      "['hard', 'drive']\n",
      "['price']\n",
      "['home', 'use']\n",
      "['business', 'use']\n",
      "['virus', 'protection']\n",
      "['updates']\n",
      "['ms', 'office', 'apps']\n",
      "['feature']\n",
      "['windows']\n",
      "['games']\n",
      "['battery', 'life']\n",
      "['battery', 'life']\n",
      "['price']\n",
      "['norton', '##s', 'virus', 'scan']\n",
      "['frame']\n",
      "['features']\n",
      "['use']\n",
      "['loaded']\n",
      "['windows', '7']\n",
      "['vista']\n",
      "['vista']\n",
      "['windows']\n",
      "['windows', 'xp']\n",
      "['vista']\n",
      "['key', 'broad']\n",
      "['warrant', '##y']\n",
      "['repair', 'depot']\n",
      "['school', 'use']\n",
      "['design']\n",
      "['battery', 'life']\n",
      "['programs']\n",
      "['wireless']\n",
      "['battery', 'life']\n",
      "['programs']\n",
      "['track', '##pad']\n",
      "['programs']\n",
      "['na', '##vi', '##gating']\n",
      "['speakers']\n",
      "['sub', '##wo', '##of', '##er']\n",
      "['built', 'in', 'camera']\n",
      "['price']\n",
      "['warrant', '##y']\n",
      "['left', 'mouse', 'key']\n",
      "['cost', '##ed']\n",
      "['speed']\n",
      "['hard', 'drive', 'space']\n",
      "['picture']\n",
      "['extended', 'warrant', '##y']\n",
      "['extended', 'warrant', '##ies']\n",
      "['battery']\n",
      "['screen']\n",
      "['battery', 'life']\n",
      "['appearance']\n",
      "['technical', 'service', 'for', 'dell']\n",
      "['graphics']\n",
      "['warrant', '##y']\n",
      "['battery']\n",
      "['case']\n",
      "['performance']\n",
      "['price']\n",
      "['look']\n",
      "['applications']\n",
      "['speed']\n",
      "['tech', 'support']\n",
      "['gaming']\n",
      "['use']\n",
      "['photos', '##hop']\n",
      "['system', 'clock']\n",
      "['ram']\n",
      "['security', '##so', '##ft', '##ware']\n",
      "['driver', 'updates']\n",
      "['windows']\n",
      "['work']\n",
      "['works']\n",
      "['hd']\n",
      "['hd']\n",
      "['graphics', 'card']\n",
      "['built', 'in', 'camera']\n",
      "['dvd', 'burn', '##er']\n",
      "['dvd', 'burn', '##er']\n",
      "['works']\n",
      "['15', 'inch']\n",
      "['product', 'support']\n",
      "['screen']\n",
      "['use']\n",
      "['cas', '##ing', 'of', 'the', 'power', 'cord']\n",
      "['internet', 'signals']\n",
      "['price']\n",
      "['right', 'speaker']\n",
      "['price', 'tag']\n",
      "['software']\n",
      "['updates']\n",
      "['multiple', 'page', 'viewer']\n",
      "['shipped']\n",
      "['keyboard']\n",
      "['use']\n",
      "['warrant', '##y']\n",
      "['quality']\n",
      "['features']\n",
      "['recovery', 'disk']\n",
      "['features']\n",
      "['programs']\n",
      "['office']\n",
      "['office', 'programs']\n",
      "['wi', '##fi']\n",
      "['typing']\n",
      "['screen']\n",
      "['te', '##mp']\n",
      "['windows', 'operating', 'system']\n",
      "['os']\n",
      "['processor', 'speed']\n",
      "['thunder', '##bolt', 'port']\n",
      "['lcd', 'screen']\n",
      "['images']\n",
      "['windows', 'vista']\n",
      "['windows', 'xp']\n",
      "['vista']\n",
      "['adobe', 'flash', 'player']\n",
      "['internet', 'explore']\n",
      "['windows', 'update']\n",
      "['update']\n",
      "['switch']\n",
      "['switch']\n",
      "['4', '##gb', 'stick', 'of', 'ram']\n",
      "['hard', '##ri', '##ve']\n",
      "['touch', 'control', 'buttons']\n",
      "['keyboard']\n",
      "['performance']\n",
      "['il', '##ife', 'software']\n",
      "['ip', '##hot', '##o']\n",
      "['im', '##ov', '##ie']\n",
      "['i', '##we', '##b']\n",
      "['itunes']\n",
      "['garage', '##band']\n",
      "['runs']\n",
      "['system', 'board']\n",
      "['size']\n",
      "['software']\n",
      "['hardware']\n",
      "['memory']\n",
      "['hard', 'drive']\n",
      "['graphics']\n",
      "['programs']\n",
      "['navigation']\n",
      "['hi', '##nge']\n",
      "['lcd']\n",
      "['dell', 'customer', 'service']\n",
      "['rm', '##a', 'service']\n",
      "['design']\n",
      "['keyboard']\n",
      "['battery', 'life']\n",
      "['screen', 'video', 'resolution']\n",
      "['resolution']\n",
      "['applications']\n",
      "['dream', '##we', '##aver']\n",
      "['final', 'cut', 'pro', '7']\n",
      "['photos', '##hop']\n",
      "['safari']\n",
      "['fire', '##fo', '##x']\n",
      "['ms', '##n', 'messenger']\n",
      "['warren', '##ty']\n",
      "['tech', 'support']\n",
      "['apple', 'applications']\n",
      "['ip', '##hot', '##o']\n",
      "['gigs']\n",
      "['memory']\n",
      "['17', 'inch', 'screen']\n",
      "['dvd']\n",
      "['cd', 'burn', '##ers']\n",
      "['web', 'brows', '##ing']\n",
      "['up', '##loading', 'photos']\n",
      "['watching', 'movies']\n",
      "['creating', 'presentations']\n",
      "['quality', 'display']\n",
      "['weight']\n",
      "['12', 'cell', 'battery']\n",
      "['case']\n",
      "['power', 'adapt', '##er', 'plug']\n",
      "['features']\n",
      "['speakers']\n",
      "['screen']\n",
      "['tab']\n",
      "['extended', 'warren', '##ty']\n",
      "['t', '##ft', 'panel']\n",
      "['navigation']\n",
      "['windows', 'operating', 'systems']\n",
      "['screen']\n",
      "['screen', 'size']\n",
      "['bulk']\n",
      "['music', 'software']\n",
      "['software']\n",
      "['picture']\n",
      "['video']\n",
      "['combined', 'touch', 'pad', 'and', 'click', '##er']\n",
      "['un', '##ib', '##od', '##y', 'construction']\n",
      "['value']\n",
      "['windows']\n",
      "['screen', 'hinges']\n",
      "['battery']\n",
      "['storage', 'life']\n",
      "['service']\n",
      "['storage']\n",
      "['ram']\n",
      "['n', '##vid', '##ia', 'chips', '##et']\n",
      "['extended', 'warrant', '##y']\n",
      "['programs']\n",
      "['charge', 'time']\n",
      "['size']\n",
      "['consist', '##ancy']\n",
      "['key', 'binding', '##s']\n",
      "['keyboard']\n",
      "['size']\n",
      "['10', 'key']\n",
      "['fan']\n",
      "['fan']\n",
      "['screen']\n",
      "['operating', 'system']\n",
      "['processor']\n",
      "['500', '##gb', 'hard', 'drive']\n",
      "['feature']\n",
      "['tech', 'support']\n",
      "['usb', 'output']\n",
      "['wireless', 'mouse']\n",
      "['size']\n",
      "['screen']\n",
      "['windows']\n",
      "['linux']\n",
      "['windows', 'disc']\n",
      "['quality']\n",
      "['touch', '##pad']\n",
      "['video', 'card']\n",
      "['touch', 'pad']\n",
      "['external', 'mouse']\n",
      "['set', 'up']\n",
      "['video']\n",
      "['value']\n",
      "['hard', 'drive']\n",
      "['runs']\n",
      "['loads']\n",
      "['warrant', '##y']\n",
      "['program']\n",
      "['disk', 'through', '##put']\n",
      "['spinning', 'beach', '##ball']\n",
      "['wireless', 'internet', 'access']\n",
      "['value']\n",
      "['ran']\n",
      "['battery']\n",
      "['company']\n",
      "['screen', 'resolutions']\n",
      "['carry']\n",
      "['keyboard']\n",
      "['edges']\n",
      "['programs']\n",
      "['il', '##ife']\n",
      "['ip', '##hot', '##os']\n",
      "['processor']\n",
      "['fan']\n",
      "['mother', '##board']\n",
      "['built']\n",
      "['performance']\n",
      "['screen', 'resolution']\n",
      "['snow', 'leopard']\n",
      "['cpu']\n",
      "['office', 'mac', 'applications']\n",
      "['word']\n",
      "['excel']\n",
      "['spinning', 'wheel']\n",
      "['pad']\n",
      "['keyboard']\n",
      "['screen']\n",
      "['windows', '7']\n",
      "['programs']\n",
      "['il', '##ife']\n",
      "['i', '##work']\n",
      "['18', '4', 'screen']\n",
      "['battery', 'life']\n",
      "['regular', 'layout', 'keyboard']\n",
      "['runs']\n",
      "['programs']\n",
      "['windows']\n",
      "['recovery', 'discs']\n",
      "['windows', '7', 'starter']\n",
      "['support']\n",
      "['3', 'year', 'warrant', '##y']\n",
      "['online', 'chat', 'service']\n",
      "['ip', '##hot', '##o']\n",
      "['works']\n",
      "['battery']\n",
      "['quality']\n",
      "['vhs']\n",
      "['use']\n",
      "['navigate']\n",
      "['battery', 'life']\n",
      "['battery']\n",
      "['usb', 'ports']\n",
      "['battery']\n",
      "['design']\n",
      "['quality']\n",
      "['mac', 'version', 'of', 'microsoft', 'office']\n",
      "['starting', 'up', 'time']\n",
      "['operates']\n",
      "['touch', 'pad']\n",
      "['touch', 'pad']\n",
      "['pictures']\n",
      "['transporting']\n",
      "['gaming']\n",
      "['network', 'capability']\n",
      "['wi', '##fi', 'card']\n",
      "['printer']\n",
      "['use']\n",
      "['os', 'x']\n",
      "['repair', 'service']\n",
      "['customer', 'service', 'agents']\n",
      "['photos', '##hop']\n",
      "['after', '##ef', '##fect', '##s', 'programs']\n",
      "['runs']\n",
      "['warren', '##ty']\n",
      "['look']\n",
      "['depend', '##ability']\n",
      "['company']\n",
      "['warrant', '##y']\n",
      "['features']\n",
      "['mouse', 'button']\n",
      "['performance']\n",
      "['touch', '##pad']\n",
      "['buttons']\n",
      "['programs']\n",
      "['space']\n",
      "['keyboard']\n",
      "['battery']\n",
      "['keyboard']\n",
      "['battery', 'life']\n",
      "['hard', 'drive']\n",
      "['windows', '7']\n",
      "['processor']\n",
      "['applications']\n",
      "['load']\n",
      "['web', '##page', '##s']\n",
      "['battery']\n",
      "['boot']\n",
      "['windows']\n",
      "['runs']\n",
      "['open', '##off', '##ice']\n",
      "['fire', '##fo', '##x']\n",
      "['price']\n",
      "['quality']\n",
      "['performance']\n",
      "['battery', 'life']\n",
      "['use']\n",
      "['product', 'key']\n",
      "['spec', '##s']\n",
      "['blue', '##tooth']\n",
      "['feature']\n",
      "['one', 'touch', 'keys']\n",
      "['battery', 'life']\n",
      "['keyboard']\n",
      "['speed']\n",
      "['spec', '##s']\n",
      "['price']\n",
      "['delivery']\n",
      "['stability']\n",
      "['mac', 'software']\n",
      "['operating', 'system']\n",
      "['sat', '##a', 'controller']\n",
      "['video', 'editing']\n",
      "['performance']\n",
      "['mobile', 'video', 'editing']\n",
      "['im', '##ov', '##ie', 'program']\n",
      "['processor']\n",
      "['ram']\n",
      "['battery']\n",
      "['price']\n",
      "['designed']\n",
      "['warrant', '##y']\n",
      "['blue', '##tooth', 'mouse']\n",
      "['features']\n",
      "['keyboard']\n",
      "['control', 'buttons']\n",
      "['screen']\n",
      "['mother', '##board']\n",
      "['mother', '##board']\n",
      "['processor']\n",
      "['performance']\n",
      "['mother', '##board']\n",
      "['patches']\n",
      "['speed']\n",
      "['system', 'memory']\n",
      "['ra', '##de', '##on', '58', '##50']\n",
      "['dd', '##r', '##5']\n",
      "['dd', '##r', '##3']\n",
      "['programs']\n",
      "['programs']\n",
      "['speed']\n",
      "['size']\n",
      "['os', 'vista']\n",
      "['software']\n",
      "['battery', 'life']\n",
      "['battery', 'life']\n",
      "['extended', 'warrant', '##y']\n",
      "['features']\n",
      "['programs']\n",
      "['use']\n",
      "['pop', 'up', 'windows']\n",
      "['web', 'programming', 'software']\n",
      "['pop', 'ups']\n",
      "['memory']\n",
      "['3', '##g', 'network']\n",
      "['web', 'access']\n",
      "['screen']\n",
      "['design', 'based', 'programs']\n",
      "['adobe', 'creative', 'suite']\n",
      "['companies']\n",
      "['customer', 'service']\n",
      "['plug']\n",
      "['hd', '##d', 'cover']\n",
      "['applications']\n",
      "['design']\n",
      "['keyboard']\n",
      "['ip', '##hot', '##o']\n",
      "['program']\n",
      "['screen']\n",
      "['spy', 'ware']\n",
      "['norte', '##ll']\n",
      "['video', '##card']\n",
      "['price']\n",
      "['drivers']\n",
      "['speakers']\n",
      "['keyboard']\n",
      "['use']\n",
      "['setting']\n",
      "['screen', 'size']\n",
      "['pixel', 'sizes']\n",
      "['pre', 'installed', 'software', 'update']\n",
      "['customer', 'services']\n",
      "['to', '##shi', '##ba', 'customer', 'services']\n",
      "['space', 'bar']\n",
      "['ip', '##hot', '##os']\n",
      "['program']\n",
      "['performing']\n",
      "['software']\n",
      "['software']\n",
      "['boot', '##ing']\n",
      "['programs']\n",
      "['ip', '##hot', '##o']\n",
      "['im', '##ail']\n",
      "['im', '##ov', '##ie']\n",
      "['software']\n",
      "['use']\n",
      "['transport']\n",
      "['repair', 'depot']\n",
      "['price']\n",
      "['spec', '##s']\n",
      "['cd', 'drive']\n",
      "['hard', 'disk', 'capacity']\n",
      "['keys']\n",
      "['track', '##pad']\n",
      "['design']\n",
      "['os']\n",
      "['shipping']\n",
      "['gaming', 'look']\n",
      "['gaming', 'performance']\n",
      "['hard', 'drive']\n",
      "['cost']\n",
      "['volume', 'control']\n",
      "['boot', 'up']\n",
      "['shut', 'down']\n",
      "['price']\n",
      "['internet', 'connectivity']\n",
      "['usb', 'wireless', 'card']\n",
      "['sound']\n",
      "['cost']\n",
      "['discharge', '##s']\n",
      "['compatibility']\n",
      "['charging']\n",
      "['stand']\n",
      "['design']\n",
      "['heat', 'sink']\n",
      "['web', '##cam']\n",
      "['trend', 'micro']\n",
      "['anti', '##vira', '##l', 'program']\n",
      "['warren', '##ty']\n",
      "['plastic', 'piece']\n",
      "['usb', 'port', 'wires']\n",
      "['case', 'design']\n",
      "['connection']\n",
      "['pricing']\n",
      "['built', 'in', 'wireless']\n",
      "['screen', 'size']\n",
      "['processing', 'power']\n",
      "['applications']\n",
      "['screen']\n",
      "['programs']\n",
      "['graphics']\n",
      "['graphics']\n",
      "['vista']\n",
      "['programs']\n",
      "['install']\n",
      "['un', '##ins', '##tal', '##l']\n",
      "['screen']\n",
      "['keyboard']\n",
      "['mouse']\n",
      "['noise']\n",
      "['i', '##works']\n",
      "['itunes']\n",
      "['ms', 'office']\n",
      "['performance']\n",
      "['i', '##work']\n",
      "['software']\n",
      "['price']\n",
      "['bio', '##s']\n",
      "['windows']\n",
      "['application']\n",
      "['os', 'x']\n",
      "['boot', 'camp']\n",
      "['windows']\n",
      "['mouse', '##pad']\n",
      "['windows', '7']\n",
      "['apple', '##care']\n",
      "['extended', 'warrant', '##y']\n",
      "['windows']\n",
      "['programs']\n",
      "['cad', 'programs']\n",
      "['boot', '##camp']\n",
      "['memory']\n",
      "['operation']\n",
      "['use']\n",
      "['tutor', '##ials']\n",
      "['mouse', 'pad']\n",
      "['right', 'click', 'key']\n",
      "['battery']\n",
      "['full', 'charge']\n",
      "['cord', '##less', 'mouse']\n",
      "['runs']\n",
      "['to', '##shi', '##ba', 'tech', 'support']\n",
      "['tech', '##s']\n",
      "['charged']\n",
      "['usb', 'ports']\n",
      "['tech', 'support']\n",
      "['online', 'chat']\n",
      "['keyboard']\n",
      "['color']\n",
      "['keyboard']\n",
      "['speaker', 'grill']\n",
      "['buttons']\n",
      "['usb', 'ports']\n",
      "['full', 'service']\n",
      "['warrant', '##y']\n",
      "['letter', 'a']\n",
      "['after', 'sales', 'service']\n",
      "['software']\n",
      "['works']\n",
      "['rec', '##ove', '##y', 'disk']\n",
      "['recovery', 'disk']\n",
      "['speed']\n",
      "['capacity']\n",
      "['build']\n",
      "['price']\n",
      "['itunes']\n",
      "['port', '##ability']\n",
      "['battery', 'life']\n",
      "['quality']\n",
      "['warrant', '##y', 'service', 'to', 'to', '##shi', '##ba']\n",
      "['screens']\n",
      "['space']\n",
      "['downloads']\n",
      "['customer', 'support']\n",
      "['led', 'back', '##lit', 'display']\n",
      "['aesthetics']\n",
      "['runs']\n",
      "['screen', 'size']\n",
      "['battery', 'life']\n",
      "['graphics']\n",
      "['connect', 'quality']\n",
      "['screen']\n",
      "['head', '##phone']\n",
      "['mic', 'jack']\n",
      "['touch', 'pad']\n",
      "['touch', 'pad']\n",
      "['head', '##phones']\n",
      "['mic']\n",
      "['price']\n",
      "['warrant', '##y']\n",
      "['memory']\n",
      "['run']\n",
      "['works']\n",
      "['connection', 'with', 'the', 'internet']\n",
      "['boot', '##ing', 'up']\n",
      "['shutting', 'down']\n",
      "['battery', 'life']\n",
      "['gaming']\n",
      "['hard', 'drive']\n",
      "['mother', 'board']\n",
      "['system']\n",
      "['os', '##x']\n",
      "['features']\n",
      "['use']\n",
      "['screen']\n",
      "['keys']\n",
      "['keyboard']\n",
      "['keys']\n",
      "['features']\n",
      "['dashboard']\n",
      "['return', 'policy']\n",
      "['battery']\n",
      "['port', '##ability']\n",
      "['afford', '##ability']\n",
      "['set', 'up']\n",
      "['hook', 'to', 'my', 'wireless', 'network']\n",
      "['aluminum', 'style']\n",
      "['spec', '##s']\n",
      "['n', '##vid', '##ia', '980', '##0']\n",
      "['arm', 'piece']\n",
      "['carry']\n",
      "['battery']\n",
      "['1', 'year', 'warrant', '##y']\n",
      "['word']\n",
      "['word', 'process', '##er']\n",
      "['keyboard']\n",
      "['battery']\n",
      "['hard', 'disk']\n",
      "['battery']\n",
      "['battery']\n",
      "['performance', 'spec', '##s']\n",
      "['features']\n",
      "['quality', 'control']\n",
      "['touch', 'mouse']\n",
      "['nu', '##meric', 'pad']\n",
      "['cover', 'for', 'the', 'dvd', 'drive']\n",
      "['construction', 'quality']\n",
      "['arm', 've', '##lc', '##ro']\n",
      "['software']\n",
      "['lcd']\n",
      "['2', 'gb', 'of', 'ram']\n",
      "['windows', '7']\n",
      "['programs']\n",
      "['battery', 'life']\n",
      "['ve', '##rs', '##iti', '##lity']\n",
      "['safari']\n",
      "['vista']\n",
      "['program']\n",
      "['hi', '##nge', 'design']\n",
      "['screen']\n",
      "['display']\n",
      "['browser', '##s']\n",
      "['runs']\n",
      "['charge', '##r']\n",
      "['speakers']\n",
      "['screen', 'graphics']\n",
      "['clarity']\n",
      "['sharp', '##ness']\n",
      "['customer', 'support']\n",
      "['performance']\n",
      "['safety', 'feature']\n",
      "['un', '##ib', '##od', '##y', 'design']\n",
      "['boot', '##ing', 'up']\n",
      "['one', 'year', 'warrant', '##y']\n",
      "['cost']\n",
      "['charge']\n",
      "['battery']\n",
      "['software']\n",
      "['software']\n",
      "['price']\n",
      "['features']\n",
      "['services']\n",
      "['performance']\n",
      "['speed']\n",
      "['use']\n",
      "['blue', '##tooth', '3']\n",
      "['warren', '##ty']\n",
      "['fan', 'blade']\n",
      "['internet', 'connection']\n",
      "['external', 'hard', '##drive', '##s']\n",
      "['windows', '7', 'starter']\n",
      "['functionality']\n",
      "['value']\n",
      "['simplicity']\n",
      "['look']\n",
      "['looking']\n",
      "['use']\n",
      "['windows', '7', 'starter']\n",
      "['battery', 'life']\n",
      "['battery']\n",
      "['programs']\n",
      "['keys']\n",
      "['look']\n",
      "['windows']\n",
      "['mouse', 'keys']\n",
      "['features']\n",
      "['use']\n",
      "['drivers']\n",
      "['windows', '7', 'ultimate']\n",
      "['mute']\n",
      "['color', 'reproduction']\n",
      "['warrant', '##y']\n",
      "['use']\n",
      "['start', 'up']\n",
      "['features']\n",
      "['sony', 'certified', 'technician']\n",
      "['proprietary', 'software']\n",
      "['apple', 'care', 'plan']\n",
      "['cd', 'drive']\n",
      "['video', 'games']\n",
      "['programs']\n",
      "['processor']\n",
      "['memory']\n",
      "['hard', 'drive']\n",
      "['web', 'cam']\n",
      "['screen']\n",
      "['features']\n",
      "['battery']\n",
      "['graphics']\n",
      "['trial', 'software']\n",
      "['battery', 'life']\n",
      "['web', '##cam']\n",
      "['windows']\n",
      "['mother', '##board']\n",
      "['programs']\n",
      "['loads']\n",
      "['graphics']\n",
      "['internet', 'interfaces']\n",
      "['black', 'keyboard']\n",
      "['service']\n",
      "['software', 'options']\n",
      "['applications']\n",
      "['features']\n",
      "['functioning']\n",
      "['programs']\n",
      "['office']\n",
      "['works']\n",
      "['service', 'center']\n",
      "['port']\n",
      "['battery']\n",
      "['cooling', 'system']\n",
      "['graf', '##ics', 'card']\n",
      "['led', 'back', '##lit', 'screen']\n",
      "['8', '##gb', 'ram']\n",
      "['instructions']\n",
      "['operation']\n",
      "['value']\n",
      "['built']\n",
      "['works']\n",
      "['screen']\n",
      "['system']\n",
      "['cost']\n",
      "['cu', '##rso', '##r']\n",
      "['software']\n",
      "['operate']\n",
      "['ga', '##dgets']\n",
      "['windows']\n",
      "['hard', 'drive']\n",
      "['disk', 'image']\n",
      "['track', 'pad']\n",
      "['track', 'pad']\n",
      "['disc', 'drive']\n",
      "['drive']\n",
      "['drive']\n",
      "['apple', '##works']\n",
      "['word', 'processing', 'program']\n",
      "['size']\n",
      "['battery']\n",
      "['battery']\n",
      "['usage']\n",
      "['speaker', 'grill']\n",
      "['mac', '##os', '##x']\n",
      "['windows', '7']\n",
      "['dual', 'core']\n",
      "['quad', 'core']\n",
      "['22', 'monitor']\n",
      "['graphics']\n",
      "['programs']\n",
      "['garage', '##band']\n",
      "['default', 'background']\n",
      "['screen']\n",
      "['keyboard']\n",
      "['screen']\n",
      "['island', 'back', '##lit', 'keyboard']\n",
      "['multi', 'touch', 'mouse']\n",
      "['mouse']\n",
      "['os']\n",
      "['windows']\n",
      "['i', '##work']\n",
      "['programs']\n",
      "['microsoft', 'office']\n",
      "['word', 'processing']\n",
      "['spreads', '##hee', '##ts']\n",
      "['presentations']\n",
      "['runs']\n",
      "['warrant', '##y']\n",
      "['built', 'it', 'web', 'cam']\n",
      "['monitor']\n",
      "['performed']\n",
      "['navigate']\n",
      "['graphics', 'cards']\n",
      "['blur', '##ay', 'player']\n",
      "['book']\n",
      "['systems']\n",
      "['internet']\n",
      "['video', 'card']\n",
      "['gaming']\n",
      "['media']\n",
      "['3', 'year', 'warrant', '##y']\n",
      "['thermal', 'paste']\n",
      "['internal', '##s']\n",
      "['customer', 'support']\n",
      "['facial', 'recognition']\n",
      "['windows', 'logo', '##n']\n",
      "['windows', 'vista']\n",
      "['online', 'service']\n",
      "['recovery', 'dvds']\n",
      "['web', '##cam']\n",
      "['keyboard']\n",
      "['carry']\n",
      "['display']\n",
      "['features']\n",
      "['performance']\n",
      "['display']\n",
      "['memory']\n",
      "['hard', 'drive']\n",
      "['sound']\n",
      "['fans']\n",
      "['pre', '##formed']\n",
      "['system']\n",
      "['windows', 'os']\n",
      "['user', 'interface']\n",
      "['warren', '##ty']\n",
      "['id', '##vd']\n",
      "['program']\n",
      "['program']\n",
      "['hard', 'drive']\n",
      "['battery']\n",
      "['screen']\n",
      "['works']\n",
      "['word', 'processing']\n",
      "['surfing']\n",
      "['mouse', 'pad']\n",
      "['buttons']\n",
      "['graphics']\n",
      "['play']\n",
      "['work']\n",
      "['intel', 'i', 'processors']\n",
      "['edge']\n",
      "['edges']\n",
      "['sound', 'quality', 'via', 'usb']\n",
      "['battery', 'life']\n",
      "['warrant', '##y']\n",
      "['extended', 'life', 'battery']\n",
      "['operating', 'system']\n",
      "['windows', 'xp', 'drivers']\n",
      "['sound', 'card']\n",
      "['windows', '7']\n",
      "['features']\n",
      "['budget']\n",
      "['mother', '##board']\n",
      "['google', 'chrome']\n",
      "['speakers']\n",
      "['price']\n",
      "['screen']\n",
      "['art', 'aspect']\n",
      "['battery']\n",
      "['surfing']\n",
      "['pre', 'loaded', 'norton', 'fire', '##wall', 'security', 'program']\n",
      "['usb', 'connect']\n",
      "['hard', 'drive']\n",
      "['expense']\n",
      "['cd', 'drive']\n",
      "['multi', 'touch', 'track', '##pad']\n",
      "['extended', 'warrant', '##ies']\n",
      "['cost']\n",
      "['software']\n",
      "['performance']\n",
      "['system']\n",
      "['quality']\n",
      "['price']\n",
      "['use']\n",
      "['apple', 'keyboard']\n",
      "['pc', 's', 'keyboard']\n",
      "['extended', 'warrant', '##y']\n",
      "['ram']\n",
      "['hard', 'drive']\n",
      "['power', 'cord']\n",
      "['battery']\n",
      "['power', 'supply']\n",
      "['tech', '##ies']\n",
      "['sony', 'sonic', 'stage', 'software']\n",
      "['speakers']\n",
      "['sub', '##wo', '##of', '##er']\n",
      "['extended', 'life', 'battery']\n",
      "['docking', 'port']\n",
      "['blue', '##tooth', 'mouse']\n",
      "['blue', '##tooth', 'enabled']\n",
      "['works']\n",
      "['keynote']\n",
      "['power', '##point', 'program']\n",
      "['size']\n",
      "['size']\n",
      "['browser']\n",
      "['carry']\n",
      "['keyboard']\n",
      "['keyboard']\n",
      "['programs']\n",
      "['drivers']\n",
      "['space']\n",
      "['customer', 'service', 'rep']\n",
      "['genius', 'bar', 'staff']\n",
      "['fan']\n",
      "['boot', 'up']\n",
      "['graphics']\n",
      "['non', 'dedicated', 'graphics', 'card']\n",
      "['mouse', 'cable']\n",
      "['mouse']\n",
      "['ram', 'slots']\n",
      "['hd', '##d', 'bays']\n",
      "['16', '##gb', 'ram', 'support']\n",
      "['wireless']\n",
      "['as', '##us', 'tech', 'support']\n",
      "['screen']\n",
      "['screen']\n",
      "['display']\n",
      "['mouse', 'on', 'the', 'pad']\n",
      "['left', 'button']\n",
      "['batteries']\n",
      "['battery', 'life']\n",
      "['built', 'in', 'tools']\n",
      "['itunes']\n",
      "['size']\n",
      "['quality']\n",
      "['price']\n",
      "['carry']\n",
      "['programs']\n",
      "['leopard', 'running', 'system']\n",
      "['l', '##g', 'service', 'center']\n",
      "['service', 'center']\n",
      "['service']\n",
      "['material']\n",
      "['spec', '##s']\n",
      "['performs']\n",
      "['price']\n",
      "['photo', 'booth']\n",
      "['operating', 'system']\n",
      "['user', 'interface']\n",
      "['multi', 'touch', 'track', 'pad']\n",
      "['hard', 'disk']\n",
      "['hard', 'disk', 'space']\n",
      "['internal', 'hard', 'disk']\n",
      "['connects', 'to', 'wi', '##fi']\n",
      "['applications']\n",
      "['windows']\n",
      "['screen']\n",
      "['gaming']\n",
      "['space']\n",
      "['battery', 'life']\n",
      "['charge']\n",
      "['power', 'adapt', '##er']\n",
      "['price']\n",
      "['weight']\n",
      "['main', '##board']\n",
      "['speed']\n",
      "['hard', 'drive']\n",
      "['500', '##gb', 'external', 'hard', 'drive']\n",
      "['wireless', 'card']\n",
      "['operating', 'systems']\n",
      "['keys']\n",
      "['port', '##ability']\n",
      "['accessories']\n",
      "['warrant', '##y']\n",
      "['sound']\n",
      "['windows']\n",
      "['system']\n",
      "['size']\n",
      "['games']\n",
      "['playing', 'games']\n",
      "['windows']\n",
      "['equipment']\n",
      "['size']\n",
      "['build']\n",
      "['w', '##t']\n",
      "['battery', 'life']\n",
      "['quality']\n",
      "['apple', 'navigation']\n",
      "['apps']\n",
      "['hard', 'drives']\n",
      "['battery']\n",
      "['built']\n",
      "['runs']\n",
      "['sound', 'card']\n",
      "['processing', 'power']\n",
      "['battery', 'life']\n",
      "['sized']\n",
      "['vista']\n",
      "['keyboard']\n",
      "['desktop', 'keyboard']\n",
      "['display']\n",
      "['mouse']\n",
      "['warrant', '##y']\n",
      "['keyboard']\n",
      "['keyboard']\n",
      "['battery', 'life']\n",
      "['hard', 'drives']\n",
      "['driver']\n",
      "['drivers', 'applications', 'dvd']\n",
      "['repair', 'depot']\n",
      "['repair', 'depot']\n",
      "['operating', 'system']\n",
      "['mother', '##boards']\n",
      "['costing']\n",
      "['ac', 'plug']\n",
      "['pe', '##form', '##ance']\n",
      "['price']\n",
      "['shipping']\n",
      "['bio', '##s']\n",
      "['ports']\n",
      "['os']\n",
      "['use']\n",
      "['hard', 'drives']\n",
      "['use']\n",
      "['ms', 'office']\n",
      "['shipping']\n",
      "['price']\n",
      "['budget']\n",
      "['power']\n",
      "['flexibility']\n",
      "['hd', '##mi', 'port']\n",
      "['s', 'video', 'port']\n",
      "['speakers']\n",
      "['battery']\n",
      "['surfing', 'the', 'web']\n",
      "['ip', '##hot', '##o']\n",
      "['senior', 'tech']\n",
      "['volume', 'wheel']\n",
      "['sound', 'quality']\n",
      "['features']\n",
      "['price']\n",
      "['manual']\n",
      "['hard', 'drive']\n",
      "['software']\n",
      "['sensitivity']\n",
      "['battery', 'life']\n",
      "['battery']\n",
      "['battery', 'life']\n",
      "['case']\n",
      "['core', 'applications']\n",
      "['system']\n",
      "['charge']\n",
      "['cord']\n",
      "['hook', 'up', 'to', 'other', 'wireless', 'networks']\n",
      "['shift', 'key']\n",
      "['rep']\n",
      "['power']\n",
      "['speed']\n",
      "['programs']\n",
      "['il', '##ife']\n",
      "['microsoft', 'office']\n",
      "['port', '##ability']\n",
      "['longevity']\n",
      "['use']\n",
      "['mother', '##board']\n",
      "['fan']\n",
      "['charged']\n",
      "['price']\n",
      "['price']\n",
      "['keys']\n",
      "['standard', 'os', 'cd']\n",
      "['proprietary', 'hardware', 'drivers']\n",
      "['battery']\n",
      "['charge']\n",
      "['delivery']\n",
      "['program', '##m']\n",
      "['performance']\n",
      "['battery', 'life']\n",
      "['response']\n",
      "['internet', 'focused', 'activity']\n",
      "['features']\n",
      "['charges']\n",
      "['size']\n",
      "['look']\n",
      "['feature']\n",
      "['charge']\n",
      "['ib', '##ook', 'backup']\n",
      "['fire', '##wire', 'connection']\n",
      "['camera']\n",
      "['specifications']\n",
      "['display']\n",
      "['repair', 'depot']\n",
      "['keyboard', 'short', '##cut', '##s']\n",
      "['short', '##cut', '##s']\n",
      "['ram']\n",
      "['software']\n",
      "['windows', 'media']\n",
      "['price']\n",
      "['warrant', '##y']\n",
      "['replacement', 'charge', '##r']\n",
      "['windows', 'system']\n",
      "['cu', '##rso', '##r']\n",
      "['mouse', '##pad']\n",
      "['features']\n",
      "['printer', 'software']\n",
      "['power']\n",
      "['memory']\n",
      "['speed']\n",
      "['seventeen', 'inch', 'screen']\n",
      "['hi', '##nge']\n",
      "['shipping']\n",
      "['technician']\n",
      "['dc', 'jack']\n",
      "['dc', 'jack']\n",
      "['power', 'brick']\n",
      "['screen', 'quality']\n",
      "['use']\n",
      "['graphics']\n",
      "['use']\n",
      "['il', '##ife', 'software']\n",
      "['use']\n",
      "['built', 'in', 'web', '##cam']\n",
      "['service', 'center']\n",
      "['word']\n",
      "['pages']\n",
      "['applications']\n",
      "['internet']\n",
      "['gaming']\n",
      "['17', 'inch', 'screen']\n",
      "['price', 'point']\n",
      "['appearance']\n",
      "['boots', 'up']\n",
      "['runs']\n",
      "['specifications']\n",
      "['battery', 'life']\n",
      "['screen']\n",
      "['price']\n",
      "['batteries']\n",
      "['price']\n",
      "['mother', '##board']\n",
      "['speed']\n",
      "['retail', 'price']\n",
      "['microsoft', 'student', 'edition']\n",
      "['web', 'brows', '##ing']\n",
      "['every', 'day', 'computing']\n",
      "['functions']\n",
      "['keys']\n",
      "['led', 'monitor']\n",
      "['mother', 'board']\n",
      "['hard', 'drive']\n",
      "['design']\n",
      "['battery']\n",
      "['charge']\n",
      "['memory']\n",
      "['gaming']\n",
      "['screen', 'size']\n",
      "['tech', 'support']\n",
      "['back', '##lit', 'keys']\n",
      "['screen']\n",
      "['safari', 'internet', 'browser']\n",
      "['fire', '##fo', '##x']\n",
      "['use']\n",
      "['battery']\n",
      "['support', 'line']\n",
      "['windows', '7', 'starter']\n",
      "['windows', '7']\n",
      "['keyboard', 'function']\n",
      "['dvd', 'drive']\n",
      "['garage', '##band']\n",
      "['microphone']\n",
      "['linux']\n",
      "['security', 'prone', 'os']\n",
      "['performs']\n",
      "['memory']\n",
      "['hard', 'drive', 'space']\n",
      "['fire', '##wire', 'cable', 'system']\n",
      "['ib', '##ook']\n",
      "['shipment']\n",
      "['os', 'x']\n",
      "['quick', '##lo', '##ok']\n",
      "['features']\n",
      "['keyboard']\n",
      "['design']\n",
      "['colors']\n",
      "['screen']\n",
      "['mouse', '##pad']\n",
      "['brows', '##ing']\n",
      "['photo', '##boot', '##h']\n",
      "['program']\n",
      "['built', 'in', 'camera']\n",
      "['software']\n",
      "['shipping']\n",
      "['chrome']\n",
      "['prices']\n",
      "['price']\n",
      "['external', 'dvd', 'drive']\n",
      "['external', 'drive']\n",
      "['port', '##ability']\n",
      "['processing']\n",
      "['cooling', 'pad']\n",
      "['supplied', 'software']\n",
      "['software']\n",
      "['windows']\n",
      "['service']\n",
      "['garage', '##band']\n",
      "['apple', 'applications']\n",
      "['bio', '##s']\n",
      "['bio', '##s']\n",
      "['extended', 'warrant', '##y']\n",
      "['charging']\n",
      "['charge']\n",
      "['charge']\n",
      "['shipped']\n",
      "['windows']\n",
      "['kern', '##al']\n",
      "['display']\n",
      "['battery', 'life']\n",
      "['quality']\n",
      "['hard', '##ri', '##ve']\n",
      "['use']\n",
      "['graphics']\n",
      "['screen']\n",
      "['upgraded', 'memory']\n",
      "['applications']\n",
      "['running']\n",
      "['graphics']\n",
      "['use']\n",
      "['internet', 'speed']\n",
      "['call', 'center']\n",
      "['apps']\n",
      "['programs']\n",
      "['games']\n",
      "['cords']\n",
      "['screen']\n",
      "['screen']\n",
      "['os']\n",
      "['fan']\n",
      "['edges']\n",
      "['edges']\n",
      "['carry']\n",
      "['screen']\n",
      "['size']\n",
      "['weight']\n",
      "['keyboard']\n",
      "['disc', 'drive']\n",
      "['hard', 'drive']\n",
      "['power', 'supply']\n",
      "['display']\n",
      "['starts']\n",
      "['boot', 'up']\n",
      "['pages']\n",
      "['keynote', '##s']\n",
      "['hard', 'drive']\n",
      "['mother', 'board']\n",
      "['dvd', 'drive']\n",
      "['hi', '##nge']\n",
      "['mother', '##board']\n",
      "['port']\n",
      "['plug']\n",
      "['key', 'board']\n",
      "['track', '##pad']\n",
      "['power']\n",
      "['ease']\n",
      "['use']\n",
      "['touch', '##pad']\n",
      "['connection', 'card']\n",
      "['warrant', '##y']\n",
      "['warrant', '##y']\n",
      "['4', '##gb', 'of', 'ram']\n",
      "['8', '##gb', 'of', 'ram']\n",
      "['game']\n",
      "['brows', '##ing']\n",
      "['itunes']\n",
      "['price']\n",
      "['setup']\n",
      "['mother', '##board']\n",
      "['to', '##shi', '##ba', 'customer', 'services']\n",
      "['quality', 'display']\n",
      "['performance']\n",
      "['quality']\n",
      "['battery', 'life']\n",
      "['internet', 'capabilities']\n",
      "['high', 'definition', 'quality']\n",
      "['speakers']\n",
      "['beast', 'graphics']\n",
      "['set', 'up']\n",
      "['wall', 'charge', '##r']\n",
      "['battery']\n",
      "['screen']\n",
      "['battery', 'life']\n",
      "['windows', 'vista', 'system']\n",
      "['function', 'keys']\n",
      "['bio', '##s']\n",
      "['vista']\n",
      "['screen', 'size']\n",
      "['push', 'button']\n",
      "['lid']\n",
      "['pen', '##tium', '4']\n",
      "['1', 'gb', 'ram']\n",
      "['windows']\n",
      "['word', 'processor']\n",
      "['interface', 'device']\n",
      "['included', 'program']\n",
      "['ex', '##pes', '##e']\n",
      "['microsoft', 'office', 'apps']\n",
      "['internet', 'use']\n",
      "['price']\n",
      "['quality']\n",
      "['games']\n",
      "['aero']\n",
      "['hard', 'drive']\n",
      "['battery']\n",
      "['screen']\n",
      "['operation']\n",
      "['screen']\n",
      "['web', '##cam']\n",
      "['sky', '##pe']\n",
      "['machine', '##d', 'aluminum', 'frame']\n",
      "['keyboard']\n",
      "['parallels', 'type', 'program']\n",
      "['software']\n",
      "['design']\n",
      "['at', '##i', 'graphics', 'card']\n",
      "['intel', 'built', 'in', 'card']\n",
      "['games']\n",
      "['handle']\n",
      "['operate']\n",
      "['features']\n",
      "['speed']\n",
      "['power']\n",
      "['power', 'supply', 'cord']\n",
      "['apple', '##care', 'warrant', '##y', 'plan']\n",
      "['13', 'inch']\n",
      "['power', 'supply']\n",
      "['screen']\n",
      "['use']\n",
      "['right', 'speaker']\n",
      "['support']\n",
      "['final', 'cut', 'pro']\n",
      "['runs']\n",
      "['mac', 'snow', 'leopard', 'o', 's']\n",
      "['win', 'xp']\n",
      "['visa']\n",
      "['win', '##7']\n",
      "['use']\n",
      "['startup']\n",
      "['shut', '##down']\n",
      "['resume', 'from', 'sleep']\n",
      "['screen']\n",
      "['keyboard']\n",
      "['fit']\n",
      "['windows']\n",
      "['processor']\n",
      "['graphics', 'card']\n",
      "['size']\n",
      "['external', 'keyboard']\n",
      "['mouse']\n",
      "['monitor']\n",
      "['windows', '7', 'system']\n",
      "['weight']\n",
      "['size']\n",
      "['wheel']\n",
      "['service']\n",
      "['flat', '##line', 'keyboard']\n",
      "['speakers']\n",
      "['windows', '7']\n",
      "['er', '##gon', '##omics']\n",
      "['connections']\n",
      "['apple', '##care', 'tech', 'support']\n",
      "['power', 'plug']\n",
      "['resolution', 'on', 'the', 'screen']\n",
      "['programs']\n",
      "['il', '##ife']\n",
      "['i', '##work']\n",
      "['gaming']\n",
      "['delivery']\n",
      "['value']\n",
      "['internet', 'explorer']\n",
      "['ac', 'power', 'port']\n",
      "['running', 'system']\n",
      "['programs']\n",
      "['power', 'supply']\n",
      "['power', 'supply']\n",
      "['force']\n",
      "['du', '##ra', '##bility']\n",
      "['vista', 'business']\n",
      "['surf', 'the', 'web']\n",
      "['size', 'of', 'the', 'screen']\n",
      "['to', '##te']\n",
      "['work']\n",
      "['use']\n",
      "['battery']\n",
      "['win', '7']\n",
      "['2', '##gb', 'stick', 'of', 'memory']\n",
      "['norton']\n",
      "['internet']\n",
      "['command', 'prompt']\n",
      "['software']\n",
      "['speed']\n",
      "['hard', 'drive']\n",
      "['programming']\n",
      "['ip', '##hot', '##o']\n",
      "['speakers']\n",
      "['ram']\n",
      "['speakers']\n",
      "['memory']\n",
      "['vista']\n",
      "['battery', 'life']\n",
      "['price']\n",
      "['battery']\n",
      "['charge']\n",
      "['charge']\n",
      "['warren', '##ty']\n",
      "['hard', 'drive']\n",
      "['windows', '7', 'starter']\n",
      "['icon', 'list']\n",
      "['desktop', 'icons']\n",
      "['warrant', '##y']\n",
      "['price']\n",
      "['performance']\n",
      "['built']\n",
      "['look']\n",
      "['apple', 'care']\n",
      "['use']\n",
      "['warrant', '##y']\n",
      "['work']\n",
      "['size']\n",
      "['keyboard']\n",
      "['functions']\n",
      "['mouse']\n",
      "['os']\n",
      "['run']\n",
      "['screen']\n",
      "['delivery', 'service']\n",
      "['performance']\n",
      "['picture', 'quality']\n",
      "['use']\n",
      "['i', '##3', 'processor']\n",
      "['fan']\n",
      "['battery']\n",
      "['charge']\n",
      "['charge']\n",
      "['mouse', '##pad']\n",
      "['keys']\n",
      "['cas', '##ing']\n",
      "['operating', 'system']\n",
      "['resolution', 'of', 'the', 'screen']\n",
      "['touch', '##pad']\n",
      "['battery', 'life']\n",
      "['boot', 'up']\n",
      "['charge']\n",
      "['os']\n",
      "['screen', 'brightness']\n",
      "['back', '##lit', 'keyboard']\n",
      "['look']\n",
      "['cost']\n",
      "['sound']\n",
      "['sat', '##a', 'controller']\n",
      "['mother', '##board', 'chip']\n",
      "['cpu']\n",
      "['hard', 'drive']\n",
      "['buttons']\n",
      "['battery', 'life']\n",
      "['battery']\n",
      "['battery']\n",
      "['size']\n",
      "['weight']\n",
      "['port', '##ability']\n",
      "['battery', 'life']\n",
      "['windows', 'vista', 'home', 'premium']\n",
      "['1', '##gb', 'of', 'ram']\n",
      "['display']\n",
      "['brightness']\n",
      "['electronic', 'fu', '##zz', 'sound']\n",
      "['head', '##phone', 'jack']\n",
      "['keyboard']\n",
      "['quality']\n",
      "['warrant', '##y']\n",
      "['power', 'supply']\n",
      "['gaming']\n",
      "['graphics', 'editing']\n",
      "['complex', 'data', 'analysis']\n",
      "['costs']\n",
      "['shipping']\n",
      "['ram']\n",
      "['performance']\n",
      "['surf', 'the', 'web']\n",
      "['hard', '##co', '##py', 'manuel']\n",
      "['drive']\n",
      "['visual']\n",
      "['priced']\n",
      "['works']\n",
      "['os']\n",
      "['keyboard']\n",
      "['plate']\n",
      "['mouse', 'command', 'buttons']\n",
      "['features']\n",
      "['speeds']\n",
      "['touch', 'pad']\n",
      "['size']\n",
      "['features']\n",
      "['lighted', 'keyboard']\n",
      "['mouse', 'pad']\n",
      "['battery', 'life']\n",
      "['operation', 'system']\n",
      "['track', '##pad']\n",
      "['applications']\n",
      "['hard', 'drive']\n",
      "['windows']\n",
      "['warren', '##ty']\n",
      "['agents']\n",
      "['keyboard']\n",
      "['three', 'year', 'warrant', '##y']\n",
      "['extended', 'warrant', '##y']\n",
      "['internet']\n",
      "['ram']\n",
      "['memory']\n",
      "['n', '##vid', '##ia', 'graf', '##ics', 'card']\n",
      "['work']\n",
      "['resolution']\n",
      "['left', 'mouse', 'button']\n",
      "['keyboard']\n",
      "['feature']\n",
      "['type']\n",
      "['cas', '##ing']\n",
      "['15']\n",
      "['17']\n",
      "['feel']\n",
      "['hard', 'disc']\n",
      "['virus', 'protection', 'programs', 'for', 'a', 'mac']\n",
      "['screen']\n",
      "['hd', '##mi']\n",
      "['graphics']\n",
      "['wireless', 'switch']\n",
      "['build', 'quality']\n",
      "['technical', 'person']\n",
      "['mouse']\n",
      "['shipped']\n",
      "['size']\n",
      "['internet', 'connection']\n",
      "['quality']\n",
      "['performance']\n",
      "['price']\n",
      "['recovery', 'dvds']\n",
      "['driver', 'application', 'dvd']\n",
      "['photo', 'detection', 'software']\n",
      "['speakers']\n",
      "['price']\n",
      "['use']\n",
      "['touch', '##pad']\n",
      "['screen']\n",
      "['mouse', 'pointer']\n",
      "['hardware']\n",
      "['keyboard']\n",
      "['windows']\n",
      "['cost']\n",
      "['quality']\n",
      "['engineering', 'design']\n",
      "['warrant', '##y']\n",
      "['applications']\n",
      "['screen']\n",
      "['use']\n",
      "['work']\n",
      "['speakers']\n",
      "['hinges']\n",
      "['programs']\n",
      "['work']\n",
      "['customer', 'service']\n",
      "['programs']\n",
      "['keynote']\n",
      "['pages']\n",
      "['numbers']\n",
      "['expense']\n",
      "['run']\n",
      "['components']\n",
      "['price']\n",
      "['price']\n",
      "['cd', 'drive']\n",
      "['price']\n",
      "['quality']\n",
      "['quality']\n",
      "['price']\n",
      "['pointer']\n",
      "['shipping']\n",
      "['price']\n",
      "['budget']\n",
      "['life', 'span']\n",
      "['design']\n",
      "['looks']\n",
      "['feel']\n",
      "['my', 'to', '##shi', '##ba', 'feature']\n",
      "['layout']\n",
      "['one', 'of', 'the', 'programs']\n",
      "['use']\n",
      "['touch', '##pad']\n",
      "['usb']\n",
      "['touch', '##pad']\n",
      "['i', '##work']\n",
      "['office']\n",
      "['word', 'processor']\n",
      "['windows']\n",
      "['document', 'creation']\n",
      "['battery']\n",
      "['memory']\n",
      "['memory', 'stick']\n",
      "['memory', 'stick']\n",
      "['keys']\n",
      "['keyboard']\n",
      "['button', 'below', 'the', 'mouse', 'pad']\n",
      "['screen']\n",
      "['paint']\n",
      "['lights', '##cr', '##ibe']\n",
      "['touch', '##pad']\n",
      "['applications']\n",
      "['ip', '##hot', '##o']\n",
      "['photo', 'application']\n",
      "['word']\n",
      "['17', 'inc', '##e', 'screen']\n",
      "['screen']\n",
      "['warrant', '##y', 'period']\n",
      "['hd']\n",
      "['drivers']\n",
      "['windows', 'update']\n",
      "['os', '##x']\n",
      "['windows', 'xp']\n",
      "['features']\n",
      "['performance']\n",
      "['battery', 'life']\n",
      "['price']\n",
      "['value']\n",
      "['windows']\n",
      "['graphics']\n",
      "['system']\n",
      "['wi', '##fi']\n",
      "['software']\n",
      "['update', 'programs']\n",
      "['navigate']\n",
      "['applications']\n",
      "['ms', 'applications']\n",
      "['customer', 'service']\n",
      "['screen']\n",
      "['carry']\n",
      "['weight']\n",
      "['applications']\n",
      "['programs']\n",
      "['internet', 'tab', '##s']\n",
      "['noises']\n",
      "['bottom', 'of', 'the', 'computer']\n",
      "['repair', 'technician']\n",
      "['software']\n",
      "['carry']\n",
      "['handle']\n",
      "['cords']\n",
      "['power']\n",
      "['head', '##phones']\n",
      "['mic']\n",
      "['network', 'connection']\n",
      "['setup']\n",
      "['cords']\n",
      "['cords']\n",
      "['power', 'supply']\n",
      "['core', '##2', 'quad']\n",
      "['battery', 'life']\n",
      "['screen']\n",
      "['screen']\n",
      "['screen']\n",
      "['applications']\n",
      "['charge', '##r', 'unit']\n",
      "['feel']\n",
      "['looks']\n",
      "['signals']\n",
      "['signal']\n",
      "['feel']\n",
      "['quality']\n",
      "['memory']\n",
      "['windows', '7', 'starter']\n",
      "['win', '7', 'home']\n",
      "['runs']\n",
      "['drive']\n",
      "['edges']\n",
      "['inca', '##se', 'shells']\n",
      "['keyboard']\n",
      "['weight']\n",
      "['use']\n",
      "['shipping']\n",
      "['repair', 'center']\n",
      "['applications']\n",
      "['battery']\n",
      "['dvd', 'burn', '##er']\n",
      "['power', 'supply']\n",
      "['case']\n",
      "['keyboard']\n",
      "['keyboard', 'functions']\n",
      "['im', '##ov', '##ie']\n",
      "['service', 'facility']\n",
      "['customer', 'service']\n",
      "['warrant', '##y']\n",
      "['programs']\n",
      "['system']\n",
      "['using', 'the', 'internet']\n",
      "['buttons']\n",
      "['safe', 'mode']\n",
      "['18', 'inch']\n",
      "['universal', 'charge', '##r']\n",
      "['power', '##point']\n",
      "['desktop', 'background']\n",
      "['window', 's', '7', 'starter']\n",
      "['function']\n",
      "['it', 'support', 'technicians']\n",
      "['charge', '##r']\n",
      "['hardware']\n",
      "['customer', 'service', 'center']\n",
      "['screen']\n",
      "['video', '##card']\n",
      "['shaped']\n",
      "['satellite', 'card']\n",
      "['battery', 'life']\n",
      "['battery']\n",
      "['touch', '##pad']\n",
      "['depot']\n",
      "['price']\n",
      "['zoom', '##ing']\n",
      "['screen']\n",
      "['sized']\n",
      "['use']\n",
      "['price']\n",
      "['features']\n",
      "['power']\n",
      "['keyboard']\n",
      "['features']\n",
      "['call', 'center']\n",
      "['back', '##lit', 'keyboard']\n",
      "['memory']\n",
      "['battery', 'life']\n",
      "['service', 'rep']\n",
      "['power', 'adapt', '##er']\n",
      "['program']\n",
      "['windows', 'movie', 'maker']\n",
      "['hard', 'drive']\n",
      "['anti', '##virus', 'software']\n",
      "['design']\n",
      "['beauty']\n",
      "['price']\n",
      "['ga', '##rmin', 'gps', 'software']\n",
      "['microsoft', 'office', '2003']\n",
      "['keyboard']\n",
      "['staff']\n",
      "['fan', 'noise']\n",
      "['price']\n",
      "['warrant', '##y']\n",
      "['price']\n",
      "['screen']\n",
      "['battery', 'life']\n",
      "['storage']\n",
      "['apple', 'associates']\n",
      "['screen']\n",
      "['price']\n",
      "['mouse', '##pad', 'sensitivity']\n",
      "['i', '##work']\n",
      "['ms', 'office']\n",
      "['ms', 'office']\n",
      "['keyboard']\n",
      "['mac', 'os', '##x']\n",
      "['operating', 'system']\n",
      "['keyboard']\n",
      "['hi', '##nge']\n",
      "['mother', '##board']\n",
      "['surfing', 'the', 'web']\n",
      "['use']\n",
      "['hard', 'drive']\n",
      "['use']\n",
      "['hd', '##d', 'bay']\n",
      "['tutor', '##ials']\n",
      "['leather', 'carrying', 'case']\n",
      "['keyboard']\n",
      "['mouse']\n",
      "['touch', 'pad']\n",
      "['screen']\n",
      "['commodity', 'hardware']\n",
      "['para', '##lles']\n",
      "['windows', 'xp', 'professional']\n",
      "['windows', '7', 'home', 'premium']\n",
      "['windows', 'server', 'enterprise', '2003']\n",
      "['windows', 'server', '2008', 'enterprise']\n",
      "['repair']\n",
      "['repair']\n",
      "['operating', 'system']\n"
     ]
    }
   ],
   "source": [
    "a = term_bert_tokenize(data,tokenizer,100)"
   ]
  },
  {
   "cell_type": "code",
   "execution_count": 123,
   "metadata": {},
   "outputs": [
    {
     "data": {
      "text/plain": [
       "['i',\n",
       " 'charge',\n",
       " 'it',\n",
       " 'at',\n",
       " 'night',\n",
       " 'and',\n",
       " 'skip',\n",
       " 'taking',\n",
       " 'the',\n",
       " 'cord',\n",
       " 'with',\n",
       " 'me',\n",
       " 'because',\n",
       " 'of',\n",
       " 'the',\n",
       " 'good',\n",
       " 'battery',\n",
       " 'life']"
      ]
     },
     "execution_count": 123,
     "metadata": {},
     "output_type": "execute_result"
    }
   ],
   "source": [
    "tokenizer.tokenize('i charge it at night and skip taking the cord with me because of the good battery life ')"
   ]
  },
  {
   "cell_type": "code",
   "execution_count": null,
   "metadata": {},
   "outputs": [],
   "source": []
  },
  {
   "cell_type": "code",
   "execution_count": 119,
   "metadata": {},
   "outputs": [
    {
     "name": "stdout",
     "output_type": "stream",
     "text": [
      "tensor([ 1999,  1996,  4497,  2122,  6097,  1001,  1001,  2808,  2024,  4372,\n",
      "         1001,  1001,  2553,  2094,  1999,  1037,  3730,  8903, 17539,  2061,\n",
      "         2017,  2097,  2196,  2113,  2055,  1996, 15082,  3341,  2127,  2017,\n",
      "         4965,  2009,  2131,  2009,  2188,  3338,  1996,  7744,  1998,  2224,\n",
      "         2009,  2200, 12266,  9530,   100,   100,   100,   100,   100,   100,\n",
      "          100,   100,   100,   100,   100,   100,   100,   100,   100,   100,\n",
      "          100,   100,   100,   100,   100,   100,   100,   100,   100,   100,\n",
      "          100,   100,   100,   100,   100,   100,   100,   100,   100,   100,\n",
      "          100,   100,   100,   100,   100,   100,   100,   100,   100,   100,\n",
      "          100,   100,   100,   100,   100,   100,   100,   100,   100,   100])\n",
      "tensor([   0,    0,    0,    0,    0,    0,    0,    0,    0,    0,    0,    0,\n",
      "           0,    0,    0,    0,    0,    1,    2,    0,    0,    0,    0,    0,\n",
      "           0,    0,    0,    0,    0,    0,    0,    0,    0,    0,    0,    0,\n",
      "           0,    0,    0,    0,    0,    0,    0,    0, -100, -100, -100, -100,\n",
      "        -100, -100, -100, -100, -100, -100, -100, -100, -100, -100, -100, -100,\n",
      "        -100, -100, -100, -100, -100, -100, -100, -100, -100, -100, -100, -100,\n",
      "        -100, -100, -100, -100, -100, -100, -100, -100, -100, -100, -100, -100,\n",
      "        -100, -100, -100, -100, -100, -100, -100, -100, -100, -100, -100, -100,\n",
      "        -100, -100, -100, -100])\n"
     ]
    }
   ],
   "source": [
    "print(a['input_ids'][20])\n",
    "print(a['labels'][20])"
   ]
  },
  {
   "cell_type": "code",
   "execution_count": 69,
   "metadata": {},
   "outputs": [
    {
     "data": {
      "text/plain": [
       "'\"sales\" team'"
      ]
     },
     "execution_count": 69,
     "metadata": {},
     "output_type": "execute_result"
    }
   ],
   "source": [
    "data['aspect_term'][3]"
   ]
  },
  {
   "cell_type": "code",
   "execution_count": 79,
   "metadata": {},
   "outputs": [],
   "source": [
    "a =tokenizer.tokenize('I need \"sales\" team' )"
   ]
  },
  {
   "cell_type": "code",
   "execution_count": 80,
   "metadata": {},
   "outputs": [
    {
     "data": {
      "text/plain": [
       "[1045, 2342, 1000, 4341, 1000, 2136]"
      ]
     },
     "execution_count": 80,
     "metadata": {},
     "output_type": "execute_result"
    }
   ],
   "source": [
    "tokenizer.convert_tokens_to_ids(a)"
   ]
  },
  {
   "cell_type": "code",
   "execution_count": 75,
   "metadata": {},
   "outputs": [
    {
     "name": "stdout",
     "output_type": "stream",
     "text": [
      "38\n"
     ]
    },
    {
     "data": {
      "text/plain": [
       "'the tech guy then said the service center does not do 1 ##to ##1 exchange and i have to direct my concern to the sales team which is the retail shop which i bought my net ##book from'"
      ]
     },
     "execution_count": 75,
     "metadata": {},
     "output_type": "execute_result"
    }
   ],
   "source": [
    "b= tokenizer.convert_ids_to_tokens([1996, 6627, 3124, 2059, 2056, 1996, 2326, 2415, 2515, 2025, 2079, 1015,\n",
    "        3406, 2487, 3863, 1998, 1045, 2031, 2000, 3622, 2026, 5142, 2000, 1996,\n",
    "        4341, 2136, 2029, 2003, 1996, 7027, 4497, 2029, 1045, 4149, 2026, 5658,\n",
    "        8654, 2013])\n",
    "print(len(b))\n",
    "' '.join(b)"
   ]
  },
  {
   "cell_type": "code",
   "execution_count": null,
   "metadata": {},
   "outputs": [],
   "source": [
    "a"
   ]
  },
  {
   "cell_type": "code",
   "execution_count": 18,
   "metadata": {},
   "outputs": [
    {
     "data": {
      "text/plain": [
       "'i charge it at night and skip taking the cord with me because of the good battery life'"
      ]
     },
     "execution_count": 18,
     "metadata": {},
     "output_type": "execute_result"
    }
   ],
   "source": [
    "data['sentence'][0]"
   ]
  },
  {
   "cell_type": "code",
   "execution_count": 16,
   "metadata": {},
   "outputs": [
    {
     "data": {
      "text/plain": [
       "tensor([   0,    0,    0,    0,    0,    0,    0,    0,    0,    1,    0,    0,\n",
       "           0,    0,    0,    0,    0,    0, -100, -100, -100, -100, -100, -100,\n",
       "        -100, -100, -100, -100, -100, -100])"
      ]
     },
     "execution_count": 16,
     "metadata": {},
     "output_type": "execute_result"
    }
   ],
   "source": [
    "a['labels'][0]"
   ]
  },
  {
   "cell_type": "code",
   "execution_count": 58,
   "metadata": {},
   "outputs": [],
   "source": [
    "id2label={\n",
    "    0: '0',\n",
    "    1: 'B-term',\n",
    "    2: 'I-term'\n",
    "}\n",
    "label2id= {\n",
    "    '0': 0,\n",
    "    'B-term': 1,\n",
    "    'I-term': 2\n",
    "}\n"
   ]
  },
  {
   "cell_type": "code",
   "execution_count": 4,
   "metadata": {},
   "outputs": [
    {
     "name": "stderr",
     "output_type": "stream",
     "text": [
      "c:\\Users\\pikke\\AppData\\Local\\Programs\\Python\\Python313\\Lib\\site-packages\\tqdm\\auto.py:21: TqdmWarning: IProgress not found. Please update jupyter and ipywidgets. See https://ipywidgets.readthedocs.io/en/stable/user_install.html\n",
      "  from .autonotebook import tqdm as notebook_tqdm\n"
     ]
    }
   ],
   "source": [
    "from transformers import DataCollatorForTokenClassification, AutoModelForTokenClassification\n",
    "\n"
   ]
  },
  {
   "cell_type": "code",
   "execution_count": 5,
   "metadata": {},
   "outputs": [
    {
     "name": "stderr",
     "output_type": "stream",
     "text": [
      "Some weights of DistilBertForTokenClassification were not initialized from the model checkpoint at distilbert/distilbert-base-uncased and are newly initialized: ['classifier.bias', 'classifier.weight']\n",
      "You should probably TRAIN this model on a down-stream task to be able to use it for predictions and inference.\n"
     ]
    }
   ],
   "source": [
    "bert = AutoModelForTokenClassification.from_pretrained('distilbert/distilbert-base-uncased') "
   ]
  },
  {
   "cell_type": "code",
   "execution_count": null,
   "metadata": {},
   "outputs": [
    {
     "data": {
      "text/plain": [
       "[DistilBertModel(\n",
       "   (embeddings): Embeddings(\n",
       "     (word_embeddings): Embedding(30522, 768, padding_idx=0)\n",
       "     (position_embeddings): Embedding(512, 768)\n",
       "     (LayerNorm): LayerNorm((768,), eps=1e-12, elementwise_affine=True)\n",
       "     (dropout): Dropout(p=0.1, inplace=False)\n",
       "   )\n",
       "   (transformer): Transformer(\n",
       "     (layer): ModuleList(\n",
       "       (0-5): 6 x TransformerBlock(\n",
       "         (attention): DistilBertSdpaAttention(\n",
       "           (dropout): Dropout(p=0.1, inplace=False)\n",
       "           (q_lin): Linear(in_features=768, out_features=768, bias=True)\n",
       "           (k_lin): Linear(in_features=768, out_features=768, bias=True)\n",
       "           (v_lin): Linear(in_features=768, out_features=768, bias=True)\n",
       "           (out_lin): Linear(in_features=768, out_features=768, bias=True)\n",
       "         )\n",
       "         (sa_layer_norm): LayerNorm((768,), eps=1e-12, elementwise_affine=True)\n",
       "         (ffn): FFN(\n",
       "           (dropout): Dropout(p=0.1, inplace=False)\n",
       "           (lin1): Linear(in_features=768, out_features=3072, bias=True)\n",
       "           (lin2): Linear(in_features=3072, out_features=768, bias=True)\n",
       "           (activation): GELUActivation()\n",
       "         )\n",
       "         (output_layer_norm): LayerNorm((768,), eps=1e-12, elementwise_affine=True)\n",
       "       )\n",
       "     )\n",
       "   )\n",
       " ),\n",
       " Dropout(p=0.1, inplace=False),\n",
       " Linear(in_features=768, out_features=2, bias=True)]"
      ]
     },
     "execution_count": 85,
     "metadata": {},
     "output_type": "execute_result"
    }
   ],
   "source": [
    "a=list(model.children())\n",
    "a"
   ]
  },
  {
   "cell_type": "code",
   "execution_count": 79,
   "metadata": {},
   "outputs": [
    {
     "data": {
      "text/plain": [
       "Sequential(\n",
       "  (0): DistilBertModel(\n",
       "    (embeddings): Embeddings(\n",
       "      (word_embeddings): Embedding(30522, 768, padding_idx=0)\n",
       "      (position_embeddings): Embedding(512, 768)\n",
       "      (LayerNorm): LayerNorm((768,), eps=1e-12, elementwise_affine=True)\n",
       "      (dropout): Dropout(p=0.1, inplace=False)\n",
       "    )\n",
       "    (transformer): Transformer(\n",
       "      (layer): ModuleList(\n",
       "        (0-5): 6 x TransformerBlock(\n",
       "          (attention): DistilBertSdpaAttention(\n",
       "            (dropout): Dropout(p=0.1, inplace=False)\n",
       "            (q_lin): Linear(in_features=768, out_features=768, bias=True)\n",
       "            (k_lin): Linear(in_features=768, out_features=768, bias=True)\n",
       "            (v_lin): Linear(in_features=768, out_features=768, bias=True)\n",
       "            (out_lin): Linear(in_features=768, out_features=768, bias=True)\n",
       "          )\n",
       "          (sa_layer_norm): LayerNorm((768,), eps=1e-12, elementwise_affine=True)\n",
       "          (ffn): FFN(\n",
       "            (dropout): Dropout(p=0.1, inplace=False)\n",
       "            (lin1): Linear(in_features=768, out_features=3072, bias=True)\n",
       "            (lin2): Linear(in_features=3072, out_features=768, bias=True)\n",
       "            (activation): GELUActivation()\n",
       "          )\n",
       "          (output_layer_norm): LayerNorm((768,), eps=1e-12, elementwise_affine=True)\n",
       "        )\n",
       "      )\n",
       "    )\n",
       "  )\n",
       ")"
      ]
     },
     "execution_count": 79,
     "metadata": {},
     "output_type": "execute_result"
    }
   ],
   "source": [
    "backbone = nn.Sequential(*list(model.children()))[:-2]\n",
    "backbone"
   ]
  },
  {
   "cell_type": "code",
   "execution_count": null,
   "metadata": {},
   "outputs": [],
   "source": [
    "class Term_BertModel(nn.Module):\n",
    "    def __init__(self, bert):\n",
    "        super(ABSAModel,self).__init__()\n",
    "        self.backbone = nn.Sequential(*list(bert.children()))[:-2]\n",
    "        self.fc = nn.Sequential(\n",
    "            nn.Linear(768,512),\n",
    "            nn.GELU(),\n",
    "            nn.Dropout(0.2),\n",
    "            nn.Linear(512,256),\n",
    "            nn.GELU(),\n",
    "            nn.Dropout(0.2),\n",
    "            nn.Linear(256,3)\n",
    "        )\n",
    "\n",
    "    def forward(self, input):\n",
    "        input = self.backbone(input).last_hidden_state\n",
    "        logits = self.fc(input)\n",
    "        \n",
    "        return logits.permute(0,2,1)\n",
    "        "
   ]
  },
  {
   "cell_type": "code",
   "execution_count": null,
   "metadata": {},
   "outputs": [],
   "source": [
    "class ABSADataset(Dataset):\n",
    "    def __init__(self, data, tokenize, tokenizer, seq_len):\n",
    "        temp= tokenize(data, tokenizer, seq_len)\n",
    "        self.input_ids= temp['input_ids']\n",
    "        self.labels = temp['labels']\n",
    "    \n",
    "    def __len__(self):\n",
    "        return len(self.input_ids)\n",
    "\n",
    "    def __getitem__(self, idx):\n",
    "        return self.input_ids[idx], self.labels[idx]\n",
    "    \n",
    "    \n",
    "    "
   ]
  },
  {
   "cell_type": "code",
   "execution_count": 98,
   "metadata": {},
   "outputs": [],
   "source": [
    "train_ds = ABSADataset(data,tokenizer,seq_len)"
   ]
  },
  {
   "cell_type": "code",
   "execution_count": 99,
   "metadata": {},
   "outputs": [],
   "source": [
    "train_loader = DataLoader(train_ds, batch_size=32,shuffle=True)"
   ]
  },
  {
   "cell_type": "code",
   "execution_count": 105,
   "metadata": {},
   "outputs": [],
   "source": [
    "def train(model, train_loader, device,optimizer, criterion, epochs):\n",
    "    total_losses=[]\n",
    "    for epoch in tqdm(range(epochs),desc='Epoch'):\n",
    "        epoch_loss=[]\n",
    "        model.train()\n",
    "        for idx, (input_ids, labels) in enumerate(tqdm(train_loader,desc='Training',leave=False)):\n",
    "            optimizer.zero_grad()\n",
    "            input_ids= input_ids.to(device)\n",
    "            labels= labels.to(device)\n",
    "            preds = model(input_ids)\n",
    "            loss= criterion(preds, labels)\n",
    "            loss.backward()\n",
    "            optimizer.step()\n",
    "            \n",
    "            epoch_loss.append(loss)\n",
    "        avg_loss = sum(epoch_loss)/len(epoch_loss)\n",
    "        total_losses.append(avg_loss)\n",
    "        print(f'Epoch {epoch+1}\\t Training Loss: {avg_loss:.4f}')\n",
    "    train_loss = sum(total_losses)/len(total_losses)\n",
    "    \n",
    "    print(f'Total Loss: {train_loss:.4f}')\n",
    "    "
   ]
  },
  {
   "cell_type": "code",
   "execution_count": 139,
   "metadata": {},
   "outputs": [],
   "source": [
    "device= 'cuda' if torch.cuda.is_available() else 'cpu'\n",
    "\n",
    "model =ABSAModel(bert)\n",
    "model = model.to(device)\n",
    "optimizer = torch.optim.Adam(model.parameters(),lr = 1e-5)\n",
    "criterion= nn.CrossEntropyLoss()"
   ]
  },
  {
   "cell_type": "code",
   "execution_count": null,
   "metadata": {},
   "outputs": [
    {
     "name": "stderr",
     "output_type": "stream",
     "text": [
      "Epoch:   0%|          | 0/10 [00:00<?, ?it/s]"
     ]
    }
   ],
   "source": [
    "train(model, train_loader,device,optimizer,criterion,10)"
   ]
  },
  {
   "cell_type": "code",
   "execution_count": 45,
   "metadata": {},
   "outputs": [
    {
     "data": {
      "text/plain": [
       "{'input_ids': tensor([[  101, 10047,  2183,  2000,  2082,   102,  2183,   102]]), 'attention_mask': tensor([[1, 1, 1, 1, 1, 1, 1, 1]])}"
      ]
     },
     "execution_count": 45,
     "metadata": {},
     "output_type": "execute_result"
    }
   ],
   "source": [
    "tokenizer('im going to school','going',truncation=True, padding=True, return_tensors='pt')"
   ]
  },
  {
   "cell_type": "code",
   "execution_count": 51,
   "metadata": {},
   "outputs": [],
   "source": [
    "seq_len = max([len(tokenizer(sentence, aspect_term)['input_ids']) for sentence,aspect_term in zip(data['sentence'],data['aspect_term'])])"
   ]
  },
  {
   "cell_type": "code",
   "execution_count": 52,
   "metadata": {},
   "outputs": [
    {
     "data": {
      "text/plain": [
       "89"
      ]
     },
     "execution_count": 52,
     "metadata": {},
     "output_type": "execute_result"
    }
   ],
   "source": [
    "seq_len"
   ]
  },
  {
   "cell_type": "code",
   "execution_count": null,
   "metadata": {},
   "outputs": [
    {
     "data": {
      "text/plain": [
       "100"
      ]
     },
     "execution_count": 53,
     "metadata": {},
     "output_type": "execute_result"
    }
   ],
   "source": []
  },
  {
   "cell_type": "code",
   "execution_count": 58,
   "metadata": {},
   "outputs": [],
   "source": [
    "dt = sentiment_bert_tokenize(data,tokenizer,seq_len)"
   ]
  },
  {
   "cell_type": "code",
   "execution_count": 1,
   "metadata": {},
   "outputs": [],
   "source": [
    "import torch\n",
    "import torch.nn as nn"
   ]
  },
  {
   "cell_type": "code",
   "execution_count": 9,
   "metadata": {},
   "outputs": [],
   "source": [
    "class Sentiment_BertModel(nn.Module):\n",
    "    def __init__(self, bert):\n",
    "        super(Sentiment_BertModel,self).__init__()\n",
    "        self.backbone = nn.Sequential(*list(bert.children()))[:-2]\n",
    "        self.fc = nn.Sequential(\n",
    "            nn.Linear(768,512),\n",
    "            nn.GELU(),\n",
    "            nn.Dropout(0.2),\n",
    "            nn.Linear(512,256),\n",
    "            nn.GELU(),\n",
    "            nn.Dropout(0.2),\n",
    "            nn.Linear(256,3)\n",
    "        )\n",
    "\n",
    "    def forward(self, input):\n",
    "        input = self.backbone(input).last_hidden_state[:,0,:].squeeze(1)\n",
    "        logits = self.fc(input)\n",
    "        return logits.permute(0,2,1) #NxCxL\n",
    "        "
   ]
  },
  {
   "cell_type": "code",
   "execution_count": 10,
   "metadata": {},
   "outputs": [],
   "source": [
    "model =Sentiment_BertModel(bert)"
   ]
  },
  {
   "cell_type": "code",
   "execution_count": 11,
   "metadata": {},
   "outputs": [
    {
     "data": {
      "text/plain": [
       "<All keys matched successfully>"
      ]
     },
     "execution_count": 11,
     "metadata": {},
     "output_type": "execute_result"
    }
   ],
   "source": [
    "model.load_state_dict(torch.load('checkpoints/sentiment_model.pth'))"
   ]
  },
  {
   "cell_type": "code",
   "execution_count": 4,
   "metadata": {},
   "outputs": [
    {
     "data": {
      "text/plain": [
       "tensor([0, 2, 3, 4])"
      ]
     },
     "execution_count": 4,
     "metadata": {},
     "output_type": "execute_result"
    }
   ],
   "source": [
    "sentence= torch.tensor([0,2,3,4])\n",
    "a= sentence.squeeze(0)\n",
    "a"
   ]
  },
  {
   "cell_type": "code",
   "execution_count": 1,
   "metadata": {},
   "outputs": [
    {
     "name": "stdout",
     "output_type": "stream",
     "text": [
      "False\n"
     ]
    }
   ],
   "source": [
    "import torch\n",
    "\n",
    "print(torch.cuda.is_available())"
   ]
  }
 ],
 "metadata": {
  "kernelspec": {
   "display_name": "Python 3",
   "language": "python",
   "name": "python3"
  },
  "language_info": {
   "codemirror_mode": {
    "name": "ipython",
    "version": 3
   },
   "file_extension": ".py",
   "mimetype": "text/x-python",
   "name": "python",
   "nbconvert_exporter": "python",
   "pygments_lexer": "ipython3",
   "version": "3.13.2"
  }
 },
 "nbformat": 4,
 "nbformat_minor": 2
}
